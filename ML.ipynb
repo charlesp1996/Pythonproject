{
 "cells": [
  {
   "cell_type": "markdown",
   "metadata": {},
   "source": [
    "# Random Forest and regression to overcome obstacles"
   ]
  },
  {
   "cell_type": "markdown",
   "metadata": {},
   "source": [
    "## Import the relevant libraries"
   ]
  },
  {
   "cell_type": "code",
   "execution_count": 1,
   "metadata": {},
   "outputs": [],
   "source": [
    "import pandas as pd\n",
    "import numpy as np\n",
    "from sklearn.datasets import make_regression\n",
    "from sklearn.model_selection import train_test_split\n",
    "from sklearn.ensemble import RandomForestRegressor\n",
    "from sklearn.multioutput import MultiOutputRegressor\n",
    "from sklearn.model_selection import train_test_split"
   ]
  },
  {
   "cell_type": "code",
   "execution_count": 2,
   "metadata": {},
   "outputs": [],
   "source": [
    "df = pd.read_csv(\"https://raw.githubusercontent.com/charlesp1996/Pythonproject/main/data.csv\")"
   ]
  },
  {
   "cell_type": "code",
   "execution_count": 3,
   "metadata": {
    "scrolled": true
   },
   "outputs": [
    {
     "data": {
      "text/html": [
       "<div>\n",
       "<style scoped>\n",
       "    .dataframe tbody tr th:only-of-type {\n",
       "        vertical-align: middle;\n",
       "    }\n",
       "\n",
       "    .dataframe tbody tr th {\n",
       "        vertical-align: top;\n",
       "    }\n",
       "\n",
       "    .dataframe thead th {\n",
       "        text-align: right;\n",
       "    }\n",
       "</style>\n",
       "<table border=\"1\" class=\"dataframe\">\n",
       "  <thead>\n",
       "    <tr style=\"text-align: right;\">\n",
       "      <th></th>\n",
       "      <th>region_nord</th>\n",
       "      <th>region_centre</th>\n",
       "      <th>region_sud</th>\n",
       "      <th>Month Value</th>\n",
       "      <th>Year Value</th>\n",
       "      <th>Vitesse du vent Axa0 100m (m/s)</th>\n",
       "      <th>Production éolienne (GWh)</th>\n",
       "      <th>Rayonnement solaire global (W/m2)</th>\n",
       "      <th>Production solaire (GWh)</th>\n",
       "    </tr>\n",
       "  </thead>\n",
       "  <tbody>\n",
       "    <tr>\n",
       "      <th>0</th>\n",
       "      <td>1</td>\n",
       "      <td>0</td>\n",
       "      <td>0</td>\n",
       "      <td>2</td>\n",
       "      <td>2014</td>\n",
       "      <td>NaN</td>\n",
       "      <td>6.518965</td>\n",
       "      <td>NaN</td>\n",
       "      <td>2.931509</td>\n",
       "    </tr>\n",
       "    <tr>\n",
       "      <th>1</th>\n",
       "      <td>0</td>\n",
       "      <td>0</td>\n",
       "      <td>1</td>\n",
       "      <td>3</td>\n",
       "      <td>2014</td>\n",
       "      <td>NaN</td>\n",
       "      <td>220.644746</td>\n",
       "      <td>NaN</td>\n",
       "      <td>116.568735</td>\n",
       "    </tr>\n",
       "    <tr>\n",
       "      <th>2</th>\n",
       "      <td>0</td>\n",
       "      <td>0</td>\n",
       "      <td>1</td>\n",
       "      <td>4</td>\n",
       "      <td>2014</td>\n",
       "      <td>NaN</td>\n",
       "      <td>189.563606</td>\n",
       "      <td>NaN</td>\n",
       "      <td>125.730294</td>\n",
       "    </tr>\n",
       "    <tr>\n",
       "      <th>3</th>\n",
       "      <td>0</td>\n",
       "      <td>0</td>\n",
       "      <td>1</td>\n",
       "      <td>4</td>\n",
       "      <td>2014</td>\n",
       "      <td>NaN</td>\n",
       "      <td>9.671714</td>\n",
       "      <td>NaN</td>\n",
       "      <td>98.951709</td>\n",
       "    </tr>\n",
       "    <tr>\n",
       "      <th>4</th>\n",
       "      <td>1</td>\n",
       "      <td>0</td>\n",
       "      <td>0</td>\n",
       "      <td>5</td>\n",
       "      <td>2014</td>\n",
       "      <td>NaN</td>\n",
       "      <td>363.412141</td>\n",
       "      <td>NaN</td>\n",
       "      <td>58.899353</td>\n",
       "    </tr>\n",
       "    <tr>\n",
       "      <th>...</th>\n",
       "      <td>...</td>\n",
       "      <td>...</td>\n",
       "      <td>...</td>\n",
       "      <td>...</td>\n",
       "      <td>...</td>\n",
       "      <td>...</td>\n",
       "      <td>...</td>\n",
       "      <td>...</td>\n",
       "      <td>...</td>\n",
       "    </tr>\n",
       "    <tr>\n",
       "      <th>1248</th>\n",
       "      <td>0</td>\n",
       "      <td>0</td>\n",
       "      <td>1</td>\n",
       "      <td>3</td>\n",
       "      <td>2021</td>\n",
       "      <td>0.0</td>\n",
       "      <td>NaN</td>\n",
       "      <td>5.82</td>\n",
       "      <td>NaN</td>\n",
       "    </tr>\n",
       "    <tr>\n",
       "      <th>1249</th>\n",
       "      <td>0</td>\n",
       "      <td>0</td>\n",
       "      <td>1</td>\n",
       "      <td>3</td>\n",
       "      <td>2021</td>\n",
       "      <td>0.0</td>\n",
       "      <td>NaN</td>\n",
       "      <td>6.74</td>\n",
       "      <td>NaN</td>\n",
       "    </tr>\n",
       "    <tr>\n",
       "      <th>1250</th>\n",
       "      <td>0</td>\n",
       "      <td>1</td>\n",
       "      <td>0</td>\n",
       "      <td>3</td>\n",
       "      <td>2021</td>\n",
       "      <td>0.0</td>\n",
       "      <td>NaN</td>\n",
       "      <td>7.15</td>\n",
       "      <td>NaN</td>\n",
       "    </tr>\n",
       "    <tr>\n",
       "      <th>1251</th>\n",
       "      <td>0</td>\n",
       "      <td>0</td>\n",
       "      <td>1</td>\n",
       "      <td>3</td>\n",
       "      <td>2021</td>\n",
       "      <td>0.0</td>\n",
       "      <td>NaN</td>\n",
       "      <td>6.04</td>\n",
       "      <td>NaN</td>\n",
       "    </tr>\n",
       "    <tr>\n",
       "      <th>1252</th>\n",
       "      <td>1</td>\n",
       "      <td>0</td>\n",
       "      <td>0</td>\n",
       "      <td>3</td>\n",
       "      <td>2021</td>\n",
       "      <td>0.0</td>\n",
       "      <td>NaN</td>\n",
       "      <td>6.35</td>\n",
       "      <td>NaN</td>\n",
       "    </tr>\n",
       "  </tbody>\n",
       "</table>\n",
       "<p>1253 rows × 9 columns</p>\n",
       "</div>"
      ],
      "text/plain": [
       "      region_nord  region_centre  region_sud  Month Value  Year Value  \\\n",
       "0               1              0           0            2        2014   \n",
       "1               0              0           1            3        2014   \n",
       "2               0              0           1            4        2014   \n",
       "3               0              0           1            4        2014   \n",
       "4               1              0           0            5        2014   \n",
       "...           ...            ...         ...          ...         ...   \n",
       "1248            0              0           1            3        2021   \n",
       "1249            0              0           1            3        2021   \n",
       "1250            0              1           0            3        2021   \n",
       "1251            0              0           1            3        2021   \n",
       "1252            1              0           0            3        2021   \n",
       "\n",
       "      Vitesse du vent Axa0 100m (m/s)  Production éolienne (GWh)  \\\n",
       "0                                 NaN                   6.518965   \n",
       "1                                 NaN                 220.644746   \n",
       "2                                 NaN                 189.563606   \n",
       "3                                 NaN                   9.671714   \n",
       "4                                 NaN                 363.412141   \n",
       "...                               ...                        ...   \n",
       "1248                              0.0                        NaN   \n",
       "1249                              0.0                        NaN   \n",
       "1250                              0.0                        NaN   \n",
       "1251                              0.0                        NaN   \n",
       "1252                              0.0                        NaN   \n",
       "\n",
       "      Rayonnement solaire global (W/m2)  Production solaire (GWh)  \n",
       "0                                   NaN                  2.931509  \n",
       "1                                   NaN                116.568735  \n",
       "2                                   NaN                125.730294  \n",
       "3                                   NaN                 98.951709  \n",
       "4                                   NaN                 58.899353  \n",
       "...                                 ...                       ...  \n",
       "1248                               5.82                       NaN  \n",
       "1249                               6.74                       NaN  \n",
       "1250                               7.15                       NaN  \n",
       "1251                               6.04                       NaN  \n",
       "1252                               6.35                       NaN  \n",
       "\n",
       "[1253 rows x 9 columns]"
      ]
     },
     "execution_count": 3,
     "metadata": {},
     "output_type": "execute_result"
    }
   ],
   "source": [
    "df"
   ]
  },
  {
   "cell_type": "code",
   "execution_count": 4,
   "metadata": {},
   "outputs": [],
   "source": [
    "df = df[df['Rayonnement solaire global (W/m2)'].notna()]"
   ]
  },
  {
   "cell_type": "code",
   "execution_count": 5,
   "metadata": {},
   "outputs": [
    {
     "data": {
      "text/plain": [
       "['region_nord',\n",
       " 'region_centre',\n",
       " 'region_sud',\n",
       " 'Month Value',\n",
       " 'Year Value',\n",
       " 'Vitesse du vent Axa0 100m (m/s)',\n",
       " 'Production éolienne (GWh)',\n",
       " 'Rayonnement solaire global (W/m2)',\n",
       " 'Production solaire (GWh)']"
      ]
     },
     "execution_count": 5,
     "metadata": {},
     "output_type": "execute_result"
    }
   ],
   "source": [
    "cols = df.columns.tolist()\n",
    "cols"
   ]
  },
  {
   "cell_type": "markdown",
   "metadata": {},
   "source": [
    "### Solaire"
   ]
  },
  {
   "cell_type": "code",
   "execution_count": 6,
   "metadata": {},
   "outputs": [],
   "source": [
    "colss = cols[:5] + cols[7:9]"
   ]
  },
  {
   "cell_type": "code",
   "execution_count": 7,
   "metadata": {},
   "outputs": [
    {
     "data": {
      "text/plain": [
       "['region_nord',\n",
       " 'region_centre',\n",
       " 'region_sud',\n",
       " 'Month Value',\n",
       " 'Year Value',\n",
       " 'Rayonnement solaire global (W/m2)',\n",
       " 'Production solaire (GWh)']"
      ]
     },
     "execution_count": 7,
     "metadata": {},
     "output_type": "execute_result"
    }
   ],
   "source": [
    "colss"
   ]
  },
  {
   "cell_type": "code",
   "execution_count": 8,
   "metadata": {},
   "outputs": [],
   "source": [
    "dfs = df[colss]"
   ]
  },
  {
   "cell_type": "code",
   "execution_count": 9,
   "metadata": {
    "scrolled": true
   },
   "outputs": [
    {
     "data": {
      "text/html": [
       "<div>\n",
       "<style scoped>\n",
       "    .dataframe tbody tr th:only-of-type {\n",
       "        vertical-align: middle;\n",
       "    }\n",
       "\n",
       "    .dataframe tbody tr th {\n",
       "        vertical-align: top;\n",
       "    }\n",
       "\n",
       "    .dataframe thead th {\n",
       "        text-align: right;\n",
       "    }\n",
       "</style>\n",
       "<table border=\"1\" class=\"dataframe\">\n",
       "  <thead>\n",
       "    <tr style=\"text-align: right;\">\n",
       "      <th></th>\n",
       "      <th>region_nord</th>\n",
       "      <th>region_centre</th>\n",
       "      <th>region_sud</th>\n",
       "      <th>Month Value</th>\n",
       "      <th>Year Value</th>\n",
       "      <th>Rayonnement solaire global (W/m2)</th>\n",
       "      <th>Production solaire (GWh)</th>\n",
       "    </tr>\n",
       "  </thead>\n",
       "  <tbody>\n",
       "    <tr>\n",
       "      <th>47</th>\n",
       "      <td>0</td>\n",
       "      <td>1</td>\n",
       "      <td>0</td>\n",
       "      <td>1</td>\n",
       "      <td>2016</td>\n",
       "      <td>7.466964</td>\n",
       "      <td>7.040643</td>\n",
       "    </tr>\n",
       "    <tr>\n",
       "      <th>48</th>\n",
       "      <td>1</td>\n",
       "      <td>0</td>\n",
       "      <td>0</td>\n",
       "      <td>1</td>\n",
       "      <td>2016</td>\n",
       "      <td>8.295263</td>\n",
       "      <td>5.596140</td>\n",
       "    </tr>\n",
       "    <tr>\n",
       "      <th>49</th>\n",
       "      <td>0</td>\n",
       "      <td>1</td>\n",
       "      <td>0</td>\n",
       "      <td>2</td>\n",
       "      <td>2016</td>\n",
       "      <td>9.242543</td>\n",
       "      <td>23.337292</td>\n",
       "    </tr>\n",
       "    <tr>\n",
       "      <th>50</th>\n",
       "      <td>0</td>\n",
       "      <td>1</td>\n",
       "      <td>0</td>\n",
       "      <td>2</td>\n",
       "      <td>2016</td>\n",
       "      <td>9.946336</td>\n",
       "      <td>9.640264</td>\n",
       "    </tr>\n",
       "    <tr>\n",
       "      <th>51</th>\n",
       "      <td>0</td>\n",
       "      <td>0</td>\n",
       "      <td>1</td>\n",
       "      <td>2</td>\n",
       "      <td>2016</td>\n",
       "      <td>6.508233</td>\n",
       "      <td>116.805294</td>\n",
       "    </tr>\n",
       "    <tr>\n",
       "      <th>...</th>\n",
       "      <td>...</td>\n",
       "      <td>...</td>\n",
       "      <td>...</td>\n",
       "      <td>...</td>\n",
       "      <td>...</td>\n",
       "      <td>...</td>\n",
       "      <td>...</td>\n",
       "    </tr>\n",
       "    <tr>\n",
       "      <th>1248</th>\n",
       "      <td>0</td>\n",
       "      <td>0</td>\n",
       "      <td>1</td>\n",
       "      <td>3</td>\n",
       "      <td>2021</td>\n",
       "      <td>5.820000</td>\n",
       "      <td>NaN</td>\n",
       "    </tr>\n",
       "    <tr>\n",
       "      <th>1249</th>\n",
       "      <td>0</td>\n",
       "      <td>0</td>\n",
       "      <td>1</td>\n",
       "      <td>3</td>\n",
       "      <td>2021</td>\n",
       "      <td>6.740000</td>\n",
       "      <td>NaN</td>\n",
       "    </tr>\n",
       "    <tr>\n",
       "      <th>1250</th>\n",
       "      <td>0</td>\n",
       "      <td>1</td>\n",
       "      <td>0</td>\n",
       "      <td>3</td>\n",
       "      <td>2021</td>\n",
       "      <td>7.150000</td>\n",
       "      <td>NaN</td>\n",
       "    </tr>\n",
       "    <tr>\n",
       "      <th>1251</th>\n",
       "      <td>0</td>\n",
       "      <td>0</td>\n",
       "      <td>1</td>\n",
       "      <td>3</td>\n",
       "      <td>2021</td>\n",
       "      <td>6.040000</td>\n",
       "      <td>NaN</td>\n",
       "    </tr>\n",
       "    <tr>\n",
       "      <th>1252</th>\n",
       "      <td>1</td>\n",
       "      <td>0</td>\n",
       "      <td>0</td>\n",
       "      <td>3</td>\n",
       "      <td>2021</td>\n",
       "      <td>6.350000</td>\n",
       "      <td>NaN</td>\n",
       "    </tr>\n",
       "  </tbody>\n",
       "</table>\n",
       "<p>821 rows × 7 columns</p>\n",
       "</div>"
      ],
      "text/plain": [
       "      region_nord  region_centre  region_sud  Month Value  Year Value  \\\n",
       "47              0              1           0            1        2016   \n",
       "48              1              0           0            1        2016   \n",
       "49              0              1           0            2        2016   \n",
       "50              0              1           0            2        2016   \n",
       "51              0              0           1            2        2016   \n",
       "...           ...            ...         ...          ...         ...   \n",
       "1248            0              0           1            3        2021   \n",
       "1249            0              0           1            3        2021   \n",
       "1250            0              1           0            3        2021   \n",
       "1251            0              0           1            3        2021   \n",
       "1252            1              0           0            3        2021   \n",
       "\n",
       "      Rayonnement solaire global (W/m2)  Production solaire (GWh)  \n",
       "47                             7.466964                  7.040643  \n",
       "48                             8.295263                  5.596140  \n",
       "49                             9.242543                 23.337292  \n",
       "50                             9.946336                  9.640264  \n",
       "51                             6.508233                116.805294  \n",
       "...                                 ...                       ...  \n",
       "1248                           5.820000                       NaN  \n",
       "1249                           6.740000                       NaN  \n",
       "1250                           7.150000                       NaN  \n",
       "1251                           6.040000                       NaN  \n",
       "1252                           6.350000                       NaN  \n",
       "\n",
       "[821 rows x 7 columns]"
      ]
     },
     "execution_count": 9,
     "metadata": {},
     "output_type": "execute_result"
    }
   ],
   "source": [
    "dfs"
   ]
  },
  {
   "cell_type": "code",
   "execution_count": 10,
   "metadata": {},
   "outputs": [],
   "source": [
    "X,y = make_regression(n_samples=821, n_features=6,\n",
    "                                 n_informative=5, n_targets=1,  \n",
    "                                 tail_strength=0.5,  \n",
    "                                 shuffle=True, coef=False, random_state=0)\n",
    "notnans = dfs['Production solaire (GWh)'].notnull()\n",
    "df_notnans = df[notnans]\n",
    "X_train, X_test, y_train, y_test = train_test_split(df_notnans[colss[:6]], df_notnans[colss[6:7]],\n",
    "                                                    train_size=0.75,\n",
    "                                                    random_state=250)"
   ]
  },
  {
   "cell_type": "code",
   "execution_count": 11,
   "metadata": {},
   "outputs": [
    {
     "name": "stdout",
     "output_type": "stream",
     "text": [
      "The prediction score on the test data is 64.75%\n"
     ]
    }
   ],
   "source": [
    "regr_multirf = MultiOutputRegressor(RandomForestRegressor(max_depth=30,\n",
    "                                                          random_state=0))\n",
    "\n",
    "# Fit on the train data\n",
    "regr_multirf.fit(X_train, y_train)\n",
    "\n",
    "# Check the prediction score\n",
    "score = regr_multirf.score(X_test, y_test)\n",
    "print(\"The prediction score on the test data is {:.2f}%\".format(score*100))"
   ]
  },
  {
   "cell_type": "code",
   "execution_count": 12,
   "metadata": {},
   "outputs": [
    {
     "data": {
      "text/html": [
       "<div>\n",
       "<style scoped>\n",
       "    .dataframe tbody tr th:only-of-type {\n",
       "        vertical-align: middle;\n",
       "    }\n",
       "\n",
       "    .dataframe tbody tr th {\n",
       "        vertical-align: top;\n",
       "    }\n",
       "\n",
       "    .dataframe thead th {\n",
       "        text-align: right;\n",
       "    }\n",
       "</style>\n",
       "<table border=\"1\" class=\"dataframe\">\n",
       "  <thead>\n",
       "    <tr style=\"text-align: right;\">\n",
       "      <th></th>\n",
       "      <th>region_nord</th>\n",
       "      <th>region_centre</th>\n",
       "      <th>region_sud</th>\n",
       "      <th>Month Value</th>\n",
       "      <th>Year Value</th>\n",
       "      <th>Rayonnement solaire global (W/m2)</th>\n",
       "      <th>Production solaire (GWh)</th>\n",
       "    </tr>\n",
       "  </thead>\n",
       "  <tbody>\n",
       "    <tr>\n",
       "      <th>1092</th>\n",
       "      <td>1</td>\n",
       "      <td>0</td>\n",
       "      <td>0</td>\n",
       "      <td>1</td>\n",
       "      <td>2016</td>\n",
       "      <td>6.130850</td>\n",
       "      <td>10.805883</td>\n",
       "    </tr>\n",
       "    <tr>\n",
       "      <th>1093</th>\n",
       "      <td>0</td>\n",
       "      <td>0</td>\n",
       "      <td>0</td>\n",
       "      <td>1</td>\n",
       "      <td>2016</td>\n",
       "      <td>7.882551</td>\n",
       "      <td>7.651051</td>\n",
       "    </tr>\n",
       "    <tr>\n",
       "      <th>1094</th>\n",
       "      <td>1</td>\n",
       "      <td>0</td>\n",
       "      <td>0</td>\n",
       "      <td>2</td>\n",
       "      <td>2016</td>\n",
       "      <td>6.926638</td>\n",
       "      <td>7.326095</td>\n",
       "    </tr>\n",
       "    <tr>\n",
       "      <th>1095</th>\n",
       "      <td>0</td>\n",
       "      <td>0</td>\n",
       "      <td>0</td>\n",
       "      <td>2</td>\n",
       "      <td>2016</td>\n",
       "      <td>8.113793</td>\n",
       "      <td>12.297672</td>\n",
       "    </tr>\n",
       "    <tr>\n",
       "      <th>1096</th>\n",
       "      <td>1</td>\n",
       "      <td>0</td>\n",
       "      <td>0</td>\n",
       "      <td>3</td>\n",
       "      <td>2016</td>\n",
       "      <td>5.711842</td>\n",
       "      <td>16.241297</td>\n",
       "    </tr>\n",
       "    <tr>\n",
       "      <th>...</th>\n",
       "      <td>...</td>\n",
       "      <td>...</td>\n",
       "      <td>...</td>\n",
       "      <td>...</td>\n",
       "      <td>...</td>\n",
       "      <td>...</td>\n",
       "      <td>...</td>\n",
       "    </tr>\n",
       "    <tr>\n",
       "      <th>1248</th>\n",
       "      <td>0</td>\n",
       "      <td>0</td>\n",
       "      <td>1</td>\n",
       "      <td>3</td>\n",
       "      <td>2021</td>\n",
       "      <td>5.820000</td>\n",
       "      <td>236.481544</td>\n",
       "    </tr>\n",
       "    <tr>\n",
       "      <th>1249</th>\n",
       "      <td>0</td>\n",
       "      <td>0</td>\n",
       "      <td>1</td>\n",
       "      <td>3</td>\n",
       "      <td>2021</td>\n",
       "      <td>6.740000</td>\n",
       "      <td>214.822227</td>\n",
       "    </tr>\n",
       "    <tr>\n",
       "      <th>1250</th>\n",
       "      <td>0</td>\n",
       "      <td>1</td>\n",
       "      <td>0</td>\n",
       "      <td>3</td>\n",
       "      <td>2021</td>\n",
       "      <td>7.150000</td>\n",
       "      <td>28.393754</td>\n",
       "    </tr>\n",
       "    <tr>\n",
       "      <th>1251</th>\n",
       "      <td>0</td>\n",
       "      <td>0</td>\n",
       "      <td>1</td>\n",
       "      <td>3</td>\n",
       "      <td>2021</td>\n",
       "      <td>6.040000</td>\n",
       "      <td>187.794577</td>\n",
       "    </tr>\n",
       "    <tr>\n",
       "      <th>1252</th>\n",
       "      <td>1</td>\n",
       "      <td>0</td>\n",
       "      <td>0</td>\n",
       "      <td>3</td>\n",
       "      <td>2021</td>\n",
       "      <td>6.350000</td>\n",
       "      <td>21.978899</td>\n",
       "    </tr>\n",
       "  </tbody>\n",
       "</table>\n",
       "<p>161 rows × 7 columns</p>\n",
       "</div>"
      ],
      "text/plain": [
       "      region_nord  region_centre  region_sud  Month Value  Year Value  \\\n",
       "1092            1              0           0            1        2016   \n",
       "1093            0              0           0            1        2016   \n",
       "1094            1              0           0            2        2016   \n",
       "1095            0              0           0            2        2016   \n",
       "1096            1              0           0            3        2016   \n",
       "...           ...            ...         ...          ...         ...   \n",
       "1248            0              0           1            3        2021   \n",
       "1249            0              0           1            3        2021   \n",
       "1250            0              1           0            3        2021   \n",
       "1251            0              0           1            3        2021   \n",
       "1252            1              0           0            3        2021   \n",
       "\n",
       "      Rayonnement solaire global (W/m2)  Production solaire (GWh)  \n",
       "1092                           6.130850                 10.805883  \n",
       "1093                           7.882551                  7.651051  \n",
       "1094                           6.926638                  7.326095  \n",
       "1095                           8.113793                 12.297672  \n",
       "1096                           5.711842                 16.241297  \n",
       "...                                 ...                       ...  \n",
       "1248                           5.820000                236.481544  \n",
       "1249                           6.740000                214.822227  \n",
       "1250                           7.150000                 28.393754  \n",
       "1251                           6.040000                187.794577  \n",
       "1252                           6.350000                 21.978899  \n",
       "\n",
       "[161 rows x 7 columns]"
      ]
     },
     "execution_count": 12,
     "metadata": {},
     "output_type": "execute_result"
    }
   ],
   "source": [
    "df_nans = dfs.loc[~notnans].copy()\n",
    "df_nans[colss[6:7]] = regr_multirf.predict(df_nans[colss[0:6]])\n",
    "df_nans"
   ]
  },
  {
   "cell_type": "markdown",
   "metadata": {},
   "source": [
    "# Create the targets"
   ]
  },
  {
   "cell_type": "code",
   "execution_count": 13,
   "metadata": {},
   "outputs": [],
   "source": [
    "targets = np.where(df_nans['Production solaire (GWh)'] > df_nans['Production solaire (GWh)'].median(), 1, 0)"
   ]
  },
  {
   "cell_type": "code",
   "execution_count": 14,
   "metadata": {},
   "outputs": [
    {
     "data": {
      "text/plain": [
       "(161,)"
      ]
     },
     "execution_count": 14,
     "metadata": {},
     "output_type": "execute_result"
    }
   ],
   "source": [
    "targets.shape"
   ]
  },
  {
   "cell_type": "code",
   "execution_count": 15,
   "metadata": {},
   "outputs": [],
   "source": [
    "df_nans['Execessive Solar'] = targets"
   ]
  },
  {
   "cell_type": "markdown",
   "metadata": {},
   "source": [
    "# A comment on the targets"
   ]
  },
  {
   "cell_type": "code",
   "execution_count": 16,
   "metadata": {},
   "outputs": [
    {
     "data": {
      "text/plain": [
       "0.4968944099378882"
      ]
     },
     "execution_count": 16,
     "metadata": {},
     "output_type": "execute_result"
    }
   ],
   "source": [
    "targets.sum() / targets.shape[0]"
   ]
  },
  {
   "cell_type": "code",
   "execution_count": 17,
   "metadata": {},
   "outputs": [],
   "source": [
    "data_with_targets = df_nans"
   ]
  },
  {
   "cell_type": "code",
   "execution_count": 18,
   "metadata": {},
   "outputs": [
    {
     "data": {
      "text/html": [
       "<div>\n",
       "<style scoped>\n",
       "    .dataframe tbody tr th:only-of-type {\n",
       "        vertical-align: middle;\n",
       "    }\n",
       "\n",
       "    .dataframe tbody tr th {\n",
       "        vertical-align: top;\n",
       "    }\n",
       "\n",
       "    .dataframe thead th {\n",
       "        text-align: right;\n",
       "    }\n",
       "</style>\n",
       "<table border=\"1\" class=\"dataframe\">\n",
       "  <thead>\n",
       "    <tr style=\"text-align: right;\">\n",
       "      <th></th>\n",
       "      <th>region_nord</th>\n",
       "      <th>region_centre</th>\n",
       "      <th>region_sud</th>\n",
       "      <th>Month Value</th>\n",
       "      <th>Year Value</th>\n",
       "      <th>Rayonnement solaire global (W/m2)</th>\n",
       "      <th>Production solaire (GWh)</th>\n",
       "      <th>Execessive Solar</th>\n",
       "    </tr>\n",
       "  </thead>\n",
       "  <tbody>\n",
       "    <tr>\n",
       "      <th>1092</th>\n",
       "      <td>1</td>\n",
       "      <td>0</td>\n",
       "      <td>0</td>\n",
       "      <td>1</td>\n",
       "      <td>2016</td>\n",
       "      <td>6.130850</td>\n",
       "      <td>10.805883</td>\n",
       "      <td>0</td>\n",
       "    </tr>\n",
       "    <tr>\n",
       "      <th>1093</th>\n",
       "      <td>0</td>\n",
       "      <td>0</td>\n",
       "      <td>0</td>\n",
       "      <td>1</td>\n",
       "      <td>2016</td>\n",
       "      <td>7.882551</td>\n",
       "      <td>7.651051</td>\n",
       "      <td>0</td>\n",
       "    </tr>\n",
       "    <tr>\n",
       "      <th>1094</th>\n",
       "      <td>1</td>\n",
       "      <td>0</td>\n",
       "      <td>0</td>\n",
       "      <td>2</td>\n",
       "      <td>2016</td>\n",
       "      <td>6.926638</td>\n",
       "      <td>7.326095</td>\n",
       "      <td>0</td>\n",
       "    </tr>\n",
       "    <tr>\n",
       "      <th>1095</th>\n",
       "      <td>0</td>\n",
       "      <td>0</td>\n",
       "      <td>0</td>\n",
       "      <td>2</td>\n",
       "      <td>2016</td>\n",
       "      <td>8.113793</td>\n",
       "      <td>12.297672</td>\n",
       "      <td>0</td>\n",
       "    </tr>\n",
       "    <tr>\n",
       "      <th>1096</th>\n",
       "      <td>1</td>\n",
       "      <td>0</td>\n",
       "      <td>0</td>\n",
       "      <td>3</td>\n",
       "      <td>2016</td>\n",
       "      <td>5.711842</td>\n",
       "      <td>16.241297</td>\n",
       "      <td>0</td>\n",
       "    </tr>\n",
       "    <tr>\n",
       "      <th>...</th>\n",
       "      <td>...</td>\n",
       "      <td>...</td>\n",
       "      <td>...</td>\n",
       "      <td>...</td>\n",
       "      <td>...</td>\n",
       "      <td>...</td>\n",
       "      <td>...</td>\n",
       "      <td>...</td>\n",
       "    </tr>\n",
       "    <tr>\n",
       "      <th>1248</th>\n",
       "      <td>0</td>\n",
       "      <td>0</td>\n",
       "      <td>1</td>\n",
       "      <td>3</td>\n",
       "      <td>2021</td>\n",
       "      <td>5.820000</td>\n",
       "      <td>236.481544</td>\n",
       "      <td>1</td>\n",
       "    </tr>\n",
       "    <tr>\n",
       "      <th>1249</th>\n",
       "      <td>0</td>\n",
       "      <td>0</td>\n",
       "      <td>1</td>\n",
       "      <td>3</td>\n",
       "      <td>2021</td>\n",
       "      <td>6.740000</td>\n",
       "      <td>214.822227</td>\n",
       "      <td>1</td>\n",
       "    </tr>\n",
       "    <tr>\n",
       "      <th>1250</th>\n",
       "      <td>0</td>\n",
       "      <td>1</td>\n",
       "      <td>0</td>\n",
       "      <td>3</td>\n",
       "      <td>2021</td>\n",
       "      <td>7.150000</td>\n",
       "      <td>28.393754</td>\n",
       "      <td>1</td>\n",
       "    </tr>\n",
       "    <tr>\n",
       "      <th>1251</th>\n",
       "      <td>0</td>\n",
       "      <td>0</td>\n",
       "      <td>1</td>\n",
       "      <td>3</td>\n",
       "      <td>2021</td>\n",
       "      <td>6.040000</td>\n",
       "      <td>187.794577</td>\n",
       "      <td>1</td>\n",
       "    </tr>\n",
       "    <tr>\n",
       "      <th>1252</th>\n",
       "      <td>1</td>\n",
       "      <td>0</td>\n",
       "      <td>0</td>\n",
       "      <td>3</td>\n",
       "      <td>2021</td>\n",
       "      <td>6.350000</td>\n",
       "      <td>21.978899</td>\n",
       "      <td>1</td>\n",
       "    </tr>\n",
       "  </tbody>\n",
       "</table>\n",
       "<p>161 rows × 8 columns</p>\n",
       "</div>"
      ],
      "text/plain": [
       "      region_nord  region_centre  region_sud  Month Value  Year Value  \\\n",
       "1092            1              0           0            1        2016   \n",
       "1093            0              0           0            1        2016   \n",
       "1094            1              0           0            2        2016   \n",
       "1095            0              0           0            2        2016   \n",
       "1096            1              0           0            3        2016   \n",
       "...           ...            ...         ...          ...         ...   \n",
       "1248            0              0           1            3        2021   \n",
       "1249            0              0           1            3        2021   \n",
       "1250            0              1           0            3        2021   \n",
       "1251            0              0           1            3        2021   \n",
       "1252            1              0           0            3        2021   \n",
       "\n",
       "      Rayonnement solaire global (W/m2)  Production solaire (GWh)  \\\n",
       "1092                           6.130850                 10.805883   \n",
       "1093                           7.882551                  7.651051   \n",
       "1094                           6.926638                  7.326095   \n",
       "1095                           8.113793                 12.297672   \n",
       "1096                           5.711842                 16.241297   \n",
       "...                                 ...                       ...   \n",
       "1248                           5.820000                236.481544   \n",
       "1249                           6.740000                214.822227   \n",
       "1250                           7.150000                 28.393754   \n",
       "1251                           6.040000                187.794577   \n",
       "1252                           6.350000                 21.978899   \n",
       "\n",
       "      Execessive Solar  \n",
       "1092                 0  \n",
       "1093                 0  \n",
       "1094                 0  \n",
       "1095                 0  \n",
       "1096                 0  \n",
       "...                ...  \n",
       "1248                 1  \n",
       "1249                 1  \n",
       "1250                 1  \n",
       "1251                 1  \n",
       "1252                 1  \n",
       "\n",
       "[161 rows x 8 columns]"
      ]
     },
     "execution_count": 18,
     "metadata": {},
     "output_type": "execute_result"
    }
   ],
   "source": [
    "data_with_targets"
   ]
  },
  {
   "cell_type": "markdown",
   "metadata": {},
   "source": [
    "# Select the inputs for the regression"
   ]
  },
  {
   "cell_type": "code",
   "execution_count": 19,
   "metadata": {},
   "outputs": [
    {
     "data": {
      "text/plain": [
       "(161, 8)"
      ]
     },
     "execution_count": 19,
     "metadata": {},
     "output_type": "execute_result"
    }
   ],
   "source": [
    "data_with_targets.shape"
   ]
  },
  {
   "cell_type": "code",
   "execution_count": 20,
   "metadata": {},
   "outputs": [
    {
     "data": {
      "text/html": [
       "<div>\n",
       "<style scoped>\n",
       "    .dataframe tbody tr th:only-of-type {\n",
       "        vertical-align: middle;\n",
       "    }\n",
       "\n",
       "    .dataframe tbody tr th {\n",
       "        vertical-align: top;\n",
       "    }\n",
       "\n",
       "    .dataframe thead th {\n",
       "        text-align: right;\n",
       "    }\n",
       "</style>\n",
       "<table border=\"1\" class=\"dataframe\">\n",
       "  <thead>\n",
       "    <tr style=\"text-align: right;\">\n",
       "      <th></th>\n",
       "      <th>region_nord</th>\n",
       "      <th>region_centre</th>\n",
       "      <th>region_sud</th>\n",
       "      <th>Month Value</th>\n",
       "      <th>Year Value</th>\n",
       "      <th>Rayonnement solaire global (W/m2)</th>\n",
       "      <th>Production solaire (GWh)</th>\n",
       "    </tr>\n",
       "  </thead>\n",
       "  <tbody>\n",
       "    <tr>\n",
       "      <th>1092</th>\n",
       "      <td>1</td>\n",
       "      <td>0</td>\n",
       "      <td>0</td>\n",
       "      <td>1</td>\n",
       "      <td>2016</td>\n",
       "      <td>6.130850</td>\n",
       "      <td>10.805883</td>\n",
       "    </tr>\n",
       "    <tr>\n",
       "      <th>1093</th>\n",
       "      <td>0</td>\n",
       "      <td>0</td>\n",
       "      <td>0</td>\n",
       "      <td>1</td>\n",
       "      <td>2016</td>\n",
       "      <td>7.882551</td>\n",
       "      <td>7.651051</td>\n",
       "    </tr>\n",
       "    <tr>\n",
       "      <th>1094</th>\n",
       "      <td>1</td>\n",
       "      <td>0</td>\n",
       "      <td>0</td>\n",
       "      <td>2</td>\n",
       "      <td>2016</td>\n",
       "      <td>6.926638</td>\n",
       "      <td>7.326095</td>\n",
       "    </tr>\n",
       "    <tr>\n",
       "      <th>1095</th>\n",
       "      <td>0</td>\n",
       "      <td>0</td>\n",
       "      <td>0</td>\n",
       "      <td>2</td>\n",
       "      <td>2016</td>\n",
       "      <td>8.113793</td>\n",
       "      <td>12.297672</td>\n",
       "    </tr>\n",
       "    <tr>\n",
       "      <th>1096</th>\n",
       "      <td>1</td>\n",
       "      <td>0</td>\n",
       "      <td>0</td>\n",
       "      <td>3</td>\n",
       "      <td>2016</td>\n",
       "      <td>5.711842</td>\n",
       "      <td>16.241297</td>\n",
       "    </tr>\n",
       "    <tr>\n",
       "      <th>...</th>\n",
       "      <td>...</td>\n",
       "      <td>...</td>\n",
       "      <td>...</td>\n",
       "      <td>...</td>\n",
       "      <td>...</td>\n",
       "      <td>...</td>\n",
       "      <td>...</td>\n",
       "    </tr>\n",
       "    <tr>\n",
       "      <th>1248</th>\n",
       "      <td>0</td>\n",
       "      <td>0</td>\n",
       "      <td>1</td>\n",
       "      <td>3</td>\n",
       "      <td>2021</td>\n",
       "      <td>5.820000</td>\n",
       "      <td>236.481544</td>\n",
       "    </tr>\n",
       "    <tr>\n",
       "      <th>1249</th>\n",
       "      <td>0</td>\n",
       "      <td>0</td>\n",
       "      <td>1</td>\n",
       "      <td>3</td>\n",
       "      <td>2021</td>\n",
       "      <td>6.740000</td>\n",
       "      <td>214.822227</td>\n",
       "    </tr>\n",
       "    <tr>\n",
       "      <th>1250</th>\n",
       "      <td>0</td>\n",
       "      <td>1</td>\n",
       "      <td>0</td>\n",
       "      <td>3</td>\n",
       "      <td>2021</td>\n",
       "      <td>7.150000</td>\n",
       "      <td>28.393754</td>\n",
       "    </tr>\n",
       "    <tr>\n",
       "      <th>1251</th>\n",
       "      <td>0</td>\n",
       "      <td>0</td>\n",
       "      <td>1</td>\n",
       "      <td>3</td>\n",
       "      <td>2021</td>\n",
       "      <td>6.040000</td>\n",
       "      <td>187.794577</td>\n",
       "    </tr>\n",
       "    <tr>\n",
       "      <th>1252</th>\n",
       "      <td>1</td>\n",
       "      <td>0</td>\n",
       "      <td>0</td>\n",
       "      <td>3</td>\n",
       "      <td>2021</td>\n",
       "      <td>6.350000</td>\n",
       "      <td>21.978899</td>\n",
       "    </tr>\n",
       "  </tbody>\n",
       "</table>\n",
       "<p>161 rows × 7 columns</p>\n",
       "</div>"
      ],
      "text/plain": [
       "      region_nord  region_centre  region_sud  Month Value  Year Value  \\\n",
       "1092            1              0           0            1        2016   \n",
       "1093            0              0           0            1        2016   \n",
       "1094            1              0           0            2        2016   \n",
       "1095            0              0           0            2        2016   \n",
       "1096            1              0           0            3        2016   \n",
       "...           ...            ...         ...          ...         ...   \n",
       "1248            0              0           1            3        2021   \n",
       "1249            0              0           1            3        2021   \n",
       "1250            0              1           0            3        2021   \n",
       "1251            0              0           1            3        2021   \n",
       "1252            1              0           0            3        2021   \n",
       "\n",
       "      Rayonnement solaire global (W/m2)  Production solaire (GWh)  \n",
       "1092                           6.130850                 10.805883  \n",
       "1093                           7.882551                  7.651051  \n",
       "1094                           6.926638                  7.326095  \n",
       "1095                           8.113793                 12.297672  \n",
       "1096                           5.711842                 16.241297  \n",
       "...                                 ...                       ...  \n",
       "1248                           5.820000                236.481544  \n",
       "1249                           6.740000                214.822227  \n",
       "1250                           7.150000                 28.393754  \n",
       "1251                           6.040000                187.794577  \n",
       "1252                           6.350000                 21.978899  \n",
       "\n",
       "[161 rows x 7 columns]"
      ]
     },
     "execution_count": 20,
     "metadata": {},
     "output_type": "execute_result"
    }
   ],
   "source": [
    "unscaled_inputs = data_with_targets.iloc[:,:-1]\n",
    "unscaled_inputs"
   ]
  },
  {
   "cell_type": "markdown",
   "metadata": {},
   "source": [
    "# Standardize the data"
   ]
  },
  {
   "cell_type": "code",
   "execution_count": 21,
   "metadata": {},
   "outputs": [],
   "source": [
    "from sklearn.preprocessing import StandardScaler\n",
    "\n",
    "solar_scaler = StandardScaler(copy=True, with_mean=True, with_std=True)"
   ]
  },
  {
   "cell_type": "code",
   "execution_count": 22,
   "metadata": {},
   "outputs": [],
   "source": [
    "from sklearn.base import BaseEstimator, TransformerMixin\n",
    "from sklearn.preprocessing import StandardScaler\n",
    "\n",
    "class CustomScaler(BaseEstimator, TransformerMixin):\n",
    "    \n",
    "    def __init__(self,columns,copy=True,with_mean=True,with_std=True):\n",
    "        self.scaler = StandardScaler(copy,with_mean,with_std)\n",
    "        self.columns = columns\n",
    "        self.mean_ = None\n",
    "        self.vr_ = None\n",
    "    \n",
    "    def fit(self, X, y=None):\n",
    "        self.scaler.fit(X[self.columns], y)\n",
    "        self.mean_ = np.mean(X[self.columns])\n",
    "        self.var_ = np.var(X[self.columns])\n",
    "        return self\n",
    "    \n",
    "    def transform(self, X, y=None, copy=None):\n",
    "        init_col_order = X.columns\n",
    "        X_scaled = pd.DataFrame(self.scaler.transform(X[self.columns]), columns=self.columns)\n",
    "        X_not_scaled= X.loc[:,~X.columns.isin(self.columns)]\n",
    "        return pd.concat([X_not_scaled,X_scaled], axis=1)[init_col_order]"
   ]
  },
  {
   "cell_type": "code",
   "execution_count": 23,
   "metadata": {},
   "outputs": [
    {
     "data": {
      "text/plain": [
       "array(['region_nord', 'region_centre', 'region_sud', 'Month Value',\n",
       "       'Year Value', 'Rayonnement solaire global (W/m2)',\n",
       "       'Production solaire (GWh)'], dtype=object)"
      ]
     },
     "execution_count": 23,
     "metadata": {},
     "output_type": "execute_result"
    }
   ],
   "source": [
    "unscaled_inputs.columns.values"
   ]
  },
  {
   "cell_type": "code",
   "execution_count": 24,
   "metadata": {},
   "outputs": [],
   "source": [
    "columns_to_scale = ['region_sud', 'region_nord', 'region_centre', 'Month Value',\n",
    "       'Year Value', 'Rayonnement solaire global (W/m2)', 'Production solaire (GWh)']\n",
    "columns_to_omit = []"
   ]
  },
  {
   "cell_type": "code",
   "execution_count": 25,
   "metadata": {},
   "outputs": [],
   "source": [
    "columns_to_scale = [x for x in unscaled_inputs.columns.values if x not in columns_to_omit]"
   ]
  },
  {
   "cell_type": "code",
   "execution_count": 26,
   "metadata": {
    "scrolled": true
   },
   "outputs": [],
   "source": [
    "solar_scaler = CustomScaler(columns_to_scale)"
   ]
  },
  {
   "cell_type": "code",
   "execution_count": 27,
   "metadata": {},
   "outputs": [
    {
     "name": "stderr",
     "output_type": "stream",
     "text": [
      "C:\\Users\\charl\\anaconda3\\lib\\site-packages\\sklearn\\base.py:193: FutureWarning: From version 0.24, get_params will raise an AttributeError if a parameter cannot be retrieved as an instance attribute. Previously it would return None.\n",
      "  warnings.warn('From version 0.24, get_params will raise an '\n"
     ]
    },
    {
     "data": {
      "text/plain": [
       "CustomScaler(columns=['region_nord', 'region_centre', 'region_sud',\n",
       "                      'Month Value', 'Year Value',\n",
       "                      'Rayonnement solaire global (W/m2)',\n",
       "                      'Production solaire (GWh)'],\n",
       "             copy=None, with_mean=None, with_std=None)"
      ]
     },
     "execution_count": 27,
     "metadata": {},
     "output_type": "execute_result"
    }
   ],
   "source": [
    "solar_scaler.fit(unscaled_inputs)"
   ]
  },
  {
   "cell_type": "code",
   "execution_count": 28,
   "metadata": {},
   "outputs": [],
   "source": [
    "scaled_inputs = solar_scaler.transform(unscaled_inputs)"
   ]
  },
  {
   "cell_type": "code",
   "execution_count": 29,
   "metadata": {},
   "outputs": [
    {
     "name": "stderr",
     "output_type": "stream",
     "text": [
      "C:\\Users\\charl\\anaconda3\\lib\\site-packages\\sklearn\\base.py:193: FutureWarning: From version 0.24, get_params will raise an AttributeError if a parameter cannot be retrieved as an instance attribute. Previously it would return None.\n",
      "  warnings.warn('From version 0.24, get_params will raise an '\n"
     ]
    },
    {
     "data": {
      "text/plain": [
       "CustomScaler(columns=['region_nord', 'region_centre', 'region_sud',\n",
       "                      'Month Value', 'Year Value',\n",
       "                      'Rayonnement solaire global (W/m2)',\n",
       "                      'Production solaire (GWh)'],\n",
       "             copy=None, with_mean=None, with_std=None)"
      ]
     },
     "execution_count": 29,
     "metadata": {},
     "output_type": "execute_result"
    }
   ],
   "source": [
    "solar_scaler.fit(unscaled_inputs)"
   ]
  },
  {
   "cell_type": "code",
   "execution_count": 30,
   "metadata": {},
   "outputs": [],
   "source": [
    "scaled_inputs = solar_scaler.transform(unscaled_inputs)"
   ]
  },
  {
   "cell_type": "code",
   "execution_count": 31,
   "metadata": {
    "scrolled": true
   },
   "outputs": [
    {
     "data": {
      "text/html": [
       "<div>\n",
       "<style scoped>\n",
       "    .dataframe tbody tr th:only-of-type {\n",
       "        vertical-align: middle;\n",
       "    }\n",
       "\n",
       "    .dataframe tbody tr th {\n",
       "        vertical-align: top;\n",
       "    }\n",
       "\n",
       "    .dataframe thead th {\n",
       "        text-align: right;\n",
       "    }\n",
       "</style>\n",
       "<table border=\"1\" class=\"dataframe\">\n",
       "  <thead>\n",
       "    <tr style=\"text-align: right;\">\n",
       "      <th></th>\n",
       "      <th>region_nord</th>\n",
       "      <th>region_centre</th>\n",
       "      <th>region_sud</th>\n",
       "      <th>Month Value</th>\n",
       "      <th>Year Value</th>\n",
       "      <th>Rayonnement solaire global (W/m2)</th>\n",
       "      <th>Production solaire (GWh)</th>\n",
       "    </tr>\n",
       "  </thead>\n",
       "  <tbody>\n",
       "    <tr>\n",
       "      <th>0</th>\n",
       "      <td>1.097943</td>\n",
       "      <td>-0.283790</td>\n",
       "      <td>-0.320530</td>\n",
       "      <td>-1.204950</td>\n",
       "      <td>-1.545362</td>\n",
       "      <td>0.262034</td>\n",
       "      <td>-0.502448</td>\n",
       "    </tr>\n",
       "    <tr>\n",
       "      <th>1</th>\n",
       "      <td>-0.910794</td>\n",
       "      <td>-0.283790</td>\n",
       "      <td>-0.320530</td>\n",
       "      <td>-1.204950</td>\n",
       "      <td>-1.545362</td>\n",
       "      <td>1.672103</td>\n",
       "      <td>-0.590000</td>\n",
       "    </tr>\n",
       "    <tr>\n",
       "      <th>2</th>\n",
       "      <td>1.097943</td>\n",
       "      <td>-0.283790</td>\n",
       "      <td>-0.320530</td>\n",
       "      <td>-0.927415</td>\n",
       "      <td>-1.545362</td>\n",
       "      <td>0.902621</td>\n",
       "      <td>-0.599018</td>\n",
       "    </tr>\n",
       "    <tr>\n",
       "      <th>3</th>\n",
       "      <td>-0.910794</td>\n",
       "      <td>-0.283790</td>\n",
       "      <td>-0.320530</td>\n",
       "      <td>-0.927415</td>\n",
       "      <td>-1.545362</td>\n",
       "      <td>1.858247</td>\n",
       "      <td>-0.461049</td>\n",
       "    </tr>\n",
       "    <tr>\n",
       "      <th>4</th>\n",
       "      <td>1.097943</td>\n",
       "      <td>-0.283790</td>\n",
       "      <td>-0.320530</td>\n",
       "      <td>-0.649880</td>\n",
       "      <td>-1.545362</td>\n",
       "      <td>-0.075255</td>\n",
       "      <td>-0.351606</td>\n",
       "    </tr>\n",
       "    <tr>\n",
       "      <th>...</th>\n",
       "      <td>...</td>\n",
       "      <td>...</td>\n",
       "      <td>...</td>\n",
       "      <td>...</td>\n",
       "      <td>...</td>\n",
       "      <td>...</td>\n",
       "      <td>...</td>\n",
       "    </tr>\n",
       "    <tr>\n",
       "      <th>156</th>\n",
       "      <td>-0.910794</td>\n",
       "      <td>-0.283790</td>\n",
       "      <td>3.119829</td>\n",
       "      <td>-0.649880</td>\n",
       "      <td>1.250181</td>\n",
       "      <td>0.011809</td>\n",
       "      <td>5.760445</td>\n",
       "    </tr>\n",
       "    <tr>\n",
       "      <th>157</th>\n",
       "      <td>-0.910794</td>\n",
       "      <td>-0.283790</td>\n",
       "      <td>3.119829</td>\n",
       "      <td>-0.649880</td>\n",
       "      <td>1.250181</td>\n",
       "      <td>0.752383</td>\n",
       "      <td>5.159361</td>\n",
       "    </tr>\n",
       "    <tr>\n",
       "      <th>158</th>\n",
       "      <td>-0.910794</td>\n",
       "      <td>3.523729</td>\n",
       "      <td>-0.320530</td>\n",
       "      <td>-0.649880</td>\n",
       "      <td>1.250181</td>\n",
       "      <td>1.082421</td>\n",
       "      <td>-0.014354</td>\n",
       "    </tr>\n",
       "    <tr>\n",
       "      <th>159</th>\n",
       "      <td>-0.910794</td>\n",
       "      <td>-0.283790</td>\n",
       "      <td>3.119829</td>\n",
       "      <td>-0.649880</td>\n",
       "      <td>1.250181</td>\n",
       "      <td>0.188903</td>\n",
       "      <td>4.409296</td>\n",
       "    </tr>\n",
       "    <tr>\n",
       "      <th>160</th>\n",
       "      <td>1.097943</td>\n",
       "      <td>-0.283790</td>\n",
       "      <td>-0.320530</td>\n",
       "      <td>-0.649880</td>\n",
       "      <td>1.250181</td>\n",
       "      <td>0.438444</td>\n",
       "      <td>-0.192378</td>\n",
       "    </tr>\n",
       "  </tbody>\n",
       "</table>\n",
       "<p>161 rows × 7 columns</p>\n",
       "</div>"
      ],
      "text/plain": [
       "     region_nord  region_centre  region_sud  Month Value  Year Value  \\\n",
       "0       1.097943      -0.283790   -0.320530    -1.204950   -1.545362   \n",
       "1      -0.910794      -0.283790   -0.320530    -1.204950   -1.545362   \n",
       "2       1.097943      -0.283790   -0.320530    -0.927415   -1.545362   \n",
       "3      -0.910794      -0.283790   -0.320530    -0.927415   -1.545362   \n",
       "4       1.097943      -0.283790   -0.320530    -0.649880   -1.545362   \n",
       "..           ...            ...         ...          ...         ...   \n",
       "156    -0.910794      -0.283790    3.119829    -0.649880    1.250181   \n",
       "157    -0.910794      -0.283790    3.119829    -0.649880    1.250181   \n",
       "158    -0.910794       3.523729   -0.320530    -0.649880    1.250181   \n",
       "159    -0.910794      -0.283790    3.119829    -0.649880    1.250181   \n",
       "160     1.097943      -0.283790   -0.320530    -0.649880    1.250181   \n",
       "\n",
       "     Rayonnement solaire global (W/m2)  Production solaire (GWh)  \n",
       "0                             0.262034                 -0.502448  \n",
       "1                             1.672103                 -0.590000  \n",
       "2                             0.902621                 -0.599018  \n",
       "3                             1.858247                 -0.461049  \n",
       "4                            -0.075255                 -0.351606  \n",
       "..                                 ...                       ...  \n",
       "156                           0.011809                  5.760445  \n",
       "157                           0.752383                  5.159361  \n",
       "158                           1.082421                 -0.014354  \n",
       "159                           0.188903                  4.409296  \n",
       "160                           0.438444                 -0.192378  \n",
       "\n",
       "[161 rows x 7 columns]"
      ]
     },
     "execution_count": 31,
     "metadata": {},
     "output_type": "execute_result"
    }
   ],
   "source": [
    "scaled_inputs[:161][:]"
   ]
  },
  {
   "cell_type": "code",
   "execution_count": 32,
   "metadata": {},
   "outputs": [
    {
     "data": {
      "text/plain": [
       "(161, 7)"
      ]
     },
     "execution_count": 32,
     "metadata": {},
     "output_type": "execute_result"
    }
   ],
   "source": [
    "scaled_inputs[:161][:].shape"
   ]
  },
  {
   "cell_type": "markdown",
   "metadata": {},
   "source": [
    "# Split the data into train & test and shuffle"
   ]
  },
  {
   "cell_type": "markdown",
   "metadata": {},
   "source": [
    "## Import the relevant module "
   ]
  },
  {
   "cell_type": "code",
   "execution_count": 33,
   "metadata": {},
   "outputs": [],
   "source": [
    "from sklearn.model_selection import train_test_split"
   ]
  },
  {
   "cell_type": "markdown",
   "metadata": {},
   "source": [
    "## Split"
   ]
  },
  {
   "cell_type": "code",
   "execution_count": 34,
   "metadata": {},
   "outputs": [
    {
     "data": {
      "text/plain": [
       "[     region_nord  region_centre  region_sud  Month Value  Year Value  \\\n",
       " 105    -0.910794       -0.28379    -0.32053    -0.094810    0.691072   \n",
       " 21     -0.910794       -0.28379    -0.32053     1.570400   -1.545362   \n",
       " 36      1.097943       -0.28379    -0.32053     0.460260   -0.986254   \n",
       " 43     -0.910794       -0.28379    -0.32053     1.292865   -0.986254   \n",
       " 125     1.097943       -0.28379    -0.32053    -1.204950    1.250181   \n",
       " ..           ...            ...         ...          ...         ...   \n",
       " 155     1.097943       -0.28379    -0.32053    -0.649880    1.250181   \n",
       " 5      -0.910794       -0.28379    -0.32053    -0.649880   -1.545362   \n",
       " 65     -0.910794       -0.28379    -0.32053     1.015330   -0.427145   \n",
       " 66      1.097943       -0.28379    -0.32053     1.292865   -0.427145   \n",
       " 61     -0.910794       -0.28379    -0.32053     0.460260   -0.427145   \n",
       " \n",
       "      Rayonnement solaire global (W/m2)  Production solaire (GWh)  \n",
       " 105                          -0.226566                  0.281078  \n",
       " 21                            0.536181                 -0.580073  \n",
       " 36                           -1.196492                 -0.363039  \n",
       " 43                           -0.090663                 -0.244565  \n",
       " 125                           0.201352                 -0.203043  \n",
       " ..                                 ...                       ...  \n",
       " 155                           0.905327                 -0.465341  \n",
       " 5                             0.970633                 -0.358031  \n",
       " 65                           -0.538322                 -0.045407  \n",
       " 66                           -0.599484                 -0.318765  \n",
       " 61                           -1.131218                  0.049735  \n",
       " \n",
       " [120 rows x 7 columns],\n",
       "      region_nord  region_centre  region_sud  Month Value  Year Value  \\\n",
       " 34      1.097943      -0.283790   -0.320530     0.182725   -0.986254   \n",
       " 50      1.097943      -0.283790   -0.320530    -0.927415   -0.427145   \n",
       " 145    -0.910794       3.523729   -0.320530    -0.927415    1.250181   \n",
       " 129     1.097943      -0.283790   -0.320530    -1.204950    1.250181   \n",
       " 30      1.097943      -0.283790   -0.320530    -0.372345   -0.986254   \n",
       " 42      1.097943      -0.283790   -0.320530     1.292865   -0.986254   \n",
       " 11     -0.910794      -0.283790   -0.320530     0.182725   -1.545362   \n",
       " 24      1.097943      -0.283790   -0.320530    -1.204950   -0.986254   \n",
       " 126     1.097943      -0.283790   -0.320530    -1.204950    1.250181   \n",
       " 102     1.097943      -0.283790   -0.320530    -0.372345    0.691072   \n",
       " 156    -0.910794      -0.283790    3.119829    -0.649880    1.250181   \n",
       " 13     -0.910794      -0.283790   -0.320530     0.460260   -1.545362   \n",
       " 116     1.097943      -0.283790   -0.320530     1.570400    0.691072   \n",
       " 157    -0.910794      -0.283790    3.119829    -0.649880    1.250181   \n",
       " 95     -0.910794      -0.283790   -0.320530     1.847935    0.131964   \n",
       " 15     -0.910794      -0.283790   -0.320530     0.737795   -1.545362   \n",
       " 19     -0.910794      -0.283790   -0.320530     1.292865   -1.545362   \n",
       " 154     1.097943      -0.283790   -0.320530    -0.649880    1.250181   \n",
       " 137    -0.910794       3.523729   -0.320530    -0.927415    1.250181   \n",
       " 122    -0.910794       3.523729   -0.320530    -1.204950    1.250181   \n",
       " 6       1.097943      -0.283790   -0.320530    -0.372345   -1.545362   \n",
       " 33     -0.910794      -0.283790   -0.320530    -0.094810   -0.986254   \n",
       " 40      1.097943      -0.283790   -0.320530     1.015330   -0.986254   \n",
       " 62      1.097943      -0.283790   -0.320530     0.737795   -0.427145   \n",
       " 74      1.097943      -0.283790   -0.320530    -0.927415    0.131964   \n",
       " 56      1.097943      -0.283790   -0.320530    -0.094810   -0.427145   \n",
       " 89     -0.910794      -0.283790   -0.320530     1.015330    0.131964   \n",
       " 77     -0.910794      -0.283790   -0.320530    -0.649880    0.131964   \n",
       " 148    -0.910794      -0.283790    3.119829    -0.649880    1.250181   \n",
       " 45     -0.910794      -0.283790   -0.320530     1.570400   -0.986254   \n",
       " 29     -0.910794      -0.283790   -0.320530    -0.649880   -0.986254   \n",
       " 2       1.097943      -0.283790   -0.320530    -0.927415   -1.545362   \n",
       " 25     -0.910794      -0.283790   -0.320530    -1.204950   -0.986254   \n",
       " 100     1.097943      -0.283790   -0.320530    -0.649880    0.691072   \n",
       " 51     -0.910794      -0.283790   -0.320530    -0.927415   -0.427145   \n",
       " 111    -0.910794      -0.283790   -0.320530     0.737795    0.691072   \n",
       " 133    -0.910794      -0.283790    3.119829    -1.204950    1.250181   \n",
       " 59     -0.910794      -0.283790   -0.320530     0.182725   -0.427145   \n",
       " 128    -0.910794      -0.283790   -0.320530    -1.204950    1.250181   \n",
       " 68      1.097943      -0.283790   -0.320530     1.570400   -0.427145   \n",
       " 142     1.097943      -0.283790   -0.320530    -0.927415    1.250181   \n",
       " \n",
       "      Rayonnement solaire global (W/m2)  Production solaire (GWh)  \n",
       " 34                           -1.029455                 -0.360322  \n",
       " 50                            0.204966                 -0.383022  \n",
       " 145                           1.582365                 -0.116603  \n",
       " 129                           1.361986                 -0.672034  \n",
       " 30                           -1.128533                 -0.362126  \n",
       " 42                           -0.799881                 -0.412964  \n",
       " 11                           -0.784006                 -0.244043  \n",
       " 24                           -0.605585                 -0.462395  \n",
       " 126                           1.114620                 -0.673700  \n",
       " 102                          -0.960395                 -0.209154  \n",
       " 156                           0.011809                  5.760445  \n",
       " 13                           -1.041048                 -0.206169  \n",
       " 116                          -0.600908                 -0.310698  \n",
       " 157                           0.752383                  5.159361  \n",
       " 95                            1.652198                 -0.487144  \n",
       " 15                           -0.825069                 -0.197194  \n",
       " 19                           -0.644989                 -0.239922  \n",
       " 154                           0.607488                 -0.299117  \n",
       " 137                           2.498775                 -0.207022  \n",
       " 122                           1.756227                 -0.457991  \n",
       " 6                            -1.053939                 -0.360751  \n",
       " 33                           -0.434431                 -0.034410  \n",
       " 40                           -1.124844                 -0.404633  \n",
       " 62                           -1.246322                 -0.230627  \n",
       " 74                            0.018565                 -0.281507  \n",
       " 56                           -1.148064                 -0.236007  \n",
       " 89                            0.036797                 -0.071499  \n",
       " 77                            1.683358                 -0.151964  \n",
       " 148                          -1.920122                  2.046760  \n",
       " 45                            0.187393                 -0.528196  \n",
       " 29                            0.487294                 -0.318294  \n",
       " 2                             0.902621                 -0.599018  \n",
       " 25                            0.255670                 -0.492260  \n",
       " 100                           0.633422                 -0.299702  \n",
       " 51                            0.883658                 -0.417257  \n",
       " 111                          -0.822537                  0.129318  \n",
       " 133                           1.096930                  2.098878  \n",
       " 59                           -0.793867                  0.001699  \n",
       " 128                           1.267564                 -0.532998  \n",
       " 68                           -0.266577                 -0.455116  \n",
       " 142                           1.876467                 -0.544016  ,\n",
       " array([1, 0, 0, 1, 1, 0, 0, 0, 0, 1, 1, 1, 1, 0, 0, 1, 1, 1, 0, 0, 0, 0,\n",
       "        1, 0, 1, 0, 0, 1, 1, 1, 0, 0, 1, 0, 0, 0, 1, 0, 0, 1, 0, 1, 1, 1,\n",
       "        1, 0, 1, 0, 1, 0, 1, 0, 1, 1, 0, 1, 1, 1, 0, 0, 0, 1, 1, 1, 0, 0,\n",
       "        0, 1, 1, 1, 1, 0, 1, 1, 1, 1, 1, 1, 1, 0, 0, 1, 0, 1, 1, 0, 0, 1,\n",
       "        0, 1, 1, 0, 1, 1, 0, 0, 0, 0, 1, 0, 1, 1, 0, 0, 1, 1, 0, 0, 0, 1,\n",
       "        0, 0, 1, 0, 1, 0, 0, 1, 0, 1]),\n",
       " array([0, 0, 1, 0, 0, 0, 1, 0, 0, 1, 1, 1, 0, 1, 0, 1, 1, 0, 1, 0, 0, 1,\n",
       "        0, 1, 0, 1, 1, 1, 1, 0, 0, 0, 0, 0, 0, 1, 1, 1, 0, 0, 0])]"
      ]
     },
     "execution_count": 34,
     "metadata": {},
     "output_type": "execute_result"
    }
   ],
   "source": [
    "train_test_split(scaled_inputs[:161][:], targets)"
   ]
  },
  {
   "cell_type": "code",
   "execution_count": 35,
   "metadata": {},
   "outputs": [],
   "source": [
    "x_train, x_test, y_train, y_test = train_test_split(scaled_inputs[:161][:], targets, train_size = 0.8, random_state = 20)"
   ]
  },
  {
   "cell_type": "code",
   "execution_count": 36,
   "metadata": {},
   "outputs": [
    {
     "name": "stdout",
     "output_type": "stream",
     "text": [
      "(128, 7) (128,)\n"
     ]
    }
   ],
   "source": [
    "print(x_train.shape, y_train.shape)"
   ]
  },
  {
   "cell_type": "code",
   "execution_count": 37,
   "metadata": {},
   "outputs": [
    {
     "name": "stdout",
     "output_type": "stream",
     "text": [
      "(33, 7) (33,)\n"
     ]
    }
   ],
   "source": [
    "print(x_test.shape, y_test.shape)"
   ]
  },
  {
   "cell_type": "markdown",
   "metadata": {},
   "source": [
    "# Logisitc regression with sklearn"
   ]
  },
  {
   "cell_type": "code",
   "execution_count": 38,
   "metadata": {},
   "outputs": [],
   "source": [
    "from sklearn.linear_model import LogisticRegression\n",
    "from sklearn import metrics"
   ]
  },
  {
   "cell_type": "markdown",
   "metadata": {},
   "source": [
    "# Training the model"
   ]
  },
  {
   "cell_type": "code",
   "execution_count": 39,
   "metadata": {},
   "outputs": [],
   "source": [
    "reg = LogisticRegression()"
   ]
  },
  {
   "cell_type": "code",
   "execution_count": 40,
   "metadata": {},
   "outputs": [
    {
     "data": {
      "text/plain": [
       "LogisticRegression(C=1.0, class_weight=None, dual=False, fit_intercept=True,\n",
       "                   intercept_scaling=1, l1_ratio=None, max_iter=100,\n",
       "                   multi_class='auto', n_jobs=None, penalty='l2',\n",
       "                   random_state=None, solver='lbfgs', tol=0.0001, verbose=0,\n",
       "                   warm_start=False)"
      ]
     },
     "execution_count": 40,
     "metadata": {},
     "output_type": "execute_result"
    }
   ],
   "source": [
    "reg.fit(x_train, y_train)"
   ]
  },
  {
   "cell_type": "code",
   "execution_count": 41,
   "metadata": {},
   "outputs": [
    {
     "data": {
      "text/plain": [
       "0.9140625"
      ]
     },
     "execution_count": 41,
     "metadata": {},
     "output_type": "execute_result"
    }
   ],
   "source": [
    "reg.score(x_train, y_train)"
   ]
  },
  {
   "cell_type": "markdown",
   "metadata": {},
   "source": [
    "### Manually check accuracy"
   ]
  },
  {
   "cell_type": "code",
   "execution_count": 42,
   "metadata": {},
   "outputs": [
    {
     "data": {
      "text/plain": [
       "array([1, 0, 1, 1, 1, 0, 0, 1, 0, 1, 0, 0, 1, 0, 0, 1, 0, 1, 0, 1, 0, 0,\n",
       "       0, 0, 0, 0, 0, 0, 1, 1, 1, 1, 1, 1, 1, 0, 1, 1, 0, 1, 0, 1, 1, 1,\n",
       "       1, 1, 0, 1, 1, 0, 0, 0, 0, 1, 1, 1, 0, 1, 1, 1, 0, 1, 1, 1, 0, 1,\n",
       "       1, 0, 1, 0, 0, 0, 0, 0, 0, 0, 0, 0, 0, 0, 1, 1, 0, 0, 0, 0, 1, 0,\n",
       "       0, 0, 1, 1, 1, 1, 0, 1, 1, 0, 0, 0, 0, 1, 0, 0, 1, 1, 1, 1, 0, 0,\n",
       "       1, 0, 1, 0, 1, 1, 0, 0, 0, 0, 0, 0, 1, 1, 0, 1, 1, 0])"
      ]
     },
     "execution_count": 42,
     "metadata": {},
     "output_type": "execute_result"
    }
   ],
   "source": [
    "model_outputs = reg.predict(x_train)\n",
    "model_outputs"
   ]
  },
  {
   "cell_type": "code",
   "execution_count": 43,
   "metadata": {},
   "outputs": [
    {
     "data": {
      "text/plain": [
       "array([1, 0, 1, 1, 1, 0, 1, 1, 0, 0, 0, 0, 1, 0, 0, 1, 0, 1, 0, 0, 0, 0,\n",
       "       0, 0, 0, 0, 0, 0, 1, 1, 1, 1, 1, 1, 1, 0, 1, 1, 0, 1, 0, 1, 1, 1,\n",
       "       0, 1, 0, 1, 1, 0, 0, 0, 0, 1, 1, 1, 1, 1, 1, 1, 0, 1, 1, 1, 0, 1,\n",
       "       1, 0, 1, 0, 0, 0, 0, 0, 0, 0, 0, 1, 0, 0, 0, 1, 0, 0, 0, 1, 1, 0,\n",
       "       0, 0, 1, 1, 1, 1, 0, 1, 0, 1, 0, 0, 0, 1, 0, 0, 1, 1, 1, 1, 0, 0,\n",
       "       1, 0, 1, 0, 1, 1, 0, 0, 0, 0, 0, 0, 1, 1, 1, 1, 1, 0])"
      ]
     },
     "execution_count": 43,
     "metadata": {},
     "output_type": "execute_result"
    }
   ],
   "source": [
    "y_train"
   ]
  },
  {
   "cell_type": "code",
   "execution_count": 44,
   "metadata": {},
   "outputs": [
    {
     "data": {
      "text/plain": [
       "array([ True,  True,  True,  True,  True,  True, False,  True,  True,\n",
       "       False,  True,  True,  True,  True,  True,  True,  True,  True,\n",
       "        True, False,  True,  True,  True,  True,  True,  True,  True,\n",
       "        True,  True,  True,  True,  True,  True,  True,  True,  True,\n",
       "        True,  True,  True,  True,  True,  True,  True,  True, False,\n",
       "        True,  True,  True,  True,  True,  True,  True,  True,  True,\n",
       "        True,  True, False,  True,  True,  True,  True,  True,  True,\n",
       "        True,  True,  True,  True,  True,  True,  True,  True,  True,\n",
       "        True,  True,  True,  True,  True, False,  True,  True, False,\n",
       "        True,  True,  True,  True, False,  True,  True,  True,  True,\n",
       "        True,  True,  True,  True,  True,  True, False, False,  True,\n",
       "        True,  True,  True,  True,  True,  True,  True,  True,  True,\n",
       "        True,  True,  True,  True,  True,  True,  True,  True,  True,\n",
       "        True,  True,  True,  True,  True,  True,  True, False,  True,\n",
       "        True,  True])"
      ]
     },
     "execution_count": 44,
     "metadata": {},
     "output_type": "execute_result"
    }
   ],
   "source": [
    "model_outputs == y_train"
   ]
  },
  {
   "cell_type": "code",
   "execution_count": 45,
   "metadata": {},
   "outputs": [
    {
     "data": {
      "text/plain": [
       "117"
      ]
     },
     "execution_count": 45,
     "metadata": {},
     "output_type": "execute_result"
    }
   ],
   "source": [
    "np.sum(model_outputs==y_train)"
   ]
  },
  {
   "cell_type": "code",
   "execution_count": 46,
   "metadata": {},
   "outputs": [
    {
     "data": {
      "text/plain": [
       "128"
      ]
     },
     "execution_count": 46,
     "metadata": {},
     "output_type": "execute_result"
    }
   ],
   "source": [
    "model_outputs.shape[0]"
   ]
  },
  {
   "cell_type": "code",
   "execution_count": 47,
   "metadata": {},
   "outputs": [
    {
     "data": {
      "text/plain": [
       "0.9140625"
      ]
     },
     "execution_count": 47,
     "metadata": {},
     "output_type": "execute_result"
    }
   ],
   "source": [
    "np.sum(model_outputs==y_train)/model_outputs.shape[0]"
   ]
  },
  {
   "cell_type": "markdown",
   "metadata": {},
   "source": [
    "### Finding the intercept and coefficients"
   ]
  },
  {
   "cell_type": "code",
   "execution_count": 48,
   "metadata": {},
   "outputs": [
    {
     "data": {
      "text/plain": [
       "array([0.61444096])"
      ]
     },
     "execution_count": 48,
     "metadata": {},
     "output_type": "execute_result"
    }
   ],
   "source": [
    "reg.intercept_"
   ]
  },
  {
   "cell_type": "code",
   "execution_count": 49,
   "metadata": {},
   "outputs": [
    {
     "data": {
      "text/plain": [
       "array([[-1.30095379, -0.01652767,  0.00705287, -0.21375656,  1.1642379 ,\n",
       "        -1.87690145,  2.66049331]])"
      ]
     },
     "execution_count": 49,
     "metadata": {},
     "output_type": "execute_result"
    }
   ],
   "source": [
    "reg.coef_"
   ]
  },
  {
   "cell_type": "code",
   "execution_count": 50,
   "metadata": {},
   "outputs": [
    {
     "data": {
      "text/plain": [
       "array(['region_nord', 'region_centre', 'region_sud', 'Month Value',\n",
       "       'Year Value', 'Rayonnement solaire global (W/m2)',\n",
       "       'Production solaire (GWh)'], dtype=object)"
      ]
     },
     "execution_count": 50,
     "metadata": {},
     "output_type": "execute_result"
    }
   ],
   "source": [
    "unscaled_inputs.columns.values"
   ]
  },
  {
   "cell_type": "code",
   "execution_count": 51,
   "metadata": {},
   "outputs": [],
   "source": [
    "feature_name = unscaled_inputs.columns.values"
   ]
  },
  {
   "cell_type": "code",
   "execution_count": 52,
   "metadata": {
    "scrolled": true
   },
   "outputs": [
    {
     "data": {
      "text/html": [
       "<div>\n",
       "<style scoped>\n",
       "    .dataframe tbody tr th:only-of-type {\n",
       "        vertical-align: middle;\n",
       "    }\n",
       "\n",
       "    .dataframe tbody tr th {\n",
       "        vertical-align: top;\n",
       "    }\n",
       "\n",
       "    .dataframe thead th {\n",
       "        text-align: right;\n",
       "    }\n",
       "</style>\n",
       "<table border=\"1\" class=\"dataframe\">\n",
       "  <thead>\n",
       "    <tr style=\"text-align: right;\">\n",
       "      <th></th>\n",
       "      <th>feature_name</th>\n",
       "      <th>Coefficient</th>\n",
       "    </tr>\n",
       "  </thead>\n",
       "  <tbody>\n",
       "    <tr>\n",
       "      <th>0</th>\n",
       "      <td>region_nord</td>\n",
       "      <td>-1.300954</td>\n",
       "    </tr>\n",
       "    <tr>\n",
       "      <th>1</th>\n",
       "      <td>region_centre</td>\n",
       "      <td>-0.016528</td>\n",
       "    </tr>\n",
       "    <tr>\n",
       "      <th>2</th>\n",
       "      <td>region_sud</td>\n",
       "      <td>0.007053</td>\n",
       "    </tr>\n",
       "    <tr>\n",
       "      <th>3</th>\n",
       "      <td>Month Value</td>\n",
       "      <td>-0.213757</td>\n",
       "    </tr>\n",
       "    <tr>\n",
       "      <th>4</th>\n",
       "      <td>Year Value</td>\n",
       "      <td>1.164238</td>\n",
       "    </tr>\n",
       "    <tr>\n",
       "      <th>5</th>\n",
       "      <td>Rayonnement solaire global (W/m2)</td>\n",
       "      <td>-1.876901</td>\n",
       "    </tr>\n",
       "    <tr>\n",
       "      <th>6</th>\n",
       "      <td>Production solaire (GWh)</td>\n",
       "      <td>2.660493</td>\n",
       "    </tr>\n",
       "  </tbody>\n",
       "</table>\n",
       "</div>"
      ],
      "text/plain": [
       "                        feature_name  Coefficient\n",
       "0                        region_nord    -1.300954\n",
       "1                      region_centre    -0.016528\n",
       "2                         region_sud     0.007053\n",
       "3                        Month Value    -0.213757\n",
       "4                         Year Value     1.164238\n",
       "5  Rayonnement solaire global (W/m2)    -1.876901\n",
       "6           Production solaire (GWh)     2.660493"
      ]
     },
     "execution_count": 52,
     "metadata": {},
     "output_type": "execute_result"
    }
   ],
   "source": [
    "summary_table = pd.DataFrame (columns=['feature_name'], data = feature_name)\n",
    "summary_table['Coefficient'] = np.transpose(reg.coef_)\n",
    "summary_table"
   ]
  },
  {
   "cell_type": "code",
   "execution_count": 53,
   "metadata": {},
   "outputs": [],
   "source": [
    "summary_table.index = summary_table.index+1"
   ]
  },
  {
   "cell_type": "code",
   "execution_count": 54,
   "metadata": {
    "scrolled": true
   },
   "outputs": [
    {
     "data": {
      "text/html": [
       "<div>\n",
       "<style scoped>\n",
       "    .dataframe tbody tr th:only-of-type {\n",
       "        vertical-align: middle;\n",
       "    }\n",
       "\n",
       "    .dataframe tbody tr th {\n",
       "        vertical-align: top;\n",
       "    }\n",
       "\n",
       "    .dataframe thead th {\n",
       "        text-align: right;\n",
       "    }\n",
       "</style>\n",
       "<table border=\"1\" class=\"dataframe\">\n",
       "  <thead>\n",
       "    <tr style=\"text-align: right;\">\n",
       "      <th></th>\n",
       "      <th>feature_name</th>\n",
       "      <th>Coefficient</th>\n",
       "    </tr>\n",
       "  </thead>\n",
       "  <tbody>\n",
       "    <tr>\n",
       "      <th>0</th>\n",
       "      <td>Intercept</td>\n",
       "      <td>0.614441</td>\n",
       "    </tr>\n",
       "    <tr>\n",
       "      <th>1</th>\n",
       "      <td>region_nord</td>\n",
       "      <td>-1.300954</td>\n",
       "    </tr>\n",
       "    <tr>\n",
       "      <th>2</th>\n",
       "      <td>region_centre</td>\n",
       "      <td>-0.016528</td>\n",
       "    </tr>\n",
       "    <tr>\n",
       "      <th>3</th>\n",
       "      <td>region_sud</td>\n",
       "      <td>0.007053</td>\n",
       "    </tr>\n",
       "    <tr>\n",
       "      <th>4</th>\n",
       "      <td>Month Value</td>\n",
       "      <td>-0.213757</td>\n",
       "    </tr>\n",
       "    <tr>\n",
       "      <th>5</th>\n",
       "      <td>Year Value</td>\n",
       "      <td>1.164238</td>\n",
       "    </tr>\n",
       "    <tr>\n",
       "      <th>6</th>\n",
       "      <td>Rayonnement solaire global (W/m2)</td>\n",
       "      <td>-1.876901</td>\n",
       "    </tr>\n",
       "    <tr>\n",
       "      <th>7</th>\n",
       "      <td>Production solaire (GWh)</td>\n",
       "      <td>2.660493</td>\n",
       "    </tr>\n",
       "  </tbody>\n",
       "</table>\n",
       "</div>"
      ],
      "text/plain": [
       "                        feature_name  Coefficient\n",
       "0                          Intercept     0.614441\n",
       "1                        region_nord    -1.300954\n",
       "2                      region_centre    -0.016528\n",
       "3                         region_sud     0.007053\n",
       "4                        Month Value    -0.213757\n",
       "5                         Year Value     1.164238\n",
       "6  Rayonnement solaire global (W/m2)    -1.876901\n",
       "7           Production solaire (GWh)     2.660493"
      ]
     },
     "execution_count": 54,
     "metadata": {},
     "output_type": "execute_result"
    }
   ],
   "source": [
    "summary_table.loc[0] = ['Intercept', reg.intercept_[0]]\n",
    "summary_table = summary_table.sort_index()\n",
    "summary_table"
   ]
  },
  {
   "cell_type": "markdown",
   "metadata": {},
   "source": [
    "## Interpreting the coefficient"
   ]
  },
  {
   "cell_type": "code",
   "execution_count": 55,
   "metadata": {},
   "outputs": [],
   "source": [
    "summary_table['Odd_ratio'] = np.exp(summary_table.Coefficient)"
   ]
  },
  {
   "cell_type": "code",
   "execution_count": 56,
   "metadata": {},
   "outputs": [
    {
     "data": {
      "text/html": [
       "<div>\n",
       "<style scoped>\n",
       "    .dataframe tbody tr th:only-of-type {\n",
       "        vertical-align: middle;\n",
       "    }\n",
       "\n",
       "    .dataframe tbody tr th {\n",
       "        vertical-align: top;\n",
       "    }\n",
       "\n",
       "    .dataframe thead th {\n",
       "        text-align: right;\n",
       "    }\n",
       "</style>\n",
       "<table border=\"1\" class=\"dataframe\">\n",
       "  <thead>\n",
       "    <tr style=\"text-align: right;\">\n",
       "      <th></th>\n",
       "      <th>feature_name</th>\n",
       "      <th>Coefficient</th>\n",
       "      <th>Odd_ratio</th>\n",
       "    </tr>\n",
       "  </thead>\n",
       "  <tbody>\n",
       "    <tr>\n",
       "      <th>0</th>\n",
       "      <td>Intercept</td>\n",
       "      <td>0.614441</td>\n",
       "      <td>1.848623</td>\n",
       "    </tr>\n",
       "    <tr>\n",
       "      <th>1</th>\n",
       "      <td>region_nord</td>\n",
       "      <td>-1.300954</td>\n",
       "      <td>0.272272</td>\n",
       "    </tr>\n",
       "    <tr>\n",
       "      <th>2</th>\n",
       "      <td>region_centre</td>\n",
       "      <td>-0.016528</td>\n",
       "      <td>0.983608</td>\n",
       "    </tr>\n",
       "    <tr>\n",
       "      <th>3</th>\n",
       "      <td>region_sud</td>\n",
       "      <td>0.007053</td>\n",
       "      <td>1.007078</td>\n",
       "    </tr>\n",
       "    <tr>\n",
       "      <th>4</th>\n",
       "      <td>Month Value</td>\n",
       "      <td>-0.213757</td>\n",
       "      <td>0.807545</td>\n",
       "    </tr>\n",
       "    <tr>\n",
       "      <th>5</th>\n",
       "      <td>Year Value</td>\n",
       "      <td>1.164238</td>\n",
       "      <td>3.203481</td>\n",
       "    </tr>\n",
       "    <tr>\n",
       "      <th>6</th>\n",
       "      <td>Rayonnement solaire global (W/m2)</td>\n",
       "      <td>-1.876901</td>\n",
       "      <td>0.153064</td>\n",
       "    </tr>\n",
       "    <tr>\n",
       "      <th>7</th>\n",
       "      <td>Production solaire (GWh)</td>\n",
       "      <td>2.660493</td>\n",
       "      <td>14.303343</td>\n",
       "    </tr>\n",
       "  </tbody>\n",
       "</table>\n",
       "</div>"
      ],
      "text/plain": [
       "                        feature_name  Coefficient  Odd_ratio\n",
       "0                          Intercept     0.614441   1.848623\n",
       "1                        region_nord    -1.300954   0.272272\n",
       "2                      region_centre    -0.016528   0.983608\n",
       "3                         region_sud     0.007053   1.007078\n",
       "4                        Month Value    -0.213757   0.807545\n",
       "5                         Year Value     1.164238   3.203481\n",
       "6  Rayonnement solaire global (W/m2)    -1.876901   0.153064\n",
       "7           Production solaire (GWh)     2.660493  14.303343"
      ]
     },
     "execution_count": 56,
     "metadata": {},
     "output_type": "execute_result"
    }
   ],
   "source": [
    "summary_table"
   ]
  },
  {
   "cell_type": "code",
   "execution_count": 57,
   "metadata": {},
   "outputs": [
    {
     "data": {
      "text/html": [
       "<div>\n",
       "<style scoped>\n",
       "    .dataframe tbody tr th:only-of-type {\n",
       "        vertical-align: middle;\n",
       "    }\n",
       "\n",
       "    .dataframe tbody tr th {\n",
       "        vertical-align: top;\n",
       "    }\n",
       "\n",
       "    .dataframe thead th {\n",
       "        text-align: right;\n",
       "    }\n",
       "</style>\n",
       "<table border=\"1\" class=\"dataframe\">\n",
       "  <thead>\n",
       "    <tr style=\"text-align: right;\">\n",
       "      <th></th>\n",
       "      <th>feature_name</th>\n",
       "      <th>Coefficient</th>\n",
       "      <th>Odd_ratio</th>\n",
       "    </tr>\n",
       "  </thead>\n",
       "  <tbody>\n",
       "    <tr>\n",
       "      <th>7</th>\n",
       "      <td>Production solaire (GWh)</td>\n",
       "      <td>2.660493</td>\n",
       "      <td>14.303343</td>\n",
       "    </tr>\n",
       "    <tr>\n",
       "      <th>5</th>\n",
       "      <td>Year Value</td>\n",
       "      <td>1.164238</td>\n",
       "      <td>3.203481</td>\n",
       "    </tr>\n",
       "    <tr>\n",
       "      <th>0</th>\n",
       "      <td>Intercept</td>\n",
       "      <td>0.614441</td>\n",
       "      <td>1.848623</td>\n",
       "    </tr>\n",
       "    <tr>\n",
       "      <th>3</th>\n",
       "      <td>region_sud</td>\n",
       "      <td>0.007053</td>\n",
       "      <td>1.007078</td>\n",
       "    </tr>\n",
       "    <tr>\n",
       "      <th>2</th>\n",
       "      <td>region_centre</td>\n",
       "      <td>-0.016528</td>\n",
       "      <td>0.983608</td>\n",
       "    </tr>\n",
       "    <tr>\n",
       "      <th>4</th>\n",
       "      <td>Month Value</td>\n",
       "      <td>-0.213757</td>\n",
       "      <td>0.807545</td>\n",
       "    </tr>\n",
       "    <tr>\n",
       "      <th>1</th>\n",
       "      <td>region_nord</td>\n",
       "      <td>-1.300954</td>\n",
       "      <td>0.272272</td>\n",
       "    </tr>\n",
       "    <tr>\n",
       "      <th>6</th>\n",
       "      <td>Rayonnement solaire global (W/m2)</td>\n",
       "      <td>-1.876901</td>\n",
       "      <td>0.153064</td>\n",
       "    </tr>\n",
       "  </tbody>\n",
       "</table>\n",
       "</div>"
      ],
      "text/plain": [
       "                        feature_name  Coefficient  Odd_ratio\n",
       "7           Production solaire (GWh)     2.660493  14.303343\n",
       "5                         Year Value     1.164238   3.203481\n",
       "0                          Intercept     0.614441   1.848623\n",
       "3                         region_sud     0.007053   1.007078\n",
       "2                      region_centre    -0.016528   0.983608\n",
       "4                        Month Value    -0.213757   0.807545\n",
       "1                        region_nord    -1.300954   0.272272\n",
       "6  Rayonnement solaire global (W/m2)    -1.876901   0.153064"
      ]
     },
     "execution_count": 57,
     "metadata": {},
     "output_type": "execute_result"
    }
   ],
   "source": [
    "summary_table.sort_values('Odd_ratio', ascending=False)"
   ]
  },
  {
   "cell_type": "markdown",
   "metadata": {},
   "source": [
    "# Testing the model"
   ]
  },
  {
   "cell_type": "code",
   "execution_count": 58,
   "metadata": {},
   "outputs": [
    {
     "data": {
      "text/plain": [
       "0.8181818181818182"
      ]
     },
     "execution_count": 58,
     "metadata": {},
     "output_type": "execute_result"
    }
   ],
   "source": [
    "reg.score(x_test, y_test)"
   ]
  },
  {
   "cell_type": "code",
   "execution_count": 59,
   "metadata": {},
   "outputs": [
    {
     "data": {
      "text/plain": [
       "array([[7.85428868e-03, 9.92145711e-01],\n",
       "       [8.44640576e-01, 1.55359424e-01],\n",
       "       [6.34556301e-01, 3.65443699e-01],\n",
       "       [1.29401618e-01, 8.70598382e-01],\n",
       "       [7.07085992e-01, 2.92914008e-01],\n",
       "       [2.07656263e-01, 7.92343737e-01],\n",
       "       [7.92980546e-01, 2.07019454e-01],\n",
       "       [4.71923348e-01, 5.28076652e-01],\n",
       "       [8.12977100e-01, 1.87022900e-01],\n",
       "       [7.02900358e-02, 9.29709964e-01],\n",
       "       [5.25460898e-01, 4.74539102e-01],\n",
       "       [5.54238277e-01, 4.45761723e-01],\n",
       "       [3.35874137e-01, 6.64125863e-01],\n",
       "       [1.46717436e-07, 9.99999853e-01],\n",
       "       [9.95505077e-01, 4.49492316e-03],\n",
       "       [7.80045763e-01, 2.19954237e-01],\n",
       "       [1.98899867e-06, 9.99998011e-01],\n",
       "       [4.88558541e-02, 9.51144146e-01],\n",
       "       [3.45550240e-04, 9.99654450e-01],\n",
       "       [6.08104175e-01, 3.91895825e-01],\n",
       "       [6.62252089e-01, 3.37747911e-01],\n",
       "       [9.63714141e-01, 3.62858588e-02],\n",
       "       [9.46985533e-01, 5.30144666e-02],\n",
       "       [2.12544975e-01, 7.87455025e-01],\n",
       "       [7.05957556e-02, 9.29404244e-01],\n",
       "       [4.79189412e-02, 9.52081059e-01],\n",
       "       [9.95837942e-01, 4.16205752e-03],\n",
       "       [1.33805103e-01, 8.66194897e-01],\n",
       "       [8.82836318e-01, 1.17163682e-01],\n",
       "       [7.43231379e-01, 2.56768621e-01],\n",
       "       [7.99103597e-01, 2.00896403e-01],\n",
       "       [7.35992966e-01, 2.64007034e-01],\n",
       "       [6.16282996e-01, 3.83717004e-01]])"
      ]
     },
     "execution_count": 59,
     "metadata": {},
     "output_type": "execute_result"
    }
   ],
   "source": [
    "predicted_proba = reg.predict_proba(x_test)\n",
    "predicted_proba"
   ]
  },
  {
   "cell_type": "code",
   "execution_count": 60,
   "metadata": {},
   "outputs": [
    {
     "data": {
      "text/plain": [
       "(33, 2)"
      ]
     },
     "execution_count": 60,
     "metadata": {},
     "output_type": "execute_result"
    }
   ],
   "source": [
    "predicted_proba.shape"
   ]
  },
  {
   "cell_type": "code",
   "execution_count": 61,
   "metadata": {},
   "outputs": [
    {
     "data": {
      "text/plain": [
       "array([0.99214571, 0.15535942, 0.3654437 , 0.87059838, 0.29291401,\n",
       "       0.79234374, 0.20701945, 0.52807665, 0.1870229 , 0.92970996,\n",
       "       0.4745391 , 0.44576172, 0.66412586, 0.99999985, 0.00449492,\n",
       "       0.21995424, 0.99999801, 0.95114415, 0.99965445, 0.39189582,\n",
       "       0.33774791, 0.03628586, 0.05301447, 0.78745502, 0.92940424,\n",
       "       0.95208106, 0.00416206, 0.8661949 , 0.11716368, 0.25676862,\n",
       "       0.2008964 , 0.26400703, 0.383717  ])"
      ]
     },
     "execution_count": 61,
     "metadata": {},
     "output_type": "execute_result"
    }
   ],
   "source": [
    "predicted_proba[:,1]"
   ]
  },
  {
   "cell_type": "markdown",
   "metadata": {},
   "source": [
    "# Saving the model"
   ]
  },
  {
   "cell_type": "code",
   "execution_count": 62,
   "metadata": {},
   "outputs": [],
   "source": [
    "import pickle"
   ]
  },
  {
   "cell_type": "code",
   "execution_count": 63,
   "metadata": {},
   "outputs": [],
   "source": [
    "with open('model','wb') as file:\n",
    "    pickle.dump(reg, file)"
   ]
  },
  {
   "cell_type": "code",
   "execution_count": 64,
   "metadata": {},
   "outputs": [],
   "source": [
    "with open('scaler','wb') as file:\n",
    "    pickle.dump(solar_scaler, file)"
   ]
  },
  {
   "cell_type": "code",
   "execution_count": null,
   "metadata": {},
   "outputs": [],
   "source": []
  }
 ],
 "metadata": {
  "kernelspec": {
   "display_name": "Python 3",
   "language": "python",
   "name": "python3"
  },
  "language_info": {
   "codemirror_mode": {
    "name": "ipython",
    "version": 3
   },
   "file_extension": ".py",
   "mimetype": "text/x-python",
   "name": "python",
   "nbconvert_exporter": "python",
   "pygments_lexer": "ipython3",
   "version": "3.8.5"
  }
 },
 "nbformat": 4,
 "nbformat_minor": 4
}
