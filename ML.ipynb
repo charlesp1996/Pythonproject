{
 "cells": [
  {
   "cell_type": "markdown",
   "metadata": {},
   "source": [
    "# Random Forest and regression to overcome obstacles"
   ]
  },
  {
   "cell_type": "markdown",
   "metadata": {},
   "source": [
    "## Import the relevant libraries"
   ]
  },
  {
   "cell_type": "code",
   "execution_count": 54,
   "metadata": {},
   "outputs": [],
   "source": [
    "import pandas as pd\n",
    "import numpy as np\n",
    "from sklearn.datasets import make_regression\n",
    "from sklearn.model_selection import train_test_split\n",
    "from sklearn.ensemble import RandomForestRegressor\n",
    "from sklearn.multioutput import MultiOutputRegressor\n",
    "from sklearn.model_selection import train_test_split"
   ]
  },
  {
   "cell_type": "code",
   "execution_count": 55,
   "metadata": {},
   "outputs": [],
   "source": [
    "df = pd.read_csv(\"https://raw.githubusercontent.com/charlesp1996/Pythonproject/main/data.csv\")"
   ]
  },
  {
   "cell_type": "code",
   "execution_count": 56,
   "metadata": {
    "scrolled": true
   },
   "outputs": [
    {
     "data": {
      "text/html": [
       "<div>\n",
       "<style scoped>\n",
       "    .dataframe tbody tr th:only-of-type {\n",
       "        vertical-align: middle;\n",
       "    }\n",
       "\n",
       "    .dataframe tbody tr th {\n",
       "        vertical-align: top;\n",
       "    }\n",
       "\n",
       "    .dataframe thead th {\n",
       "        text-align: right;\n",
       "    }\n",
       "</style>\n",
       "<table border=\"1\" class=\"dataframe\">\n",
       "  <thead>\n",
       "    <tr style=\"text-align: right;\">\n",
       "      <th></th>\n",
       "      <th>region_nord</th>\n",
       "      <th>region_centre</th>\n",
       "      <th>region_sud</th>\n",
       "      <th>Month Value</th>\n",
       "      <th>Year Value</th>\n",
       "      <th>Vitesse du vent Axa0 100m (m/s)</th>\n",
       "      <th>Production éolienne (GWh)</th>\n",
       "      <th>Rayonnement solaire global (W/m2)</th>\n",
       "      <th>Production solaire (GWh)</th>\n",
       "    </tr>\n",
       "  </thead>\n",
       "  <tbody>\n",
       "    <tr>\n",
       "      <th>0</th>\n",
       "      <td>1</td>\n",
       "      <td>0</td>\n",
       "      <td>0</td>\n",
       "      <td>2</td>\n",
       "      <td>2014</td>\n",
       "      <td>NaN</td>\n",
       "      <td>6.518965</td>\n",
       "      <td>NaN</td>\n",
       "      <td>2.931509</td>\n",
       "    </tr>\n",
       "    <tr>\n",
       "      <th>1</th>\n",
       "      <td>0</td>\n",
       "      <td>0</td>\n",
       "      <td>1</td>\n",
       "      <td>3</td>\n",
       "      <td>2014</td>\n",
       "      <td>NaN</td>\n",
       "      <td>220.644746</td>\n",
       "      <td>NaN</td>\n",
       "      <td>116.568735</td>\n",
       "    </tr>\n",
       "    <tr>\n",
       "      <th>2</th>\n",
       "      <td>0</td>\n",
       "      <td>0</td>\n",
       "      <td>1</td>\n",
       "      <td>4</td>\n",
       "      <td>2014</td>\n",
       "      <td>NaN</td>\n",
       "      <td>189.563606</td>\n",
       "      <td>NaN</td>\n",
       "      <td>125.730294</td>\n",
       "    </tr>\n",
       "    <tr>\n",
       "      <th>3</th>\n",
       "      <td>0</td>\n",
       "      <td>0</td>\n",
       "      <td>1</td>\n",
       "      <td>4</td>\n",
       "      <td>2014</td>\n",
       "      <td>NaN</td>\n",
       "      <td>9.671714</td>\n",
       "      <td>NaN</td>\n",
       "      <td>98.951709</td>\n",
       "    </tr>\n",
       "    <tr>\n",
       "      <th>4</th>\n",
       "      <td>1</td>\n",
       "      <td>0</td>\n",
       "      <td>0</td>\n",
       "      <td>5</td>\n",
       "      <td>2014</td>\n",
       "      <td>NaN</td>\n",
       "      <td>363.412141</td>\n",
       "      <td>NaN</td>\n",
       "      <td>58.899353</td>\n",
       "    </tr>\n",
       "    <tr>\n",
       "      <th>...</th>\n",
       "      <td>...</td>\n",
       "      <td>...</td>\n",
       "      <td>...</td>\n",
       "      <td>...</td>\n",
       "      <td>...</td>\n",
       "      <td>...</td>\n",
       "      <td>...</td>\n",
       "      <td>...</td>\n",
       "      <td>...</td>\n",
       "    </tr>\n",
       "    <tr>\n",
       "      <th>1248</th>\n",
       "      <td>0</td>\n",
       "      <td>0</td>\n",
       "      <td>1</td>\n",
       "      <td>3</td>\n",
       "      <td>2021</td>\n",
       "      <td>0.0</td>\n",
       "      <td>NaN</td>\n",
       "      <td>5.82</td>\n",
       "      <td>NaN</td>\n",
       "    </tr>\n",
       "    <tr>\n",
       "      <th>1249</th>\n",
       "      <td>0</td>\n",
       "      <td>0</td>\n",
       "      <td>1</td>\n",
       "      <td>3</td>\n",
       "      <td>2021</td>\n",
       "      <td>0.0</td>\n",
       "      <td>NaN</td>\n",
       "      <td>6.74</td>\n",
       "      <td>NaN</td>\n",
       "    </tr>\n",
       "    <tr>\n",
       "      <th>1250</th>\n",
       "      <td>0</td>\n",
       "      <td>1</td>\n",
       "      <td>0</td>\n",
       "      <td>3</td>\n",
       "      <td>2021</td>\n",
       "      <td>0.0</td>\n",
       "      <td>NaN</td>\n",
       "      <td>7.15</td>\n",
       "      <td>NaN</td>\n",
       "    </tr>\n",
       "    <tr>\n",
       "      <th>1251</th>\n",
       "      <td>0</td>\n",
       "      <td>0</td>\n",
       "      <td>1</td>\n",
       "      <td>3</td>\n",
       "      <td>2021</td>\n",
       "      <td>0.0</td>\n",
       "      <td>NaN</td>\n",
       "      <td>6.04</td>\n",
       "      <td>NaN</td>\n",
       "    </tr>\n",
       "    <tr>\n",
       "      <th>1252</th>\n",
       "      <td>1</td>\n",
       "      <td>0</td>\n",
       "      <td>0</td>\n",
       "      <td>3</td>\n",
       "      <td>2021</td>\n",
       "      <td>0.0</td>\n",
       "      <td>NaN</td>\n",
       "      <td>6.35</td>\n",
       "      <td>NaN</td>\n",
       "    </tr>\n",
       "  </tbody>\n",
       "</table>\n",
       "<p>1253 rows × 9 columns</p>\n",
       "</div>"
      ],
      "text/plain": [
       "      region_nord  region_centre  region_sud  Month Value  Year Value  \\\n",
       "0               1              0           0            2        2014   \n",
       "1               0              0           1            3        2014   \n",
       "2               0              0           1            4        2014   \n",
       "3               0              0           1            4        2014   \n",
       "4               1              0           0            5        2014   \n",
       "...           ...            ...         ...          ...         ...   \n",
       "1248            0              0           1            3        2021   \n",
       "1249            0              0           1            3        2021   \n",
       "1250            0              1           0            3        2021   \n",
       "1251            0              0           1            3        2021   \n",
       "1252            1              0           0            3        2021   \n",
       "\n",
       "      Vitesse du vent Axa0 100m (m/s)  Production éolienne (GWh)  \\\n",
       "0                                 NaN                   6.518965   \n",
       "1                                 NaN                 220.644746   \n",
       "2                                 NaN                 189.563606   \n",
       "3                                 NaN                   9.671714   \n",
       "4                                 NaN                 363.412141   \n",
       "...                               ...                        ...   \n",
       "1248                              0.0                        NaN   \n",
       "1249                              0.0                        NaN   \n",
       "1250                              0.0                        NaN   \n",
       "1251                              0.0                        NaN   \n",
       "1252                              0.0                        NaN   \n",
       "\n",
       "      Rayonnement solaire global (W/m2)  Production solaire (GWh)  \n",
       "0                                   NaN                  2.931509  \n",
       "1                                   NaN                116.568735  \n",
       "2                                   NaN                125.730294  \n",
       "3                                   NaN                 98.951709  \n",
       "4                                   NaN                 58.899353  \n",
       "...                                 ...                       ...  \n",
       "1248                               5.82                       NaN  \n",
       "1249                               6.74                       NaN  \n",
       "1250                               7.15                       NaN  \n",
       "1251                               6.04                       NaN  \n",
       "1252                               6.35                       NaN  \n",
       "\n",
       "[1253 rows x 9 columns]"
      ]
     },
     "execution_count": 56,
     "metadata": {},
     "output_type": "execute_result"
    }
   ],
   "source": [
    "df"
   ]
  },
  {
   "cell_type": "code",
   "execution_count": 57,
   "metadata": {},
   "outputs": [],
   "source": [
    "df = df[df['Rayonnement solaire global (W/m2)'].notna()]"
   ]
  },
  {
   "cell_type": "code",
   "execution_count": 58,
   "metadata": {},
   "outputs": [
    {
     "data": {
      "text/plain": [
       "['region_nord',\n",
       " 'region_centre',\n",
       " 'region_sud',\n",
       " 'Month Value',\n",
       " 'Year Value',\n",
       " 'Vitesse du vent Axa0 100m (m/s)',\n",
       " 'Production éolienne (GWh)',\n",
       " 'Rayonnement solaire global (W/m2)',\n",
       " 'Production solaire (GWh)']"
      ]
     },
     "execution_count": 58,
     "metadata": {},
     "output_type": "execute_result"
    }
   ],
   "source": [
    "cols = df.columns.tolist()\n",
    "cols"
   ]
  },
  {
   "cell_type": "markdown",
   "metadata": {},
   "source": [
    "### Solaire"
   ]
  },
  {
   "cell_type": "code",
   "execution_count": 59,
   "metadata": {},
   "outputs": [],
   "source": [
    "colss = cols[:5] + cols[7:9]"
   ]
  },
  {
   "cell_type": "code",
   "execution_count": 60,
   "metadata": {},
   "outputs": [
    {
     "data": {
      "text/plain": [
       "['region_nord',\n",
       " 'region_centre',\n",
       " 'region_sud',\n",
       " 'Month Value',\n",
       " 'Year Value',\n",
       " 'Rayonnement solaire global (W/m2)',\n",
       " 'Production solaire (GWh)']"
      ]
     },
     "execution_count": 60,
     "metadata": {},
     "output_type": "execute_result"
    }
   ],
   "source": [
    "colss"
   ]
  },
  {
   "cell_type": "code",
   "execution_count": 61,
   "metadata": {},
   "outputs": [],
   "source": [
    "dfs = df[colss]"
   ]
  },
  {
   "cell_type": "code",
   "execution_count": 62,
   "metadata": {
    "scrolled": true
   },
   "outputs": [
    {
     "data": {
      "text/html": [
       "<div>\n",
       "<style scoped>\n",
       "    .dataframe tbody tr th:only-of-type {\n",
       "        vertical-align: middle;\n",
       "    }\n",
       "\n",
       "    .dataframe tbody tr th {\n",
       "        vertical-align: top;\n",
       "    }\n",
       "\n",
       "    .dataframe thead th {\n",
       "        text-align: right;\n",
       "    }\n",
       "</style>\n",
       "<table border=\"1\" class=\"dataframe\">\n",
       "  <thead>\n",
       "    <tr style=\"text-align: right;\">\n",
       "      <th></th>\n",
       "      <th>region_nord</th>\n",
       "      <th>region_centre</th>\n",
       "      <th>region_sud</th>\n",
       "      <th>Month Value</th>\n",
       "      <th>Year Value</th>\n",
       "      <th>Rayonnement solaire global (W/m2)</th>\n",
       "      <th>Production solaire (GWh)</th>\n",
       "    </tr>\n",
       "  </thead>\n",
       "  <tbody>\n",
       "    <tr>\n",
       "      <th>47</th>\n",
       "      <td>0</td>\n",
       "      <td>1</td>\n",
       "      <td>0</td>\n",
       "      <td>1</td>\n",
       "      <td>2016</td>\n",
       "      <td>7.466964</td>\n",
       "      <td>7.040643</td>\n",
       "    </tr>\n",
       "    <tr>\n",
       "      <th>48</th>\n",
       "      <td>1</td>\n",
       "      <td>0</td>\n",
       "      <td>0</td>\n",
       "      <td>1</td>\n",
       "      <td>2016</td>\n",
       "      <td>8.295263</td>\n",
       "      <td>5.596140</td>\n",
       "    </tr>\n",
       "    <tr>\n",
       "      <th>49</th>\n",
       "      <td>0</td>\n",
       "      <td>1</td>\n",
       "      <td>0</td>\n",
       "      <td>2</td>\n",
       "      <td>2016</td>\n",
       "      <td>9.242543</td>\n",
       "      <td>23.337292</td>\n",
       "    </tr>\n",
       "    <tr>\n",
       "      <th>50</th>\n",
       "      <td>0</td>\n",
       "      <td>1</td>\n",
       "      <td>0</td>\n",
       "      <td>2</td>\n",
       "      <td>2016</td>\n",
       "      <td>9.946336</td>\n",
       "      <td>9.640264</td>\n",
       "    </tr>\n",
       "    <tr>\n",
       "      <th>51</th>\n",
       "      <td>0</td>\n",
       "      <td>0</td>\n",
       "      <td>1</td>\n",
       "      <td>2</td>\n",
       "      <td>2016</td>\n",
       "      <td>6.508233</td>\n",
       "      <td>116.805294</td>\n",
       "    </tr>\n",
       "    <tr>\n",
       "      <th>...</th>\n",
       "      <td>...</td>\n",
       "      <td>...</td>\n",
       "      <td>...</td>\n",
       "      <td>...</td>\n",
       "      <td>...</td>\n",
       "      <td>...</td>\n",
       "      <td>...</td>\n",
       "    </tr>\n",
       "    <tr>\n",
       "      <th>1248</th>\n",
       "      <td>0</td>\n",
       "      <td>0</td>\n",
       "      <td>1</td>\n",
       "      <td>3</td>\n",
       "      <td>2021</td>\n",
       "      <td>5.820000</td>\n",
       "      <td>NaN</td>\n",
       "    </tr>\n",
       "    <tr>\n",
       "      <th>1249</th>\n",
       "      <td>0</td>\n",
       "      <td>0</td>\n",
       "      <td>1</td>\n",
       "      <td>3</td>\n",
       "      <td>2021</td>\n",
       "      <td>6.740000</td>\n",
       "      <td>NaN</td>\n",
       "    </tr>\n",
       "    <tr>\n",
       "      <th>1250</th>\n",
       "      <td>0</td>\n",
       "      <td>1</td>\n",
       "      <td>0</td>\n",
       "      <td>3</td>\n",
       "      <td>2021</td>\n",
       "      <td>7.150000</td>\n",
       "      <td>NaN</td>\n",
       "    </tr>\n",
       "    <tr>\n",
       "      <th>1251</th>\n",
       "      <td>0</td>\n",
       "      <td>0</td>\n",
       "      <td>1</td>\n",
       "      <td>3</td>\n",
       "      <td>2021</td>\n",
       "      <td>6.040000</td>\n",
       "      <td>NaN</td>\n",
       "    </tr>\n",
       "    <tr>\n",
       "      <th>1252</th>\n",
       "      <td>1</td>\n",
       "      <td>0</td>\n",
       "      <td>0</td>\n",
       "      <td>3</td>\n",
       "      <td>2021</td>\n",
       "      <td>6.350000</td>\n",
       "      <td>NaN</td>\n",
       "    </tr>\n",
       "  </tbody>\n",
       "</table>\n",
       "<p>821 rows × 7 columns</p>\n",
       "</div>"
      ],
      "text/plain": [
       "      region_nord  region_centre  region_sud  Month Value  Year Value  \\\n",
       "47              0              1           0            1        2016   \n",
       "48              1              0           0            1        2016   \n",
       "49              0              1           0            2        2016   \n",
       "50              0              1           0            2        2016   \n",
       "51              0              0           1            2        2016   \n",
       "...           ...            ...         ...          ...         ...   \n",
       "1248            0              0           1            3        2021   \n",
       "1249            0              0           1            3        2021   \n",
       "1250            0              1           0            3        2021   \n",
       "1251            0              0           1            3        2021   \n",
       "1252            1              0           0            3        2021   \n",
       "\n",
       "      Rayonnement solaire global (W/m2)  Production solaire (GWh)  \n",
       "47                             7.466964                  7.040643  \n",
       "48                             8.295263                  5.596140  \n",
       "49                             9.242543                 23.337292  \n",
       "50                             9.946336                  9.640264  \n",
       "51                             6.508233                116.805294  \n",
       "...                                 ...                       ...  \n",
       "1248                           5.820000                       NaN  \n",
       "1249                           6.740000                       NaN  \n",
       "1250                           7.150000                       NaN  \n",
       "1251                           6.040000                       NaN  \n",
       "1252                           6.350000                       NaN  \n",
       "\n",
       "[821 rows x 7 columns]"
      ]
     },
     "execution_count": 62,
     "metadata": {},
     "output_type": "execute_result"
    }
   ],
   "source": [
    "dfs"
   ]
  },
  {
   "cell_type": "code",
   "execution_count": 63,
   "metadata": {},
   "outputs": [],
   "source": [
    "X,y = make_regression(n_samples=821, n_features=6,\n",
    "                                 n_informative=5, n_targets=1,  \n",
    "                                 tail_strength=0.5,  \n",
    "                                 shuffle=True, coef=False, random_state=0)\n",
    "notnans = dfs['Production solaire (GWh)'].notnull()\n",
    "df_notnans = df[notnans]\n",
    "X_train, X_test, y_train, y_test = train_test_split(df_notnans[colss[:6]], df_notnans[colss[6:7]],\n",
    "                                                    train_size=0.75,\n",
    "                                                    random_state=250)"
   ]
  },
  {
   "cell_type": "code",
   "execution_count": 64,
   "metadata": {},
   "outputs": [
    {
     "name": "stdout",
     "output_type": "stream",
     "text": [
      "The prediction score on the test data is 64.75%\n"
     ]
    }
   ],
   "source": [
    "regr_multirf = MultiOutputRegressor(RandomForestRegressor(max_depth=30,\n",
    "                                                          random_state=0))\n",
    "\n",
    "# Fit on the train data\n",
    "regr_multirf.fit(X_train, y_train)\n",
    "\n",
    "# Check the prediction score\n",
    "score = regr_multirf.score(X_test, y_test)\n",
    "print(\"The prediction score on the test data is {:.2f}%\".format(score*100))"
   ]
  },
  {
   "cell_type": "code",
   "execution_count": 65,
   "metadata": {},
   "outputs": [
    {
     "data": {
      "text/html": [
       "<div>\n",
       "<style scoped>\n",
       "    .dataframe tbody tr th:only-of-type {\n",
       "        vertical-align: middle;\n",
       "    }\n",
       "\n",
       "    .dataframe tbody tr th {\n",
       "        vertical-align: top;\n",
       "    }\n",
       "\n",
       "    .dataframe thead th {\n",
       "        text-align: right;\n",
       "    }\n",
       "</style>\n",
       "<table border=\"1\" class=\"dataframe\">\n",
       "  <thead>\n",
       "    <tr style=\"text-align: right;\">\n",
       "      <th></th>\n",
       "      <th>region_nord</th>\n",
       "      <th>region_centre</th>\n",
       "      <th>region_sud</th>\n",
       "      <th>Month Value</th>\n",
       "      <th>Year Value</th>\n",
       "      <th>Rayonnement solaire global (W/m2)</th>\n",
       "      <th>Production solaire (GWh)</th>\n",
       "    </tr>\n",
       "  </thead>\n",
       "  <tbody>\n",
       "    <tr>\n",
       "      <th>1092</th>\n",
       "      <td>1</td>\n",
       "      <td>0</td>\n",
       "      <td>0</td>\n",
       "      <td>1</td>\n",
       "      <td>2016</td>\n",
       "      <td>6.130850</td>\n",
       "      <td>10.805883</td>\n",
       "    </tr>\n",
       "    <tr>\n",
       "      <th>1093</th>\n",
       "      <td>0</td>\n",
       "      <td>0</td>\n",
       "      <td>0</td>\n",
       "      <td>1</td>\n",
       "      <td>2016</td>\n",
       "      <td>7.882551</td>\n",
       "      <td>7.651051</td>\n",
       "    </tr>\n",
       "    <tr>\n",
       "      <th>1094</th>\n",
       "      <td>1</td>\n",
       "      <td>0</td>\n",
       "      <td>0</td>\n",
       "      <td>2</td>\n",
       "      <td>2016</td>\n",
       "      <td>6.926638</td>\n",
       "      <td>7.326095</td>\n",
       "    </tr>\n",
       "    <tr>\n",
       "      <th>1095</th>\n",
       "      <td>0</td>\n",
       "      <td>0</td>\n",
       "      <td>0</td>\n",
       "      <td>2</td>\n",
       "      <td>2016</td>\n",
       "      <td>8.113793</td>\n",
       "      <td>12.297672</td>\n",
       "    </tr>\n",
       "    <tr>\n",
       "      <th>1096</th>\n",
       "      <td>1</td>\n",
       "      <td>0</td>\n",
       "      <td>0</td>\n",
       "      <td>3</td>\n",
       "      <td>2016</td>\n",
       "      <td>5.711842</td>\n",
       "      <td>16.241297</td>\n",
       "    </tr>\n",
       "    <tr>\n",
       "      <th>...</th>\n",
       "      <td>...</td>\n",
       "      <td>...</td>\n",
       "      <td>...</td>\n",
       "      <td>...</td>\n",
       "      <td>...</td>\n",
       "      <td>...</td>\n",
       "      <td>...</td>\n",
       "    </tr>\n",
       "    <tr>\n",
       "      <th>1248</th>\n",
       "      <td>0</td>\n",
       "      <td>0</td>\n",
       "      <td>1</td>\n",
       "      <td>3</td>\n",
       "      <td>2021</td>\n",
       "      <td>5.820000</td>\n",
       "      <td>236.481544</td>\n",
       "    </tr>\n",
       "    <tr>\n",
       "      <th>1249</th>\n",
       "      <td>0</td>\n",
       "      <td>0</td>\n",
       "      <td>1</td>\n",
       "      <td>3</td>\n",
       "      <td>2021</td>\n",
       "      <td>6.740000</td>\n",
       "      <td>214.822227</td>\n",
       "    </tr>\n",
       "    <tr>\n",
       "      <th>1250</th>\n",
       "      <td>0</td>\n",
       "      <td>1</td>\n",
       "      <td>0</td>\n",
       "      <td>3</td>\n",
       "      <td>2021</td>\n",
       "      <td>7.150000</td>\n",
       "      <td>28.393754</td>\n",
       "    </tr>\n",
       "    <tr>\n",
       "      <th>1251</th>\n",
       "      <td>0</td>\n",
       "      <td>0</td>\n",
       "      <td>1</td>\n",
       "      <td>3</td>\n",
       "      <td>2021</td>\n",
       "      <td>6.040000</td>\n",
       "      <td>187.794577</td>\n",
       "    </tr>\n",
       "    <tr>\n",
       "      <th>1252</th>\n",
       "      <td>1</td>\n",
       "      <td>0</td>\n",
       "      <td>0</td>\n",
       "      <td>3</td>\n",
       "      <td>2021</td>\n",
       "      <td>6.350000</td>\n",
       "      <td>21.978899</td>\n",
       "    </tr>\n",
       "  </tbody>\n",
       "</table>\n",
       "<p>161 rows × 7 columns</p>\n",
       "</div>"
      ],
      "text/plain": [
       "      region_nord  region_centre  region_sud  Month Value  Year Value  \\\n",
       "1092            1              0           0            1        2016   \n",
       "1093            0              0           0            1        2016   \n",
       "1094            1              0           0            2        2016   \n",
       "1095            0              0           0            2        2016   \n",
       "1096            1              0           0            3        2016   \n",
       "...           ...            ...         ...          ...         ...   \n",
       "1248            0              0           1            3        2021   \n",
       "1249            0              0           1            3        2021   \n",
       "1250            0              1           0            3        2021   \n",
       "1251            0              0           1            3        2021   \n",
       "1252            1              0           0            3        2021   \n",
       "\n",
       "      Rayonnement solaire global (W/m2)  Production solaire (GWh)  \n",
       "1092                           6.130850                 10.805883  \n",
       "1093                           7.882551                  7.651051  \n",
       "1094                           6.926638                  7.326095  \n",
       "1095                           8.113793                 12.297672  \n",
       "1096                           5.711842                 16.241297  \n",
       "...                                 ...                       ...  \n",
       "1248                           5.820000                236.481544  \n",
       "1249                           6.740000                214.822227  \n",
       "1250                           7.150000                 28.393754  \n",
       "1251                           6.040000                187.794577  \n",
       "1252                           6.350000                 21.978899  \n",
       "\n",
       "[161 rows x 7 columns]"
      ]
     },
     "execution_count": 65,
     "metadata": {},
     "output_type": "execute_result"
    }
   ],
   "source": [
    "df_nans = dfs.loc[~notnans].copy()\n",
    "df_nans[colss[6:7]] = regr_multirf.predict(df_nans[colss[0:6]])\n",
    "df_nans"
   ]
  },
  {
   "cell_type": "markdown",
   "metadata": {},
   "source": [
    "# Create the targets"
   ]
  },
  {
   "cell_type": "code",
   "execution_count": 66,
   "metadata": {},
   "outputs": [],
   "source": [
    "targets = np.where(df_nans['Production solaire (GWh)'] > df_nans['Production solaire (GWh)'].median(), 1, 0)"
   ]
  },
  {
   "cell_type": "code",
   "execution_count": 67,
   "metadata": {},
   "outputs": [
    {
     "data": {
      "text/plain": [
       "(161,)"
      ]
     },
     "execution_count": 67,
     "metadata": {},
     "output_type": "execute_result"
    }
   ],
   "source": [
    "targets.shape"
   ]
  },
  {
   "cell_type": "code",
   "execution_count": 68,
   "metadata": {},
   "outputs": [],
   "source": [
    "df_nans['Execessive Solar'] = targets"
   ]
  },
  {
   "cell_type": "markdown",
   "metadata": {},
   "source": [
    "# A comment on the targets"
   ]
  },
  {
   "cell_type": "code",
   "execution_count": 69,
   "metadata": {},
   "outputs": [
    {
     "data": {
      "text/plain": [
       "0.4968944099378882"
      ]
     },
     "execution_count": 69,
     "metadata": {},
     "output_type": "execute_result"
    }
   ],
   "source": [
    "targets.sum() / targets.shape[0]"
   ]
  },
  {
   "cell_type": "code",
   "execution_count": 70,
   "metadata": {},
   "outputs": [],
   "source": [
    "data_with_targets = df_nans"
   ]
  },
  {
   "cell_type": "code",
   "execution_count": 71,
   "metadata": {},
   "outputs": [
    {
     "data": {
      "text/plain": [
       "array(['region_nord', 'region_centre', 'region_sud', 'Month Value',\n",
       "       'Year Value', 'Rayonnement solaire global (W/m2)',\n",
       "       'Production solaire (GWh)', 'Execessive Solar'], dtype=object)"
      ]
     },
     "execution_count": 71,
     "metadata": {},
     "output_type": "execute_result"
    }
   ],
   "source": [
    "data_with_targets.columns.values"
   ]
  },
  {
   "cell_type": "code",
   "execution_count": 72,
   "metadata": {},
   "outputs": [],
   "source": [
    "data_with_targets = data_with_targets.drop(data_with_targets.columns[6],axis=1)"
   ]
  },
  {
   "cell_type": "code",
   "execution_count": 73,
   "metadata": {},
   "outputs": [
    {
     "data": {
      "text/html": [
       "<div>\n",
       "<style scoped>\n",
       "    .dataframe tbody tr th:only-of-type {\n",
       "        vertical-align: middle;\n",
       "    }\n",
       "\n",
       "    .dataframe tbody tr th {\n",
       "        vertical-align: top;\n",
       "    }\n",
       "\n",
       "    .dataframe thead th {\n",
       "        text-align: right;\n",
       "    }\n",
       "</style>\n",
       "<table border=\"1\" class=\"dataframe\">\n",
       "  <thead>\n",
       "    <tr style=\"text-align: right;\">\n",
       "      <th></th>\n",
       "      <th>region_nord</th>\n",
       "      <th>region_centre</th>\n",
       "      <th>region_sud</th>\n",
       "      <th>Month Value</th>\n",
       "      <th>Year Value</th>\n",
       "      <th>Rayonnement solaire global (W/m2)</th>\n",
       "      <th>Execessive Solar</th>\n",
       "    </tr>\n",
       "  </thead>\n",
       "  <tbody>\n",
       "    <tr>\n",
       "      <th>1092</th>\n",
       "      <td>1</td>\n",
       "      <td>0</td>\n",
       "      <td>0</td>\n",
       "      <td>1</td>\n",
       "      <td>2016</td>\n",
       "      <td>6.130850</td>\n",
       "      <td>0</td>\n",
       "    </tr>\n",
       "    <tr>\n",
       "      <th>1093</th>\n",
       "      <td>0</td>\n",
       "      <td>0</td>\n",
       "      <td>0</td>\n",
       "      <td>1</td>\n",
       "      <td>2016</td>\n",
       "      <td>7.882551</td>\n",
       "      <td>0</td>\n",
       "    </tr>\n",
       "    <tr>\n",
       "      <th>1094</th>\n",
       "      <td>1</td>\n",
       "      <td>0</td>\n",
       "      <td>0</td>\n",
       "      <td>2</td>\n",
       "      <td>2016</td>\n",
       "      <td>6.926638</td>\n",
       "      <td>0</td>\n",
       "    </tr>\n",
       "    <tr>\n",
       "      <th>1095</th>\n",
       "      <td>0</td>\n",
       "      <td>0</td>\n",
       "      <td>0</td>\n",
       "      <td>2</td>\n",
       "      <td>2016</td>\n",
       "      <td>8.113793</td>\n",
       "      <td>0</td>\n",
       "    </tr>\n",
       "    <tr>\n",
       "      <th>1096</th>\n",
       "      <td>1</td>\n",
       "      <td>0</td>\n",
       "      <td>0</td>\n",
       "      <td>3</td>\n",
       "      <td>2016</td>\n",
       "      <td>5.711842</td>\n",
       "      <td>0</td>\n",
       "    </tr>\n",
       "    <tr>\n",
       "      <th>...</th>\n",
       "      <td>...</td>\n",
       "      <td>...</td>\n",
       "      <td>...</td>\n",
       "      <td>...</td>\n",
       "      <td>...</td>\n",
       "      <td>...</td>\n",
       "      <td>...</td>\n",
       "    </tr>\n",
       "    <tr>\n",
       "      <th>1248</th>\n",
       "      <td>0</td>\n",
       "      <td>0</td>\n",
       "      <td>1</td>\n",
       "      <td>3</td>\n",
       "      <td>2021</td>\n",
       "      <td>5.820000</td>\n",
       "      <td>1</td>\n",
       "    </tr>\n",
       "    <tr>\n",
       "      <th>1249</th>\n",
       "      <td>0</td>\n",
       "      <td>0</td>\n",
       "      <td>1</td>\n",
       "      <td>3</td>\n",
       "      <td>2021</td>\n",
       "      <td>6.740000</td>\n",
       "      <td>1</td>\n",
       "    </tr>\n",
       "    <tr>\n",
       "      <th>1250</th>\n",
       "      <td>0</td>\n",
       "      <td>1</td>\n",
       "      <td>0</td>\n",
       "      <td>3</td>\n",
       "      <td>2021</td>\n",
       "      <td>7.150000</td>\n",
       "      <td>1</td>\n",
       "    </tr>\n",
       "    <tr>\n",
       "      <th>1251</th>\n",
       "      <td>0</td>\n",
       "      <td>0</td>\n",
       "      <td>1</td>\n",
       "      <td>3</td>\n",
       "      <td>2021</td>\n",
       "      <td>6.040000</td>\n",
       "      <td>1</td>\n",
       "    </tr>\n",
       "    <tr>\n",
       "      <th>1252</th>\n",
       "      <td>1</td>\n",
       "      <td>0</td>\n",
       "      <td>0</td>\n",
       "      <td>3</td>\n",
       "      <td>2021</td>\n",
       "      <td>6.350000</td>\n",
       "      <td>1</td>\n",
       "    </tr>\n",
       "  </tbody>\n",
       "</table>\n",
       "<p>161 rows × 7 columns</p>\n",
       "</div>"
      ],
      "text/plain": [
       "      region_nord  region_centre  region_sud  Month Value  Year Value  \\\n",
       "1092            1              0           0            1        2016   \n",
       "1093            0              0           0            1        2016   \n",
       "1094            1              0           0            2        2016   \n",
       "1095            0              0           0            2        2016   \n",
       "1096            1              0           0            3        2016   \n",
       "...           ...            ...         ...          ...         ...   \n",
       "1248            0              0           1            3        2021   \n",
       "1249            0              0           1            3        2021   \n",
       "1250            0              1           0            3        2021   \n",
       "1251            0              0           1            3        2021   \n",
       "1252            1              0           0            3        2021   \n",
       "\n",
       "      Rayonnement solaire global (W/m2)  Execessive Solar  \n",
       "1092                           6.130850                 0  \n",
       "1093                           7.882551                 0  \n",
       "1094                           6.926638                 0  \n",
       "1095                           8.113793                 0  \n",
       "1096                           5.711842                 0  \n",
       "...                                 ...               ...  \n",
       "1248                           5.820000                 1  \n",
       "1249                           6.740000                 1  \n",
       "1250                           7.150000                 1  \n",
       "1251                           6.040000                 1  \n",
       "1252                           6.350000                 1  \n",
       "\n",
       "[161 rows x 7 columns]"
      ]
     },
     "execution_count": 73,
     "metadata": {},
     "output_type": "execute_result"
    }
   ],
   "source": [
    "data_with_targets"
   ]
  },
  {
   "cell_type": "markdown",
   "metadata": {},
   "source": [
    "# Select the inputs for the regression"
   ]
  },
  {
   "cell_type": "code",
   "execution_count": 74,
   "metadata": {},
   "outputs": [
    {
     "data": {
      "text/plain": [
       "(161, 7)"
      ]
     },
     "execution_count": 74,
     "metadata": {},
     "output_type": "execute_result"
    }
   ],
   "source": [
    "data_with_targets.shape"
   ]
  },
  {
   "cell_type": "code",
   "execution_count": 75,
   "metadata": {},
   "outputs": [
    {
     "data": {
      "text/html": [
       "<div>\n",
       "<style scoped>\n",
       "    .dataframe tbody tr th:only-of-type {\n",
       "        vertical-align: middle;\n",
       "    }\n",
       "\n",
       "    .dataframe tbody tr th {\n",
       "        vertical-align: top;\n",
       "    }\n",
       "\n",
       "    .dataframe thead th {\n",
       "        text-align: right;\n",
       "    }\n",
       "</style>\n",
       "<table border=\"1\" class=\"dataframe\">\n",
       "  <thead>\n",
       "    <tr style=\"text-align: right;\">\n",
       "      <th></th>\n",
       "      <th>region_nord</th>\n",
       "      <th>region_centre</th>\n",
       "      <th>region_sud</th>\n",
       "      <th>Month Value</th>\n",
       "      <th>Year Value</th>\n",
       "      <th>Rayonnement solaire global (W/m2)</th>\n",
       "    </tr>\n",
       "  </thead>\n",
       "  <tbody>\n",
       "    <tr>\n",
       "      <th>1092</th>\n",
       "      <td>1</td>\n",
       "      <td>0</td>\n",
       "      <td>0</td>\n",
       "      <td>1</td>\n",
       "      <td>2016</td>\n",
       "      <td>6.130850</td>\n",
       "    </tr>\n",
       "    <tr>\n",
       "      <th>1093</th>\n",
       "      <td>0</td>\n",
       "      <td>0</td>\n",
       "      <td>0</td>\n",
       "      <td>1</td>\n",
       "      <td>2016</td>\n",
       "      <td>7.882551</td>\n",
       "    </tr>\n",
       "    <tr>\n",
       "      <th>1094</th>\n",
       "      <td>1</td>\n",
       "      <td>0</td>\n",
       "      <td>0</td>\n",
       "      <td>2</td>\n",
       "      <td>2016</td>\n",
       "      <td>6.926638</td>\n",
       "    </tr>\n",
       "    <tr>\n",
       "      <th>1095</th>\n",
       "      <td>0</td>\n",
       "      <td>0</td>\n",
       "      <td>0</td>\n",
       "      <td>2</td>\n",
       "      <td>2016</td>\n",
       "      <td>8.113793</td>\n",
       "    </tr>\n",
       "    <tr>\n",
       "      <th>1096</th>\n",
       "      <td>1</td>\n",
       "      <td>0</td>\n",
       "      <td>0</td>\n",
       "      <td>3</td>\n",
       "      <td>2016</td>\n",
       "      <td>5.711842</td>\n",
       "    </tr>\n",
       "    <tr>\n",
       "      <th>...</th>\n",
       "      <td>...</td>\n",
       "      <td>...</td>\n",
       "      <td>...</td>\n",
       "      <td>...</td>\n",
       "      <td>...</td>\n",
       "      <td>...</td>\n",
       "    </tr>\n",
       "    <tr>\n",
       "      <th>1248</th>\n",
       "      <td>0</td>\n",
       "      <td>0</td>\n",
       "      <td>1</td>\n",
       "      <td>3</td>\n",
       "      <td>2021</td>\n",
       "      <td>5.820000</td>\n",
       "    </tr>\n",
       "    <tr>\n",
       "      <th>1249</th>\n",
       "      <td>0</td>\n",
       "      <td>0</td>\n",
       "      <td>1</td>\n",
       "      <td>3</td>\n",
       "      <td>2021</td>\n",
       "      <td>6.740000</td>\n",
       "    </tr>\n",
       "    <tr>\n",
       "      <th>1250</th>\n",
       "      <td>0</td>\n",
       "      <td>1</td>\n",
       "      <td>0</td>\n",
       "      <td>3</td>\n",
       "      <td>2021</td>\n",
       "      <td>7.150000</td>\n",
       "    </tr>\n",
       "    <tr>\n",
       "      <th>1251</th>\n",
       "      <td>0</td>\n",
       "      <td>0</td>\n",
       "      <td>1</td>\n",
       "      <td>3</td>\n",
       "      <td>2021</td>\n",
       "      <td>6.040000</td>\n",
       "    </tr>\n",
       "    <tr>\n",
       "      <th>1252</th>\n",
       "      <td>1</td>\n",
       "      <td>0</td>\n",
       "      <td>0</td>\n",
       "      <td>3</td>\n",
       "      <td>2021</td>\n",
       "      <td>6.350000</td>\n",
       "    </tr>\n",
       "  </tbody>\n",
       "</table>\n",
       "<p>161 rows × 6 columns</p>\n",
       "</div>"
      ],
      "text/plain": [
       "      region_nord  region_centre  region_sud  Month Value  Year Value  \\\n",
       "1092            1              0           0            1        2016   \n",
       "1093            0              0           0            1        2016   \n",
       "1094            1              0           0            2        2016   \n",
       "1095            0              0           0            2        2016   \n",
       "1096            1              0           0            3        2016   \n",
       "...           ...            ...         ...          ...         ...   \n",
       "1248            0              0           1            3        2021   \n",
       "1249            0              0           1            3        2021   \n",
       "1250            0              1           0            3        2021   \n",
       "1251            0              0           1            3        2021   \n",
       "1252            1              0           0            3        2021   \n",
       "\n",
       "      Rayonnement solaire global (W/m2)  \n",
       "1092                           6.130850  \n",
       "1093                           7.882551  \n",
       "1094                           6.926638  \n",
       "1095                           8.113793  \n",
       "1096                           5.711842  \n",
       "...                                 ...  \n",
       "1248                           5.820000  \n",
       "1249                           6.740000  \n",
       "1250                           7.150000  \n",
       "1251                           6.040000  \n",
       "1252                           6.350000  \n",
       "\n",
       "[161 rows x 6 columns]"
      ]
     },
     "execution_count": 75,
     "metadata": {},
     "output_type": "execute_result"
    }
   ],
   "source": [
    "unscaled_inputs = data_with_targets.iloc[:,:-1]\n",
    "unscaled_inputs"
   ]
  },
  {
   "cell_type": "markdown",
   "metadata": {},
   "source": [
    "# Standardize the data"
   ]
  },
  {
   "cell_type": "code",
   "execution_count": 76,
   "metadata": {},
   "outputs": [],
   "source": [
    "from sklearn.preprocessing import StandardScaler\n",
    "\n",
    "solar_scaler = StandardScaler(copy=True, with_mean=True, with_std=True)"
   ]
  },
  {
   "cell_type": "code",
   "execution_count": 77,
   "metadata": {},
   "outputs": [],
   "source": [
    "from sklearn.base import BaseEstimator, TransformerMixin\n",
    "from sklearn.preprocessing import StandardScaler\n",
    "\n",
    "class CustomScaler(BaseEstimator, TransformerMixin):\n",
    "    \n",
    "    def __init__(self,columns,copy=True,with_mean=True,with_std=True):\n",
    "        self.scaler = StandardScaler(copy,with_mean,with_std)\n",
    "        self.columns = columns\n",
    "        self.mean_ = None\n",
    "        self.vr_ = None\n",
    "    \n",
    "    def fit(self, X, y=None):\n",
    "        self.scaler.fit(X[self.columns], y)\n",
    "        self.mean_ = np.mean(X[self.columns])\n",
    "        self.var_ = np.var(X[self.columns])\n",
    "        return self\n",
    "    \n",
    "    def transform(self, X, y=None, copy=None):\n",
    "        init_col_order = X.columns\n",
    "        X_scaled = pd.DataFrame(self.scaler.transform(X[self.columns]), columns=self.columns)\n",
    "        X_not_scaled= X.loc[:,~X.columns.isin(self.columns)]\n",
    "        return pd.concat([X_not_scaled,X_scaled], axis=1)[init_col_order]"
   ]
  },
  {
   "cell_type": "code",
   "execution_count": 78,
   "metadata": {},
   "outputs": [
    {
     "data": {
      "text/plain": [
       "array(['region_nord', 'region_centre', 'region_sud', 'Month Value',\n",
       "       'Year Value', 'Rayonnement solaire global (W/m2)'], dtype=object)"
      ]
     },
     "execution_count": 78,
     "metadata": {},
     "output_type": "execute_result"
    }
   ],
   "source": [
    "unscaled_inputs.columns.values"
   ]
  },
  {
   "cell_type": "code",
   "execution_count": 79,
   "metadata": {},
   "outputs": [],
   "source": [
    "columns_to_scale = ['region_sud', 'region_nord', 'region_centre', 'Month Value',\n",
    "       'Year Value', 'Rayonnement solaire global (W/m2)', 'Production solaire (GWh)']\n",
    "columns_to_omit = []"
   ]
  },
  {
   "cell_type": "code",
   "execution_count": 80,
   "metadata": {},
   "outputs": [],
   "source": [
    "columns_to_scale = [x for x in unscaled_inputs.columns.values if x not in columns_to_omit]"
   ]
  },
  {
   "cell_type": "code",
   "execution_count": 81,
   "metadata": {
    "scrolled": true
   },
   "outputs": [],
   "source": [
    "solar_scaler = CustomScaler(columns_to_scale)"
   ]
  },
  {
   "cell_type": "code",
   "execution_count": 82,
   "metadata": {},
   "outputs": [
    {
     "name": "stderr",
     "output_type": "stream",
     "text": [
      "C:\\Users\\charl\\anaconda3\\lib\\site-packages\\sklearn\\base.py:193: FutureWarning: From version 0.24, get_params will raise an AttributeError if a parameter cannot be retrieved as an instance attribute. Previously it would return None.\n",
      "  warnings.warn('From version 0.24, get_params will raise an '\n"
     ]
    },
    {
     "data": {
      "text/plain": [
       "CustomScaler(columns=['region_nord', 'region_centre', 'region_sud',\n",
       "                      'Month Value', 'Year Value',\n",
       "                      'Rayonnement solaire global (W/m2)'],\n",
       "             copy=None, with_mean=None, with_std=None)"
      ]
     },
     "execution_count": 82,
     "metadata": {},
     "output_type": "execute_result"
    }
   ],
   "source": [
    "solar_scaler.fit(unscaled_inputs)"
   ]
  },
  {
   "cell_type": "code",
   "execution_count": 83,
   "metadata": {},
   "outputs": [],
   "source": [
    "scaled_inputs = solar_scaler.transform(unscaled_inputs)"
   ]
  },
  {
   "cell_type": "code",
   "execution_count": 84,
   "metadata": {},
   "outputs": [
    {
     "name": "stderr",
     "output_type": "stream",
     "text": [
      "C:\\Users\\charl\\anaconda3\\lib\\site-packages\\sklearn\\base.py:193: FutureWarning: From version 0.24, get_params will raise an AttributeError if a parameter cannot be retrieved as an instance attribute. Previously it would return None.\n",
      "  warnings.warn('From version 0.24, get_params will raise an '\n"
     ]
    },
    {
     "data": {
      "text/plain": [
       "CustomScaler(columns=['region_nord', 'region_centre', 'region_sud',\n",
       "                      'Month Value', 'Year Value',\n",
       "                      'Rayonnement solaire global (W/m2)'],\n",
       "             copy=None, with_mean=None, with_std=None)"
      ]
     },
     "execution_count": 84,
     "metadata": {},
     "output_type": "execute_result"
    }
   ],
   "source": [
    "solar_scaler.fit(unscaled_inputs)"
   ]
  },
  {
   "cell_type": "code",
   "execution_count": 85,
   "metadata": {},
   "outputs": [],
   "source": [
    "scaled_inputs = solar_scaler.transform(unscaled_inputs)"
   ]
  },
  {
   "cell_type": "code",
   "execution_count": 86,
   "metadata": {
    "scrolled": true
   },
   "outputs": [
    {
     "data": {
      "text/html": [
       "<div>\n",
       "<style scoped>\n",
       "    .dataframe tbody tr th:only-of-type {\n",
       "        vertical-align: middle;\n",
       "    }\n",
       "\n",
       "    .dataframe tbody tr th {\n",
       "        vertical-align: top;\n",
       "    }\n",
       "\n",
       "    .dataframe thead th {\n",
       "        text-align: right;\n",
       "    }\n",
       "</style>\n",
       "<table border=\"1\" class=\"dataframe\">\n",
       "  <thead>\n",
       "    <tr style=\"text-align: right;\">\n",
       "      <th></th>\n",
       "      <th>region_nord</th>\n",
       "      <th>region_centre</th>\n",
       "      <th>region_sud</th>\n",
       "      <th>Month Value</th>\n",
       "      <th>Year Value</th>\n",
       "      <th>Rayonnement solaire global (W/m2)</th>\n",
       "    </tr>\n",
       "  </thead>\n",
       "  <tbody>\n",
       "    <tr>\n",
       "      <th>0</th>\n",
       "      <td>1.097943</td>\n",
       "      <td>-0.283790</td>\n",
       "      <td>-0.320530</td>\n",
       "      <td>-1.204950</td>\n",
       "      <td>-1.545362</td>\n",
       "      <td>0.262034</td>\n",
       "    </tr>\n",
       "    <tr>\n",
       "      <th>1</th>\n",
       "      <td>-0.910794</td>\n",
       "      <td>-0.283790</td>\n",
       "      <td>-0.320530</td>\n",
       "      <td>-1.204950</td>\n",
       "      <td>-1.545362</td>\n",
       "      <td>1.672103</td>\n",
       "    </tr>\n",
       "    <tr>\n",
       "      <th>2</th>\n",
       "      <td>1.097943</td>\n",
       "      <td>-0.283790</td>\n",
       "      <td>-0.320530</td>\n",
       "      <td>-0.927415</td>\n",
       "      <td>-1.545362</td>\n",
       "      <td>0.902621</td>\n",
       "    </tr>\n",
       "    <tr>\n",
       "      <th>3</th>\n",
       "      <td>-0.910794</td>\n",
       "      <td>-0.283790</td>\n",
       "      <td>-0.320530</td>\n",
       "      <td>-0.927415</td>\n",
       "      <td>-1.545362</td>\n",
       "      <td>1.858247</td>\n",
       "    </tr>\n",
       "    <tr>\n",
       "      <th>4</th>\n",
       "      <td>1.097943</td>\n",
       "      <td>-0.283790</td>\n",
       "      <td>-0.320530</td>\n",
       "      <td>-0.649880</td>\n",
       "      <td>-1.545362</td>\n",
       "      <td>-0.075255</td>\n",
       "    </tr>\n",
       "    <tr>\n",
       "      <th>...</th>\n",
       "      <td>...</td>\n",
       "      <td>...</td>\n",
       "      <td>...</td>\n",
       "      <td>...</td>\n",
       "      <td>...</td>\n",
       "      <td>...</td>\n",
       "    </tr>\n",
       "    <tr>\n",
       "      <th>156</th>\n",
       "      <td>-0.910794</td>\n",
       "      <td>-0.283790</td>\n",
       "      <td>3.119829</td>\n",
       "      <td>-0.649880</td>\n",
       "      <td>1.250181</td>\n",
       "      <td>0.011809</td>\n",
       "    </tr>\n",
       "    <tr>\n",
       "      <th>157</th>\n",
       "      <td>-0.910794</td>\n",
       "      <td>-0.283790</td>\n",
       "      <td>3.119829</td>\n",
       "      <td>-0.649880</td>\n",
       "      <td>1.250181</td>\n",
       "      <td>0.752383</td>\n",
       "    </tr>\n",
       "    <tr>\n",
       "      <th>158</th>\n",
       "      <td>-0.910794</td>\n",
       "      <td>3.523729</td>\n",
       "      <td>-0.320530</td>\n",
       "      <td>-0.649880</td>\n",
       "      <td>1.250181</td>\n",
       "      <td>1.082421</td>\n",
       "    </tr>\n",
       "    <tr>\n",
       "      <th>159</th>\n",
       "      <td>-0.910794</td>\n",
       "      <td>-0.283790</td>\n",
       "      <td>3.119829</td>\n",
       "      <td>-0.649880</td>\n",
       "      <td>1.250181</td>\n",
       "      <td>0.188903</td>\n",
       "    </tr>\n",
       "    <tr>\n",
       "      <th>160</th>\n",
       "      <td>1.097943</td>\n",
       "      <td>-0.283790</td>\n",
       "      <td>-0.320530</td>\n",
       "      <td>-0.649880</td>\n",
       "      <td>1.250181</td>\n",
       "      <td>0.438444</td>\n",
       "    </tr>\n",
       "  </tbody>\n",
       "</table>\n",
       "<p>161 rows × 6 columns</p>\n",
       "</div>"
      ],
      "text/plain": [
       "     region_nord  region_centre  region_sud  Month Value  Year Value  \\\n",
       "0       1.097943      -0.283790   -0.320530    -1.204950   -1.545362   \n",
       "1      -0.910794      -0.283790   -0.320530    -1.204950   -1.545362   \n",
       "2       1.097943      -0.283790   -0.320530    -0.927415   -1.545362   \n",
       "3      -0.910794      -0.283790   -0.320530    -0.927415   -1.545362   \n",
       "4       1.097943      -0.283790   -0.320530    -0.649880   -1.545362   \n",
       "..           ...            ...         ...          ...         ...   \n",
       "156    -0.910794      -0.283790    3.119829    -0.649880    1.250181   \n",
       "157    -0.910794      -0.283790    3.119829    -0.649880    1.250181   \n",
       "158    -0.910794       3.523729   -0.320530    -0.649880    1.250181   \n",
       "159    -0.910794      -0.283790    3.119829    -0.649880    1.250181   \n",
       "160     1.097943      -0.283790   -0.320530    -0.649880    1.250181   \n",
       "\n",
       "     Rayonnement solaire global (W/m2)  \n",
       "0                             0.262034  \n",
       "1                             1.672103  \n",
       "2                             0.902621  \n",
       "3                             1.858247  \n",
       "4                            -0.075255  \n",
       "..                                 ...  \n",
       "156                           0.011809  \n",
       "157                           0.752383  \n",
       "158                           1.082421  \n",
       "159                           0.188903  \n",
       "160                           0.438444  \n",
       "\n",
       "[161 rows x 6 columns]"
      ]
     },
     "execution_count": 86,
     "metadata": {},
     "output_type": "execute_result"
    }
   ],
   "source": [
    "scaled_inputs[:161][:]"
   ]
  },
  {
   "cell_type": "code",
   "execution_count": 87,
   "metadata": {},
   "outputs": [
    {
     "data": {
      "text/plain": [
       "(161, 6)"
      ]
     },
     "execution_count": 87,
     "metadata": {},
     "output_type": "execute_result"
    }
   ],
   "source": [
    "scaled_inputs[:161][:].shape"
   ]
  },
  {
   "cell_type": "markdown",
   "metadata": {},
   "source": [
    "# Split the data into train & test and shuffle"
   ]
  },
  {
   "cell_type": "markdown",
   "metadata": {},
   "source": [
    "## Import the relevant module "
   ]
  },
  {
   "cell_type": "code",
   "execution_count": 88,
   "metadata": {},
   "outputs": [],
   "source": [
    "from sklearn.model_selection import train_test_split"
   ]
  },
  {
   "cell_type": "markdown",
   "metadata": {},
   "source": [
    "## Split"
   ]
  },
  {
   "cell_type": "code",
   "execution_count": 89,
   "metadata": {},
   "outputs": [
    {
     "data": {
      "text/plain": [
       "[     region_nord  region_centre  region_sud  Month Value  Year Value  \\\n",
       " 77     -0.910794       -0.28379   -0.320530    -0.649880    0.131964   \n",
       " 142     1.097943       -0.28379   -0.320530    -0.927415    1.250181   \n",
       " 21     -0.910794       -0.28379   -0.320530     1.570400   -1.545362   \n",
       " 24      1.097943       -0.28379   -0.320530    -1.204950   -0.986254   \n",
       " 134     1.097943       -0.28379   -0.320530    -1.204950    1.250181   \n",
       " ..           ...            ...         ...          ...         ...   \n",
       " 36      1.097943       -0.28379   -0.320530     0.460260   -0.986254   \n",
       " 44      1.097943       -0.28379   -0.320530     1.570400   -0.986254   \n",
       " 148    -0.910794       -0.28379    3.119829    -0.649880    1.250181   \n",
       " 100     1.097943       -0.28379   -0.320530    -0.649880    0.691072   \n",
       " 110     1.097943       -0.28379   -0.320530     0.737795    0.691072   \n",
       " \n",
       "      Rayonnement solaire global (W/m2)  \n",
       " 77                            1.683358  \n",
       " 142                           1.876467  \n",
       " 21                            0.536181  \n",
       " 24                           -0.605585  \n",
       " 134                           0.639654  \n",
       " ..                                 ...  \n",
       " 36                           -1.196492  \n",
       " 44                           -0.342211  \n",
       " 148                          -1.920122  \n",
       " 100                           0.633422  \n",
       " 110                          -1.406466  \n",
       " \n",
       " [120 rows x 6 columns],\n",
       "      region_nord  region_centre  region_sud  Month Value  Year Value  \\\n",
       " 67     -0.910794      -0.283790   -0.320530     1.292865   -0.427145   \n",
       " 135    -0.910794      -0.283790    3.119829    -0.927415    1.250181   \n",
       " 65     -0.910794      -0.283790   -0.320530     1.015330   -0.427145   \n",
       " 144    -0.910794      -0.283790    3.119829    -0.927415    1.250181   \n",
       " 20      1.097943      -0.283790   -0.320530     1.570400   -1.545362   \n",
       " 15     -0.910794      -0.283790   -0.320530     0.737795   -1.545362   \n",
       " 52      1.097943      -0.283790   -0.320530    -0.649880   -0.427145   \n",
       " 91     -0.910794      -0.283790   -0.320530     1.292865    0.131964   \n",
       " 145    -0.910794       3.523729   -0.320530    -0.927415    1.250181   \n",
       " 2       1.097943      -0.283790   -0.320530    -0.927415   -1.545362   \n",
       " 96      1.097943      -0.283790   -0.320530    -1.204950    0.691072   \n",
       " 37     -0.910794      -0.283790   -0.320530     0.460260   -0.986254   \n",
       " 153     1.097943      -0.283790   -0.320530    -0.649880    1.250181   \n",
       " 141     1.097943      -0.283790   -0.320530    -0.927415    1.250181   \n",
       " 113    -0.910794      -0.283790   -0.320530     1.015330    0.691072   \n",
       " 82      1.097943      -0.283790   -0.320530     0.182725    0.131964   \n",
       " 78      1.097943      -0.283790   -0.320530    -0.372345    0.131964   \n",
       " 6       1.097943      -0.283790   -0.320530    -0.372345   -1.545362   \n",
       " 33     -0.910794      -0.283790   -0.320530    -0.094810   -0.986254   \n",
       " 159    -0.910794      -0.283790    3.119829    -0.649880    1.250181   \n",
       " 157    -0.910794      -0.283790    3.119829    -0.649880    1.250181   \n",
       " 28      1.097943      -0.283790   -0.320530    -0.649880   -0.986254   \n",
       " 79     -0.910794      -0.283790   -0.320530    -0.372345    0.131964   \n",
       " 138    -0.910794       3.523729   -0.320530    -0.927415    1.250181   \n",
       " 22      1.097943      -0.283790   -0.320530     1.847935   -1.545362   \n",
       " 75     -0.910794      -0.283790   -0.320530    -0.927415    0.131964   \n",
       " 72      1.097943      -0.283790   -0.320530    -1.204950    0.131964   \n",
       " 62      1.097943      -0.283790   -0.320530     0.737795   -0.427145   \n",
       " 122    -0.910794       3.523729   -0.320530    -1.204950    1.250181   \n",
       " 156    -0.910794      -0.283790    3.119829    -0.649880    1.250181   \n",
       " 155     1.097943      -0.283790   -0.320530    -0.649880    1.250181   \n",
       " 88      1.097943      -0.283790   -0.320530     1.015330    0.131964   \n",
       " 132    -0.910794       3.523729   -0.320530    -1.204950    1.250181   \n",
       " 58      1.097943      -0.283790   -0.320530     0.182725   -0.427145   \n",
       " 111    -0.910794      -0.283790   -0.320530     0.737795    0.691072   \n",
       " 121    -0.910794       3.523729   -0.320530    -1.204950    1.250181   \n",
       " 60      1.097943      -0.283790   -0.320530     0.460260   -0.427145   \n",
       " 154     1.097943      -0.283790   -0.320530    -0.649880    1.250181   \n",
       " 38      1.097943      -0.283790   -0.320530     0.737795   -0.986254   \n",
       " 140     1.097943      -0.283790   -0.320530    -0.927415    1.250181   \n",
       " 150    -0.910794       3.523729   -0.320530    -0.649880    1.250181   \n",
       " \n",
       "      Rayonnement solaire global (W/m2)  \n",
       " 67                            0.107824  \n",
       " 135                          -1.730235  \n",
       " 65                           -0.538322  \n",
       " 144                           0.599546  \n",
       " 20                           -0.588733  \n",
       " 15                           -0.825069  \n",
       " 52                            0.260409  \n",
       " 91                            0.826842  \n",
       " 145                           1.582365  \n",
       " 2                             0.902621  \n",
       " 96                            0.496512  \n",
       " 37                           -0.418234  \n",
       " 153                          -0.157235  \n",
       " 141                           1.268247  \n",
       " 113                          -0.554958  \n",
       " 82                           -0.906395  \n",
       " 78                           -0.466143  \n",
       " 6                            -1.053939  \n",
       " 33                           -0.434431  \n",
       " 159                           0.188903  \n",
       " 157                           0.752383  \n",
       " 28                           -0.414469  \n",
       " 79                           -0.131543  \n",
       " 138                           0.628546  \n",
       " 22                           -1.565902  \n",
       " 75                            0.527134  \n",
       " 72                            0.119571  \n",
       " 62                           -1.246322  \n",
       " 122                           1.756227  \n",
       " 156                           0.011809  \n",
       " 155                           0.905327  \n",
       " 88                           -0.467920  \n",
       " 132                           1.153245  \n",
       " 58                           -1.276984  \n",
       " 111                          -0.822537  \n",
       " 121                          -0.019871  \n",
       " 60                           -1.639875  \n",
       " 154                           0.607488  \n",
       " 38                           -1.685707  \n",
       " 140                           0.263003  \n",
       " 150                           1.122669  ,\n",
       " array([1, 0, 0, 0, 0, 0, 1, 0, 0, 0, 1, 1, 1, 0, 0, 1, 1, 1, 0, 0, 0, 0,\n",
       "        0, 0, 1, 0, 1, 1, 1, 0, 1, 0, 0, 0, 0, 0, 1, 1, 1, 1, 0, 1, 1, 0,\n",
       "        1, 0, 1, 0, 0, 0, 0, 1, 0, 0, 1, 0, 0, 1, 0, 0, 1, 0, 0, 0, 0, 1,\n",
       "        0, 0, 0, 0, 1, 0, 0, 0, 0, 0, 0, 0, 1, 1, 1, 1, 1, 1, 1, 1, 1, 1,\n",
       "        0, 1, 1, 1, 0, 1, 0, 0, 1, 1, 0, 1, 1, 1, 0, 0, 0, 1, 0, 0, 0, 1,\n",
       "        1, 1, 1, 0, 0, 0, 0, 1, 0, 1]),\n",
       " array([1, 1, 1, 1, 0, 1, 0, 1, 1, 0, 1, 1, 1, 0, 1, 1, 1, 0, 1, 1, 1, 0,\n",
       "        1, 1, 0, 1, 0, 1, 0, 1, 0, 1, 0, 1, 1, 0, 1, 0, 0, 1, 1])]"
      ]
     },
     "execution_count": 89,
     "metadata": {},
     "output_type": "execute_result"
    }
   ],
   "source": [
    "train_test_split(scaled_inputs[:161][:], targets)"
   ]
  },
  {
   "cell_type": "code",
   "execution_count": 90,
   "metadata": {},
   "outputs": [],
   "source": [
    "x_train, x_test, y_train, y_test = train_test_split(scaled_inputs[:161][:], targets, train_size = 0.8, random_state = 20)"
   ]
  },
  {
   "cell_type": "code",
   "execution_count": 91,
   "metadata": {},
   "outputs": [
    {
     "name": "stdout",
     "output_type": "stream",
     "text": [
      "(128, 6) (128,)\n"
     ]
    }
   ],
   "source": [
    "print(x_train.shape, y_train.shape)"
   ]
  },
  {
   "cell_type": "code",
   "execution_count": 92,
   "metadata": {},
   "outputs": [
    {
     "name": "stdout",
     "output_type": "stream",
     "text": [
      "(33, 6) (33,)\n"
     ]
    }
   ],
   "source": [
    "print(x_test.shape, y_test.shape)"
   ]
  },
  {
   "cell_type": "markdown",
   "metadata": {},
   "source": [
    "# Logisitc regression with sklearn"
   ]
  },
  {
   "cell_type": "code",
   "execution_count": 93,
   "metadata": {},
   "outputs": [],
   "source": [
    "from sklearn.linear_model import LogisticRegression\n",
    "from sklearn import metrics"
   ]
  },
  {
   "cell_type": "markdown",
   "metadata": {},
   "source": [
    "# Training the model"
   ]
  },
  {
   "cell_type": "code",
   "execution_count": 94,
   "metadata": {},
   "outputs": [],
   "source": [
    "reg = LogisticRegression()"
   ]
  },
  {
   "cell_type": "code",
   "execution_count": 95,
   "metadata": {},
   "outputs": [
    {
     "data": {
      "text/plain": [
       "LogisticRegression(C=1.0, class_weight=None, dual=False, fit_intercept=True,\n",
       "                   intercept_scaling=1, l1_ratio=None, max_iter=100,\n",
       "                   multi_class='auto', n_jobs=None, penalty='l2',\n",
       "                   random_state=None, solver='lbfgs', tol=0.0001, verbose=0,\n",
       "                   warm_start=False)"
      ]
     },
     "execution_count": 95,
     "metadata": {},
     "output_type": "execute_result"
    }
   ],
   "source": [
    "reg.fit(x_train, y_train)"
   ]
  },
  {
   "cell_type": "code",
   "execution_count": 96,
   "metadata": {},
   "outputs": [
    {
     "data": {
      "text/plain": [
       "0.8671875"
      ]
     },
     "execution_count": 96,
     "metadata": {},
     "output_type": "execute_result"
    }
   ],
   "source": [
    "reg.score(x_train, y_train)"
   ]
  },
  {
   "cell_type": "markdown",
   "metadata": {},
   "source": [
    "### Manually check accuracy"
   ]
  },
  {
   "cell_type": "code",
   "execution_count": 97,
   "metadata": {},
   "outputs": [
    {
     "data": {
      "text/plain": [
       "array([1, 0, 1, 1, 1, 0, 0, 1, 0, 1, 0, 0, 1, 1, 0, 1, 0, 1, 0, 1, 0, 0,\n",
       "       0, 0, 0, 0, 0, 0, 1, 1, 1, 1, 1, 1, 1, 0, 1, 1, 0, 1, 1, 1, 1, 0,\n",
       "       1, 1, 0, 1, 1, 0, 0, 0, 0, 1, 1, 1, 0, 1, 1, 1, 0, 1, 1, 1, 1, 1,\n",
       "       1, 0, 1, 0, 0, 0, 0, 0, 0, 0, 1, 0, 0, 0, 1, 1, 0, 0, 0, 0, 1, 0,\n",
       "       0, 0, 1, 1, 1, 1, 0, 1, 1, 0, 0, 0, 0, 1, 0, 0, 1, 1, 1, 1, 0, 0,\n",
       "       1, 0, 0, 0, 1, 1, 0, 0, 0, 0, 0, 0, 1, 1, 0, 1, 1, 0])"
      ]
     },
     "execution_count": 97,
     "metadata": {},
     "output_type": "execute_result"
    }
   ],
   "source": [
    "model_outputs = reg.predict(x_train)\n",
    "model_outputs"
   ]
  },
  {
   "cell_type": "code",
   "execution_count": 98,
   "metadata": {},
   "outputs": [
    {
     "data": {
      "text/plain": [
       "array([1, 0, 1, 1, 1, 0, 1, 1, 0, 0, 0, 0, 1, 0, 0, 1, 0, 1, 0, 0, 0, 0,\n",
       "       0, 0, 0, 0, 0, 0, 1, 1, 1, 1, 1, 1, 1, 0, 1, 1, 0, 1, 0, 1, 1, 1,\n",
       "       0, 1, 0, 1, 1, 0, 0, 0, 0, 1, 1, 1, 1, 1, 1, 1, 0, 1, 1, 1, 0, 1,\n",
       "       1, 0, 1, 0, 0, 0, 0, 0, 0, 0, 0, 1, 0, 0, 0, 1, 0, 0, 0, 1, 1, 0,\n",
       "       0, 0, 1, 1, 1, 1, 0, 1, 0, 1, 0, 0, 0, 1, 0, 0, 1, 1, 1, 1, 0, 0,\n",
       "       1, 0, 1, 0, 1, 1, 0, 0, 0, 0, 0, 0, 1, 1, 1, 1, 1, 0])"
      ]
     },
     "execution_count": 98,
     "metadata": {},
     "output_type": "execute_result"
    }
   ],
   "source": [
    "y_train"
   ]
  },
  {
   "cell_type": "code",
   "execution_count": 99,
   "metadata": {},
   "outputs": [
    {
     "data": {
      "text/plain": [
       "array([ True,  True,  True,  True,  True,  True, False,  True,  True,\n",
       "       False,  True,  True,  True, False,  True,  True,  True,  True,\n",
       "        True, False,  True,  True,  True,  True,  True,  True,  True,\n",
       "        True,  True,  True,  True,  True,  True,  True,  True,  True,\n",
       "        True,  True,  True,  True, False,  True,  True, False, False,\n",
       "        True,  True,  True,  True,  True,  True,  True,  True,  True,\n",
       "        True,  True, False,  True,  True,  True,  True,  True,  True,\n",
       "        True, False,  True,  True,  True,  True,  True,  True,  True,\n",
       "        True,  True,  True,  True, False, False,  True,  True, False,\n",
       "        True,  True,  True,  True, False,  True,  True,  True,  True,\n",
       "        True,  True,  True,  True,  True,  True, False, False,  True,\n",
       "        True,  True,  True,  True,  True,  True,  True,  True,  True,\n",
       "        True,  True,  True,  True, False,  True,  True,  True,  True,\n",
       "        True,  True,  True,  True,  True,  True,  True, False,  True,\n",
       "        True,  True])"
      ]
     },
     "execution_count": 99,
     "metadata": {},
     "output_type": "execute_result"
    }
   ],
   "source": [
    "model_outputs == y_train"
   ]
  },
  {
   "cell_type": "code",
   "execution_count": 100,
   "metadata": {},
   "outputs": [
    {
     "data": {
      "text/plain": [
       "111"
      ]
     },
     "execution_count": 100,
     "metadata": {},
     "output_type": "execute_result"
    }
   ],
   "source": [
    "np.sum(model_outputs==y_train)"
   ]
  },
  {
   "cell_type": "code",
   "execution_count": 101,
   "metadata": {},
   "outputs": [
    {
     "data": {
      "text/plain": [
       "128"
      ]
     },
     "execution_count": 101,
     "metadata": {},
     "output_type": "execute_result"
    }
   ],
   "source": [
    "model_outputs.shape[0]"
   ]
  },
  {
   "cell_type": "code",
   "execution_count": 102,
   "metadata": {},
   "outputs": [
    {
     "data": {
      "text/plain": [
       "0.8671875"
      ]
     },
     "execution_count": 102,
     "metadata": {},
     "output_type": "execute_result"
    }
   ],
   "source": [
    "np.sum(model_outputs==y_train)/model_outputs.shape[0]"
   ]
  },
  {
   "cell_type": "markdown",
   "metadata": {},
   "source": [
    "### Finding the intercept and coefficients"
   ]
  },
  {
   "cell_type": "code",
   "execution_count": 103,
   "metadata": {},
   "outputs": [
    {
     "data": {
      "text/plain": [
       "array([0.07698082])"
      ]
     },
     "execution_count": 103,
     "metadata": {},
     "output_type": "execute_result"
    }
   ],
   "source": [
    "reg.intercept_"
   ]
  },
  {
   "cell_type": "code",
   "execution_count": 104,
   "metadata": {},
   "outputs": [
    {
     "data": {
      "text/plain": [
       "array([[-1.57189917e+00,  1.04637311e-03,  5.98290630e-01,\n",
       "        -2.71429570e-01,  1.37915431e+00, -2.21098704e+00]])"
      ]
     },
     "execution_count": 104,
     "metadata": {},
     "output_type": "execute_result"
    }
   ],
   "source": [
    "reg.coef_"
   ]
  },
  {
   "cell_type": "code",
   "execution_count": 105,
   "metadata": {},
   "outputs": [
    {
     "data": {
      "text/plain": [
       "array(['region_nord', 'region_centre', 'region_sud', 'Month Value',\n",
       "       'Year Value', 'Rayonnement solaire global (W/m2)'], dtype=object)"
      ]
     },
     "execution_count": 105,
     "metadata": {},
     "output_type": "execute_result"
    }
   ],
   "source": [
    "unscaled_inputs.columns.values"
   ]
  },
  {
   "cell_type": "code",
   "execution_count": 106,
   "metadata": {},
   "outputs": [],
   "source": [
    "feature_name = unscaled_inputs.columns.values"
   ]
  },
  {
   "cell_type": "code",
   "execution_count": 107,
   "metadata": {
    "scrolled": true
   },
   "outputs": [
    {
     "data": {
      "text/html": [
       "<div>\n",
       "<style scoped>\n",
       "    .dataframe tbody tr th:only-of-type {\n",
       "        vertical-align: middle;\n",
       "    }\n",
       "\n",
       "    .dataframe tbody tr th {\n",
       "        vertical-align: top;\n",
       "    }\n",
       "\n",
       "    .dataframe thead th {\n",
       "        text-align: right;\n",
       "    }\n",
       "</style>\n",
       "<table border=\"1\" class=\"dataframe\">\n",
       "  <thead>\n",
       "    <tr style=\"text-align: right;\">\n",
       "      <th></th>\n",
       "      <th>feature_name</th>\n",
       "      <th>Coefficient</th>\n",
       "    </tr>\n",
       "  </thead>\n",
       "  <tbody>\n",
       "    <tr>\n",
       "      <th>0</th>\n",
       "      <td>region_nord</td>\n",
       "      <td>-1.571899</td>\n",
       "    </tr>\n",
       "    <tr>\n",
       "      <th>1</th>\n",
       "      <td>region_centre</td>\n",
       "      <td>0.001046</td>\n",
       "    </tr>\n",
       "    <tr>\n",
       "      <th>2</th>\n",
       "      <td>region_sud</td>\n",
       "      <td>0.598291</td>\n",
       "    </tr>\n",
       "    <tr>\n",
       "      <th>3</th>\n",
       "      <td>Month Value</td>\n",
       "      <td>-0.271430</td>\n",
       "    </tr>\n",
       "    <tr>\n",
       "      <th>4</th>\n",
       "      <td>Year Value</td>\n",
       "      <td>1.379154</td>\n",
       "    </tr>\n",
       "    <tr>\n",
       "      <th>5</th>\n",
       "      <td>Rayonnement solaire global (W/m2)</td>\n",
       "      <td>-2.210987</td>\n",
       "    </tr>\n",
       "  </tbody>\n",
       "</table>\n",
       "</div>"
      ],
      "text/plain": [
       "                        feature_name  Coefficient\n",
       "0                        region_nord    -1.571899\n",
       "1                      region_centre     0.001046\n",
       "2                         region_sud     0.598291\n",
       "3                        Month Value    -0.271430\n",
       "4                         Year Value     1.379154\n",
       "5  Rayonnement solaire global (W/m2)    -2.210987"
      ]
     },
     "execution_count": 107,
     "metadata": {},
     "output_type": "execute_result"
    }
   ],
   "source": [
    "summary_table = pd.DataFrame (columns=['feature_name'], data = feature_name)\n",
    "summary_table['Coefficient'] = np.transpose(reg.coef_)\n",
    "summary_table"
   ]
  },
  {
   "cell_type": "code",
   "execution_count": 108,
   "metadata": {},
   "outputs": [],
   "source": [
    "summary_table.index = summary_table.index+1"
   ]
  },
  {
   "cell_type": "code",
   "execution_count": 109,
   "metadata": {
    "scrolled": true
   },
   "outputs": [
    {
     "data": {
      "text/html": [
       "<div>\n",
       "<style scoped>\n",
       "    .dataframe tbody tr th:only-of-type {\n",
       "        vertical-align: middle;\n",
       "    }\n",
       "\n",
       "    .dataframe tbody tr th {\n",
       "        vertical-align: top;\n",
       "    }\n",
       "\n",
       "    .dataframe thead th {\n",
       "        text-align: right;\n",
       "    }\n",
       "</style>\n",
       "<table border=\"1\" class=\"dataframe\">\n",
       "  <thead>\n",
       "    <tr style=\"text-align: right;\">\n",
       "      <th></th>\n",
       "      <th>feature_name</th>\n",
       "      <th>Coefficient</th>\n",
       "    </tr>\n",
       "  </thead>\n",
       "  <tbody>\n",
       "    <tr>\n",
       "      <th>0</th>\n",
       "      <td>Intercept</td>\n",
       "      <td>0.076981</td>\n",
       "    </tr>\n",
       "    <tr>\n",
       "      <th>1</th>\n",
       "      <td>region_nord</td>\n",
       "      <td>-1.571899</td>\n",
       "    </tr>\n",
       "    <tr>\n",
       "      <th>2</th>\n",
       "      <td>region_centre</td>\n",
       "      <td>0.001046</td>\n",
       "    </tr>\n",
       "    <tr>\n",
       "      <th>3</th>\n",
       "      <td>region_sud</td>\n",
       "      <td>0.598291</td>\n",
       "    </tr>\n",
       "    <tr>\n",
       "      <th>4</th>\n",
       "      <td>Month Value</td>\n",
       "      <td>-0.271430</td>\n",
       "    </tr>\n",
       "    <tr>\n",
       "      <th>5</th>\n",
       "      <td>Year Value</td>\n",
       "      <td>1.379154</td>\n",
       "    </tr>\n",
       "    <tr>\n",
       "      <th>6</th>\n",
       "      <td>Rayonnement solaire global (W/m2)</td>\n",
       "      <td>-2.210987</td>\n",
       "    </tr>\n",
       "  </tbody>\n",
       "</table>\n",
       "</div>"
      ],
      "text/plain": [
       "                        feature_name  Coefficient\n",
       "0                          Intercept     0.076981\n",
       "1                        region_nord    -1.571899\n",
       "2                      region_centre     0.001046\n",
       "3                         region_sud     0.598291\n",
       "4                        Month Value    -0.271430\n",
       "5                         Year Value     1.379154\n",
       "6  Rayonnement solaire global (W/m2)    -2.210987"
      ]
     },
     "execution_count": 109,
     "metadata": {},
     "output_type": "execute_result"
    }
   ],
   "source": [
    "summary_table.loc[0] = ['Intercept', reg.intercept_[0]]\n",
    "summary_table = summary_table.sort_index()\n",
    "summary_table"
   ]
  },
  {
   "cell_type": "markdown",
   "metadata": {},
   "source": [
    "## Interpreting the coefficient"
   ]
  },
  {
   "cell_type": "code",
   "execution_count": 110,
   "metadata": {},
   "outputs": [],
   "source": [
    "summary_table['Odd_ratio'] = np.exp(summary_table.Coefficient)"
   ]
  },
  {
   "cell_type": "code",
   "execution_count": 111,
   "metadata": {},
   "outputs": [
    {
     "data": {
      "text/html": [
       "<div>\n",
       "<style scoped>\n",
       "    .dataframe tbody tr th:only-of-type {\n",
       "        vertical-align: middle;\n",
       "    }\n",
       "\n",
       "    .dataframe tbody tr th {\n",
       "        vertical-align: top;\n",
       "    }\n",
       "\n",
       "    .dataframe thead th {\n",
       "        text-align: right;\n",
       "    }\n",
       "</style>\n",
       "<table border=\"1\" class=\"dataframe\">\n",
       "  <thead>\n",
       "    <tr style=\"text-align: right;\">\n",
       "      <th></th>\n",
       "      <th>feature_name</th>\n",
       "      <th>Coefficient</th>\n",
       "      <th>Odd_ratio</th>\n",
       "    </tr>\n",
       "  </thead>\n",
       "  <tbody>\n",
       "    <tr>\n",
       "      <th>0</th>\n",
       "      <td>Intercept</td>\n",
       "      <td>0.076981</td>\n",
       "      <td>1.080021</td>\n",
       "    </tr>\n",
       "    <tr>\n",
       "      <th>1</th>\n",
       "      <td>region_nord</td>\n",
       "      <td>-1.571899</td>\n",
       "      <td>0.207650</td>\n",
       "    </tr>\n",
       "    <tr>\n",
       "      <th>2</th>\n",
       "      <td>region_centre</td>\n",
       "      <td>0.001046</td>\n",
       "      <td>1.001047</td>\n",
       "    </tr>\n",
       "    <tr>\n",
       "      <th>3</th>\n",
       "      <td>region_sud</td>\n",
       "      <td>0.598291</td>\n",
       "      <td>1.819007</td>\n",
       "    </tr>\n",
       "    <tr>\n",
       "      <th>4</th>\n",
       "      <td>Month Value</td>\n",
       "      <td>-0.271430</td>\n",
       "      <td>0.762289</td>\n",
       "    </tr>\n",
       "    <tr>\n",
       "      <th>5</th>\n",
       "      <td>Year Value</td>\n",
       "      <td>1.379154</td>\n",
       "      <td>3.971542</td>\n",
       "    </tr>\n",
       "    <tr>\n",
       "      <th>6</th>\n",
       "      <td>Rayonnement solaire global (W/m2)</td>\n",
       "      <td>-2.210987</td>\n",
       "      <td>0.109592</td>\n",
       "    </tr>\n",
       "  </tbody>\n",
       "</table>\n",
       "</div>"
      ],
      "text/plain": [
       "                        feature_name  Coefficient  Odd_ratio\n",
       "0                          Intercept     0.076981   1.080021\n",
       "1                        region_nord    -1.571899   0.207650\n",
       "2                      region_centre     0.001046   1.001047\n",
       "3                         region_sud     0.598291   1.819007\n",
       "4                        Month Value    -0.271430   0.762289\n",
       "5                         Year Value     1.379154   3.971542\n",
       "6  Rayonnement solaire global (W/m2)    -2.210987   0.109592"
      ]
     },
     "execution_count": 111,
     "metadata": {},
     "output_type": "execute_result"
    }
   ],
   "source": [
    "summary_table"
   ]
  },
  {
   "cell_type": "code",
   "execution_count": 112,
   "metadata": {},
   "outputs": [
    {
     "data": {
      "text/html": [
       "<div>\n",
       "<style scoped>\n",
       "    .dataframe tbody tr th:only-of-type {\n",
       "        vertical-align: middle;\n",
       "    }\n",
       "\n",
       "    .dataframe tbody tr th {\n",
       "        vertical-align: top;\n",
       "    }\n",
       "\n",
       "    .dataframe thead th {\n",
       "        text-align: right;\n",
       "    }\n",
       "</style>\n",
       "<table border=\"1\" class=\"dataframe\">\n",
       "  <thead>\n",
       "    <tr style=\"text-align: right;\">\n",
       "      <th></th>\n",
       "      <th>feature_name</th>\n",
       "      <th>Coefficient</th>\n",
       "      <th>Odd_ratio</th>\n",
       "    </tr>\n",
       "  </thead>\n",
       "  <tbody>\n",
       "    <tr>\n",
       "      <th>5</th>\n",
       "      <td>Year Value</td>\n",
       "      <td>1.379154</td>\n",
       "      <td>3.971542</td>\n",
       "    </tr>\n",
       "    <tr>\n",
       "      <th>3</th>\n",
       "      <td>region_sud</td>\n",
       "      <td>0.598291</td>\n",
       "      <td>1.819007</td>\n",
       "    </tr>\n",
       "    <tr>\n",
       "      <th>0</th>\n",
       "      <td>Intercept</td>\n",
       "      <td>0.076981</td>\n",
       "      <td>1.080021</td>\n",
       "    </tr>\n",
       "    <tr>\n",
       "      <th>2</th>\n",
       "      <td>region_centre</td>\n",
       "      <td>0.001046</td>\n",
       "      <td>1.001047</td>\n",
       "    </tr>\n",
       "    <tr>\n",
       "      <th>4</th>\n",
       "      <td>Month Value</td>\n",
       "      <td>-0.271430</td>\n",
       "      <td>0.762289</td>\n",
       "    </tr>\n",
       "    <tr>\n",
       "      <th>1</th>\n",
       "      <td>region_nord</td>\n",
       "      <td>-1.571899</td>\n",
       "      <td>0.207650</td>\n",
       "    </tr>\n",
       "    <tr>\n",
       "      <th>6</th>\n",
       "      <td>Rayonnement solaire global (W/m2)</td>\n",
       "      <td>-2.210987</td>\n",
       "      <td>0.109592</td>\n",
       "    </tr>\n",
       "  </tbody>\n",
       "</table>\n",
       "</div>"
      ],
      "text/plain": [
       "                        feature_name  Coefficient  Odd_ratio\n",
       "5                         Year Value     1.379154   3.971542\n",
       "3                         region_sud     0.598291   1.819007\n",
       "0                          Intercept     0.076981   1.080021\n",
       "2                      region_centre     0.001046   1.001047\n",
       "4                        Month Value    -0.271430   0.762289\n",
       "1                        region_nord    -1.571899   0.207650\n",
       "6  Rayonnement solaire global (W/m2)    -2.210987   0.109592"
      ]
     },
     "execution_count": 112,
     "metadata": {},
     "output_type": "execute_result"
    }
   ],
   "source": [
    "summary_table.sort_values('Odd_ratio', ascending=False)"
   ]
  },
  {
   "cell_type": "markdown",
   "metadata": {},
   "source": [
    "# Testing the model"
   ]
  },
  {
   "cell_type": "code",
   "execution_count": 113,
   "metadata": {},
   "outputs": [
    {
     "data": {
      "text/plain": [
       "0.7878787878787878"
      ]
     },
     "execution_count": 113,
     "metadata": {},
     "output_type": "execute_result"
    }
   ],
   "source": [
    "reg.score(x_test, y_test)"
   ]
  },
  {
   "cell_type": "code",
   "execution_count": 114,
   "metadata": {},
   "outputs": [
    {
     "data": {
      "text/plain": [
       "array([[0.00818806, 0.99181194],\n",
       "       [0.78359195, 0.21640805],\n",
       "       [0.71294838, 0.28705162],\n",
       "       [0.12934233, 0.87065767],\n",
       "       [0.70651011, 0.29348989],\n",
       "       [0.26551032, 0.73448968],\n",
       "       [0.70477921, 0.29522079],\n",
       "       [0.55035261, 0.44964739],\n",
       "       [0.88563379, 0.11436621],\n",
       "       [0.03180658, 0.96819342],\n",
       "       [0.53693725, 0.46306275],\n",
       "       [0.50957811, 0.49042189],\n",
       "       [0.35864219, 0.64135781],\n",
       "       [0.02628794, 0.97371206],\n",
       "       [0.99622299, 0.00377701],\n",
       "       [0.72602287, 0.27397713],\n",
       "       [0.00461126, 0.99538874],\n",
       "       [0.02685218, 0.97314782],\n",
       "       [0.00565332, 0.99434668],\n",
       "       [0.66384402, 0.33615598],\n",
       "       [0.71094318, 0.28905682],\n",
       "       [0.95676087, 0.04323913],\n",
       "       [0.91882179, 0.08117821],\n",
       "       [0.20389728, 0.79610272],\n",
       "       [0.11819509, 0.88180491],\n",
       "       [0.13963966, 0.86036034],\n",
       "       [0.99506039, 0.00493961],\n",
       "       [0.26570202, 0.73429798],\n",
       "       [0.89171278, 0.10828722],\n",
       "       [0.62508078, 0.37491922],\n",
       "       [0.83149443, 0.16850557],\n",
       "       [0.72604024, 0.27395976],\n",
       "       [0.66257056, 0.33742944]])"
      ]
     },
     "execution_count": 114,
     "metadata": {},
     "output_type": "execute_result"
    }
   ],
   "source": [
    "predicted_proba = reg.predict_proba(x_test)\n",
    "predicted_proba"
   ]
  },
  {
   "cell_type": "code",
   "execution_count": 115,
   "metadata": {},
   "outputs": [
    {
     "data": {
      "text/plain": [
       "(33, 2)"
      ]
     },
     "execution_count": 115,
     "metadata": {},
     "output_type": "execute_result"
    }
   ],
   "source": [
    "predicted_proba.shape"
   ]
  },
  {
   "cell_type": "code",
   "execution_count": 116,
   "metadata": {},
   "outputs": [
    {
     "data": {
      "text/plain": [
       "array([0.99181194, 0.21640805, 0.28705162, 0.87065767, 0.29348989,\n",
       "       0.73448968, 0.29522079, 0.44964739, 0.11436621, 0.96819342,\n",
       "       0.46306275, 0.49042189, 0.64135781, 0.97371206, 0.00377701,\n",
       "       0.27397713, 0.99538874, 0.97314782, 0.99434668, 0.33615598,\n",
       "       0.28905682, 0.04323913, 0.08117821, 0.79610272, 0.88180491,\n",
       "       0.86036034, 0.00493961, 0.73429798, 0.10828722, 0.37491922,\n",
       "       0.16850557, 0.27395976, 0.33742944])"
      ]
     },
     "execution_count": 116,
     "metadata": {},
     "output_type": "execute_result"
    }
   ],
   "source": [
    "predicted_proba[:,1]"
   ]
  },
  {
   "cell_type": "markdown",
   "metadata": {},
   "source": [
    "# Saving the model"
   ]
  },
  {
   "cell_type": "code",
   "execution_count": 117,
   "metadata": {},
   "outputs": [],
   "source": [
    "import pickle"
   ]
  },
  {
   "cell_type": "code",
   "execution_count": 118,
   "metadata": {},
   "outputs": [],
   "source": [
    "with open('model','wb') as file:\n",
    "    pickle.dump(reg, file)"
   ]
  },
  {
   "cell_type": "code",
   "execution_count": 119,
   "metadata": {},
   "outputs": [],
   "source": [
    "with open('scaler','wb') as file:\n",
    "    pickle.dump(solar_scaler, file)"
   ]
  },
  {
   "cell_type": "code",
   "execution_count": null,
   "metadata": {},
   "outputs": [],
   "source": []
  }
 ],
 "metadata": {
  "kernelspec": {
   "display_name": "Python 3",
   "language": "python",
   "name": "python3"
  },
  "language_info": {
   "codemirror_mode": {
    "name": "ipython",
    "version": 3
   },
   "file_extension": ".py",
   "mimetype": "text/x-python",
   "name": "python",
   "nbconvert_exporter": "python",
   "pygments_lexer": "ipython3",
   "version": "3.8.5"
  }
 },
 "nbformat": 4,
 "nbformat_minor": 4
}
