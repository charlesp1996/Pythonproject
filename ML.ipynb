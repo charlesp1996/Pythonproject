{
 "cells": [
  {
   "cell_type": "markdown",
   "metadata": {},
   "source": [
    "# Random Forest and regression to overcome obstacles"
   ]
  },
  {
   "cell_type": "markdown",
   "metadata": {},
   "source": [
    "## Import the relevant libraries"
   ]
  },
  {
   "cell_type": "code",
   "execution_count": 15,
   "metadata": {},
   "outputs": [],
   "source": [
    "import pandas as pd\n",
    "import numpy as np\n",
    "from sklearn.datasets import make_regression\n",
    "from sklearn.model_selection import train_test_split\n",
    "from sklearn.ensemble import RandomForestRegressor\n",
    "from sklearn.multioutput import MultiOutputRegressor\n",
    "from sklearn.model_selection import train_test_split"
   ]
  },
  {
   "cell_type": "code",
   "execution_count": 16,
   "metadata": {},
   "outputs": [],
   "source": [
    "df = pd.read_csv(\"https://raw.githubusercontent.com/charlesp1996/Pythonproject/main/data.csv\")"
   ]
  },
  {
   "cell_type": "code",
   "execution_count": 17,
   "metadata": {
    "scrolled": true
   },
   "outputs": [
    {
     "data": {
      "text/html": [
       "<div>\n",
       "<style scoped>\n",
       "    .dataframe tbody tr th:only-of-type {\n",
       "        vertical-align: middle;\n",
       "    }\n",
       "\n",
       "    .dataframe tbody tr th {\n",
       "        vertical-align: top;\n",
       "    }\n",
       "\n",
       "    .dataframe thead th {\n",
       "        text-align: right;\n",
       "    }\n",
       "</style>\n",
       "<table border=\"1\" class=\"dataframe\">\n",
       "  <thead>\n",
       "    <tr style=\"text-align: right;\">\n",
       "      <th></th>\n",
       "      <th>region_nord</th>\n",
       "      <th>region_centre</th>\n",
       "      <th>region_sud</th>\n",
       "      <th>Month Value</th>\n",
       "      <th>Year Value</th>\n",
       "      <th>Vitesse du vent Axa0 100m (m/s)</th>\n",
       "      <th>Production éolienne (GWh)</th>\n",
       "      <th>Rayonnement solaire global (W/m2)</th>\n",
       "      <th>Production solaire (GWh)</th>\n",
       "    </tr>\n",
       "  </thead>\n",
       "  <tbody>\n",
       "    <tr>\n",
       "      <th>0</th>\n",
       "      <td>0</td>\n",
       "      <td>0</td>\n",
       "      <td>0</td>\n",
       "      <td>2</td>\n",
       "      <td>2014</td>\n",
       "      <td>NaN</td>\n",
       "      <td>6.518965</td>\n",
       "      <td>NaN</td>\n",
       "      <td>2.931509</td>\n",
       "    </tr>\n",
       "    <tr>\n",
       "      <th>1</th>\n",
       "      <td>0</td>\n",
       "      <td>0</td>\n",
       "      <td>1</td>\n",
       "      <td>3</td>\n",
       "      <td>2014</td>\n",
       "      <td>NaN</td>\n",
       "      <td>220.644746</td>\n",
       "      <td>NaN</td>\n",
       "      <td>116.568735</td>\n",
       "    </tr>\n",
       "    <tr>\n",
       "      <th>2</th>\n",
       "      <td>0</td>\n",
       "      <td>0</td>\n",
       "      <td>1</td>\n",
       "      <td>4</td>\n",
       "      <td>2014</td>\n",
       "      <td>NaN</td>\n",
       "      <td>189.563606</td>\n",
       "      <td>NaN</td>\n",
       "      <td>125.730294</td>\n",
       "    </tr>\n",
       "    <tr>\n",
       "      <th>3</th>\n",
       "      <td>0</td>\n",
       "      <td>0</td>\n",
       "      <td>1</td>\n",
       "      <td>4</td>\n",
       "      <td>2014</td>\n",
       "      <td>NaN</td>\n",
       "      <td>9.671714</td>\n",
       "      <td>NaN</td>\n",
       "      <td>98.951709</td>\n",
       "    </tr>\n",
       "    <tr>\n",
       "      <th>4</th>\n",
       "      <td>1</td>\n",
       "      <td>0</td>\n",
       "      <td>0</td>\n",
       "      <td>5</td>\n",
       "      <td>2014</td>\n",
       "      <td>NaN</td>\n",
       "      <td>363.412141</td>\n",
       "      <td>NaN</td>\n",
       "      <td>58.899353</td>\n",
       "    </tr>\n",
       "    <tr>\n",
       "      <th>...</th>\n",
       "      <td>...</td>\n",
       "      <td>...</td>\n",
       "      <td>...</td>\n",
       "      <td>...</td>\n",
       "      <td>...</td>\n",
       "      <td>...</td>\n",
       "      <td>...</td>\n",
       "      <td>...</td>\n",
       "      <td>...</td>\n",
       "    </tr>\n",
       "    <tr>\n",
       "      <th>1248</th>\n",
       "      <td>0</td>\n",
       "      <td>0</td>\n",
       "      <td>1</td>\n",
       "      <td>3</td>\n",
       "      <td>2021</td>\n",
       "      <td>0.0</td>\n",
       "      <td>NaN</td>\n",
       "      <td>5.82</td>\n",
       "      <td>NaN</td>\n",
       "    </tr>\n",
       "    <tr>\n",
       "      <th>1249</th>\n",
       "      <td>0</td>\n",
       "      <td>0</td>\n",
       "      <td>1</td>\n",
       "      <td>3</td>\n",
       "      <td>2021</td>\n",
       "      <td>0.0</td>\n",
       "      <td>NaN</td>\n",
       "      <td>6.74</td>\n",
       "      <td>NaN</td>\n",
       "    </tr>\n",
       "    <tr>\n",
       "      <th>1250</th>\n",
       "      <td>0</td>\n",
       "      <td>1</td>\n",
       "      <td>0</td>\n",
       "      <td>3</td>\n",
       "      <td>2021</td>\n",
       "      <td>0.0</td>\n",
       "      <td>NaN</td>\n",
       "      <td>7.15</td>\n",
       "      <td>NaN</td>\n",
       "    </tr>\n",
       "    <tr>\n",
       "      <th>1251</th>\n",
       "      <td>0</td>\n",
       "      <td>0</td>\n",
       "      <td>1</td>\n",
       "      <td>3</td>\n",
       "      <td>2021</td>\n",
       "      <td>0.0</td>\n",
       "      <td>NaN</td>\n",
       "      <td>6.04</td>\n",
       "      <td>NaN</td>\n",
       "    </tr>\n",
       "    <tr>\n",
       "      <th>1252</th>\n",
       "      <td>0</td>\n",
       "      <td>0</td>\n",
       "      <td>0</td>\n",
       "      <td>3</td>\n",
       "      <td>2021</td>\n",
       "      <td>0.0</td>\n",
       "      <td>NaN</td>\n",
       "      <td>6.35</td>\n",
       "      <td>NaN</td>\n",
       "    </tr>\n",
       "  </tbody>\n",
       "</table>\n",
       "<p>1253 rows × 9 columns</p>\n",
       "</div>"
      ],
      "text/plain": [
       "      region_nord  region_centre  region_sud  Month Value  Year Value  \\\n",
       "0               0              0           0            2        2014   \n",
       "1               0              0           1            3        2014   \n",
       "2               0              0           1            4        2014   \n",
       "3               0              0           1            4        2014   \n",
       "4               1              0           0            5        2014   \n",
       "...           ...            ...         ...          ...         ...   \n",
       "1248            0              0           1            3        2021   \n",
       "1249            0              0           1            3        2021   \n",
       "1250            0              1           0            3        2021   \n",
       "1251            0              0           1            3        2021   \n",
       "1252            0              0           0            3        2021   \n",
       "\n",
       "      Vitesse du vent Axa0 100m (m/s)  Production éolienne (GWh)  \\\n",
       "0                                 NaN                   6.518965   \n",
       "1                                 NaN                 220.644746   \n",
       "2                                 NaN                 189.563606   \n",
       "3                                 NaN                   9.671714   \n",
       "4                                 NaN                 363.412141   \n",
       "...                               ...                        ...   \n",
       "1248                              0.0                        NaN   \n",
       "1249                              0.0                        NaN   \n",
       "1250                              0.0                        NaN   \n",
       "1251                              0.0                        NaN   \n",
       "1252                              0.0                        NaN   \n",
       "\n",
       "      Rayonnement solaire global (W/m2)  Production solaire (GWh)  \n",
       "0                                   NaN                  2.931509  \n",
       "1                                   NaN                116.568735  \n",
       "2                                   NaN                125.730294  \n",
       "3                                   NaN                 98.951709  \n",
       "4                                   NaN                 58.899353  \n",
       "...                                 ...                       ...  \n",
       "1248                               5.82                       NaN  \n",
       "1249                               6.74                       NaN  \n",
       "1250                               7.15                       NaN  \n",
       "1251                               6.04                       NaN  \n",
       "1252                               6.35                       NaN  \n",
       "\n",
       "[1253 rows x 9 columns]"
      ]
     },
     "execution_count": 17,
     "metadata": {},
     "output_type": "execute_result"
    }
   ],
   "source": [
    "df"
   ]
  },
  {
   "cell_type": "code",
   "execution_count": 18,
   "metadata": {},
   "outputs": [],
   "source": [
    "df = df[df['Rayonnement solaire global (W/m2)'].notna()]"
   ]
  },
  {
   "cell_type": "code",
   "execution_count": 19,
   "metadata": {},
   "outputs": [
    {
     "data": {
      "text/plain": [
       "['region_nord',\n",
       " 'region_centre',\n",
       " 'region_sud',\n",
       " 'Month Value',\n",
       " 'Year Value',\n",
       " 'Vitesse du vent Axa0 100m (m/s)',\n",
       " 'Production éolienne (GWh)',\n",
       " 'Rayonnement solaire global (W/m2)',\n",
       " 'Production solaire (GWh)']"
      ]
     },
     "execution_count": 19,
     "metadata": {},
     "output_type": "execute_result"
    }
   ],
   "source": [
    "cols = df.columns.tolist()\n",
    "cols"
   ]
  },
  {
   "cell_type": "markdown",
   "metadata": {},
   "source": [
    "### Solaire"
   ]
  },
  {
   "cell_type": "code",
   "execution_count": 20,
   "metadata": {},
   "outputs": [],
   "source": [
    "colss = cols[:5] + cols[7:9]"
   ]
  },
  {
   "cell_type": "code",
   "execution_count": 21,
   "metadata": {},
   "outputs": [
    {
     "data": {
      "text/plain": [
       "['region_nord',\n",
       " 'region_centre',\n",
       " 'region_sud',\n",
       " 'Month Value',\n",
       " 'Year Value',\n",
       " 'Rayonnement solaire global (W/m2)',\n",
       " 'Production solaire (GWh)']"
      ]
     },
     "execution_count": 21,
     "metadata": {},
     "output_type": "execute_result"
    }
   ],
   "source": [
    "colss"
   ]
  },
  {
   "cell_type": "code",
   "execution_count": 22,
   "metadata": {},
   "outputs": [],
   "source": [
    "dfs = df[colss]"
   ]
  },
  {
   "cell_type": "code",
   "execution_count": 23,
   "metadata": {
    "scrolled": true
   },
   "outputs": [
    {
     "data": {
      "text/html": [
       "<div>\n",
       "<style scoped>\n",
       "    .dataframe tbody tr th:only-of-type {\n",
       "        vertical-align: middle;\n",
       "    }\n",
       "\n",
       "    .dataframe tbody tr th {\n",
       "        vertical-align: top;\n",
       "    }\n",
       "\n",
       "    .dataframe thead th {\n",
       "        text-align: right;\n",
       "    }\n",
       "</style>\n",
       "<table border=\"1\" class=\"dataframe\">\n",
       "  <thead>\n",
       "    <tr style=\"text-align: right;\">\n",
       "      <th></th>\n",
       "      <th>region_nord</th>\n",
       "      <th>region_centre</th>\n",
       "      <th>region_sud</th>\n",
       "      <th>Month Value</th>\n",
       "      <th>Year Value</th>\n",
       "      <th>Rayonnement solaire global (W/m2)</th>\n",
       "      <th>Production solaire (GWh)</th>\n",
       "    </tr>\n",
       "  </thead>\n",
       "  <tbody>\n",
       "    <tr>\n",
       "      <th>47</th>\n",
       "      <td>0</td>\n",
       "      <td>1</td>\n",
       "      <td>0</td>\n",
       "      <td>1</td>\n",
       "      <td>2016</td>\n",
       "      <td>7.466964</td>\n",
       "      <td>7.040643</td>\n",
       "    </tr>\n",
       "    <tr>\n",
       "      <th>48</th>\n",
       "      <td>1</td>\n",
       "      <td>0</td>\n",
       "      <td>0</td>\n",
       "      <td>1</td>\n",
       "      <td>2016</td>\n",
       "      <td>8.295263</td>\n",
       "      <td>5.596140</td>\n",
       "    </tr>\n",
       "    <tr>\n",
       "      <th>49</th>\n",
       "      <td>0</td>\n",
       "      <td>1</td>\n",
       "      <td>0</td>\n",
       "      <td>2</td>\n",
       "      <td>2016</td>\n",
       "      <td>9.242543</td>\n",
       "      <td>23.337292</td>\n",
       "    </tr>\n",
       "    <tr>\n",
       "      <th>50</th>\n",
       "      <td>0</td>\n",
       "      <td>1</td>\n",
       "      <td>0</td>\n",
       "      <td>2</td>\n",
       "      <td>2016</td>\n",
       "      <td>9.946336</td>\n",
       "      <td>9.640264</td>\n",
       "    </tr>\n",
       "    <tr>\n",
       "      <th>51</th>\n",
       "      <td>0</td>\n",
       "      <td>0</td>\n",
       "      <td>1</td>\n",
       "      <td>2</td>\n",
       "      <td>2016</td>\n",
       "      <td>6.508233</td>\n",
       "      <td>116.805294</td>\n",
       "    </tr>\n",
       "    <tr>\n",
       "      <th>...</th>\n",
       "      <td>...</td>\n",
       "      <td>...</td>\n",
       "      <td>...</td>\n",
       "      <td>...</td>\n",
       "      <td>...</td>\n",
       "      <td>...</td>\n",
       "      <td>...</td>\n",
       "    </tr>\n",
       "    <tr>\n",
       "      <th>1248</th>\n",
       "      <td>0</td>\n",
       "      <td>0</td>\n",
       "      <td>1</td>\n",
       "      <td>3</td>\n",
       "      <td>2021</td>\n",
       "      <td>5.820000</td>\n",
       "      <td>NaN</td>\n",
       "    </tr>\n",
       "    <tr>\n",
       "      <th>1249</th>\n",
       "      <td>0</td>\n",
       "      <td>0</td>\n",
       "      <td>1</td>\n",
       "      <td>3</td>\n",
       "      <td>2021</td>\n",
       "      <td>6.740000</td>\n",
       "      <td>NaN</td>\n",
       "    </tr>\n",
       "    <tr>\n",
       "      <th>1250</th>\n",
       "      <td>0</td>\n",
       "      <td>1</td>\n",
       "      <td>0</td>\n",
       "      <td>3</td>\n",
       "      <td>2021</td>\n",
       "      <td>7.150000</td>\n",
       "      <td>NaN</td>\n",
       "    </tr>\n",
       "    <tr>\n",
       "      <th>1251</th>\n",
       "      <td>0</td>\n",
       "      <td>0</td>\n",
       "      <td>1</td>\n",
       "      <td>3</td>\n",
       "      <td>2021</td>\n",
       "      <td>6.040000</td>\n",
       "      <td>NaN</td>\n",
       "    </tr>\n",
       "    <tr>\n",
       "      <th>1252</th>\n",
       "      <td>0</td>\n",
       "      <td>0</td>\n",
       "      <td>0</td>\n",
       "      <td>3</td>\n",
       "      <td>2021</td>\n",
       "      <td>6.350000</td>\n",
       "      <td>NaN</td>\n",
       "    </tr>\n",
       "  </tbody>\n",
       "</table>\n",
       "<p>821 rows × 7 columns</p>\n",
       "</div>"
      ],
      "text/plain": [
       "      region_nord  region_centre  region_sud  Month Value  Year Value  \\\n",
       "47              0              1           0            1        2016   \n",
       "48              1              0           0            1        2016   \n",
       "49              0              1           0            2        2016   \n",
       "50              0              1           0            2        2016   \n",
       "51              0              0           1            2        2016   \n",
       "...           ...            ...         ...          ...         ...   \n",
       "1248            0              0           1            3        2021   \n",
       "1249            0              0           1            3        2021   \n",
       "1250            0              1           0            3        2021   \n",
       "1251            0              0           1            3        2021   \n",
       "1252            0              0           0            3        2021   \n",
       "\n",
       "      Rayonnement solaire global (W/m2)  Production solaire (GWh)  \n",
       "47                             7.466964                  7.040643  \n",
       "48                             8.295263                  5.596140  \n",
       "49                             9.242543                 23.337292  \n",
       "50                             9.946336                  9.640264  \n",
       "51                             6.508233                116.805294  \n",
       "...                                 ...                       ...  \n",
       "1248                           5.820000                       NaN  \n",
       "1249                           6.740000                       NaN  \n",
       "1250                           7.150000                       NaN  \n",
       "1251                           6.040000                       NaN  \n",
       "1252                           6.350000                       NaN  \n",
       "\n",
       "[821 rows x 7 columns]"
      ]
     },
     "execution_count": 23,
     "metadata": {},
     "output_type": "execute_result"
    }
   ],
   "source": [
    "dfs"
   ]
  },
  {
   "cell_type": "code",
   "execution_count": 24,
   "metadata": {},
   "outputs": [],
   "source": [
    "X,y = make_regression(n_samples=10000, n_features=6,\n",
    "                                 n_informative=3, n_targets=1,  \n",
    "                                 tail_strength=0.5,  \n",
    "                                 shuffle=True, coef=False, random_state=0)\n",
    "notnans = dfs['Production solaire (GWh)'].notnull()\n",
    "df_notnans = df[notnans]\n",
    "X_train, X_test, y_train, y_test = train_test_split(df_notnans[colss[:6]], df_notnans[colss[6:7]],\n",
    "                                                    train_size=0.75,\n",
    "                                                    random_state=1000)"
   ]
  },
  {
   "cell_type": "code",
   "execution_count": 25,
   "metadata": {},
   "outputs": [
    {
     "name": "stdout",
     "output_type": "stream",
     "text": [
      "The prediction score on the test data is 49.60%\n"
     ]
    }
   ],
   "source": [
    "regr_multirf = MultiOutputRegressor(RandomForestRegressor(max_depth=30,\n",
    "                                                          random_state=0))\n",
    "\n",
    "# Fit on the train data\n",
    "regr_multirf.fit(X_train, y_train)\n",
    "\n",
    "# Check the prediction score\n",
    "score = regr_multirf.score(X_test, y_test)\n",
    "print(\"The prediction score on the test data is {:.2f}%\".format(score*100))"
   ]
  },
  {
   "cell_type": "code",
   "execution_count": 26,
   "metadata": {},
   "outputs": [
    {
     "data": {
      "text/html": [
       "<div>\n",
       "<style scoped>\n",
       "    .dataframe tbody tr th:only-of-type {\n",
       "        vertical-align: middle;\n",
       "    }\n",
       "\n",
       "    .dataframe tbody tr th {\n",
       "        vertical-align: top;\n",
       "    }\n",
       "\n",
       "    .dataframe thead th {\n",
       "        text-align: right;\n",
       "    }\n",
       "</style>\n",
       "<table border=\"1\" class=\"dataframe\">\n",
       "  <thead>\n",
       "    <tr style=\"text-align: right;\">\n",
       "      <th></th>\n",
       "      <th>region_nord</th>\n",
       "      <th>region_centre</th>\n",
       "      <th>region_sud</th>\n",
       "      <th>Month Value</th>\n",
       "      <th>Year Value</th>\n",
       "      <th>Rayonnement solaire global (W/m2)</th>\n",
       "      <th>Production solaire (GWh)</th>\n",
       "    </tr>\n",
       "  </thead>\n",
       "  <tbody>\n",
       "    <tr>\n",
       "      <th>1092</th>\n",
       "      <td>1</td>\n",
       "      <td>0</td>\n",
       "      <td>0</td>\n",
       "      <td>1</td>\n",
       "      <td>2016</td>\n",
       "      <td>6.130850</td>\n",
       "      <td>10.600893</td>\n",
       "    </tr>\n",
       "    <tr>\n",
       "      <th>1093</th>\n",
       "      <td>1</td>\n",
       "      <td>0</td>\n",
       "      <td>0</td>\n",
       "      <td>1</td>\n",
       "      <td>2016</td>\n",
       "      <td>7.882551</td>\n",
       "      <td>4.928253</td>\n",
       "    </tr>\n",
       "    <tr>\n",
       "      <th>1094</th>\n",
       "      <td>1</td>\n",
       "      <td>0</td>\n",
       "      <td>0</td>\n",
       "      <td>2</td>\n",
       "      <td>2016</td>\n",
       "      <td>6.926638</td>\n",
       "      <td>7.970764</td>\n",
       "    </tr>\n",
       "    <tr>\n",
       "      <th>1095</th>\n",
       "      <td>1</td>\n",
       "      <td>0</td>\n",
       "      <td>0</td>\n",
       "      <td>2</td>\n",
       "      <td>2016</td>\n",
       "      <td>8.113793</td>\n",
       "      <td>7.361584</td>\n",
       "    </tr>\n",
       "    <tr>\n",
       "      <th>1096</th>\n",
       "      <td>1</td>\n",
       "      <td>0</td>\n",
       "      <td>0</td>\n",
       "      <td>3</td>\n",
       "      <td>2016</td>\n",
       "      <td>5.711842</td>\n",
       "      <td>15.387454</td>\n",
       "    </tr>\n",
       "    <tr>\n",
       "      <th>...</th>\n",
       "      <td>...</td>\n",
       "      <td>...</td>\n",
       "      <td>...</td>\n",
       "      <td>...</td>\n",
       "      <td>...</td>\n",
       "      <td>...</td>\n",
       "      <td>...</td>\n",
       "    </tr>\n",
       "    <tr>\n",
       "      <th>1248</th>\n",
       "      <td>0</td>\n",
       "      <td>0</td>\n",
       "      <td>1</td>\n",
       "      <td>3</td>\n",
       "      <td>2021</td>\n",
       "      <td>5.820000</td>\n",
       "      <td>212.833877</td>\n",
       "    </tr>\n",
       "    <tr>\n",
       "      <th>1249</th>\n",
       "      <td>0</td>\n",
       "      <td>0</td>\n",
       "      <td>1</td>\n",
       "      <td>3</td>\n",
       "      <td>2021</td>\n",
       "      <td>6.740000</td>\n",
       "      <td>211.701197</td>\n",
       "    </tr>\n",
       "    <tr>\n",
       "      <th>1250</th>\n",
       "      <td>0</td>\n",
       "      <td>1</td>\n",
       "      <td>0</td>\n",
       "      <td>3</td>\n",
       "      <td>2021</td>\n",
       "      <td>7.150000</td>\n",
       "      <td>31.504386</td>\n",
       "    </tr>\n",
       "    <tr>\n",
       "      <th>1251</th>\n",
       "      <td>0</td>\n",
       "      <td>0</td>\n",
       "      <td>1</td>\n",
       "      <td>3</td>\n",
       "      <td>2021</td>\n",
       "      <td>6.040000</td>\n",
       "      <td>175.097647</td>\n",
       "    </tr>\n",
       "    <tr>\n",
       "      <th>1252</th>\n",
       "      <td>0</td>\n",
       "      <td>0</td>\n",
       "      <td>0</td>\n",
       "      <td>3</td>\n",
       "      <td>2021</td>\n",
       "      <td>6.350000</td>\n",
       "      <td>31.798486</td>\n",
       "    </tr>\n",
       "  </tbody>\n",
       "</table>\n",
       "<p>161 rows × 7 columns</p>\n",
       "</div>"
      ],
      "text/plain": [
       "      region_nord  region_centre  region_sud  Month Value  Year Value  \\\n",
       "1092            1              0           0            1        2016   \n",
       "1093            1              0           0            1        2016   \n",
       "1094            1              0           0            2        2016   \n",
       "1095            1              0           0            2        2016   \n",
       "1096            1              0           0            3        2016   \n",
       "...           ...            ...         ...          ...         ...   \n",
       "1248            0              0           1            3        2021   \n",
       "1249            0              0           1            3        2021   \n",
       "1250            0              1           0            3        2021   \n",
       "1251            0              0           1            3        2021   \n",
       "1252            0              0           0            3        2021   \n",
       "\n",
       "      Rayonnement solaire global (W/m2)  Production solaire (GWh)  \n",
       "1092                           6.130850                 10.600893  \n",
       "1093                           7.882551                  4.928253  \n",
       "1094                           6.926638                  7.970764  \n",
       "1095                           8.113793                  7.361584  \n",
       "1096                           5.711842                 15.387454  \n",
       "...                                 ...                       ...  \n",
       "1248                           5.820000                212.833877  \n",
       "1249                           6.740000                211.701197  \n",
       "1250                           7.150000                 31.504386  \n",
       "1251                           6.040000                175.097647  \n",
       "1252                           6.350000                 31.798486  \n",
       "\n",
       "[161 rows x 7 columns]"
      ]
     },
     "execution_count": 26,
     "metadata": {},
     "output_type": "execute_result"
    }
   ],
   "source": [
    "df_nans = dfs.loc[~notnans].copy()\n",
    "df_nans[colss[6:7]] = regr_multirf.predict(df_nans[colss[0:6]])\n",
    "df_nans"
   ]
  },
  {
   "cell_type": "markdown",
   "metadata": {},
   "source": [
    "# Create the targets"
   ]
  },
  {
   "cell_type": "code",
   "execution_count": 27,
   "metadata": {},
   "outputs": [],
   "source": [
    "targets = np.where(df_nans['Production solaire (GWh)'] > df_nans['Production solaire (GWh)'].median(), 1, 0)"
   ]
  },
  {
   "cell_type": "code",
   "execution_count": 28,
   "metadata": {},
   "outputs": [
    {
     "data": {
      "text/plain": [
       "(161,)"
      ]
     },
     "execution_count": 28,
     "metadata": {},
     "output_type": "execute_result"
    }
   ],
   "source": [
    "targets.shape"
   ]
  },
  {
   "cell_type": "code",
   "execution_count": 29,
   "metadata": {},
   "outputs": [],
   "source": [
    "df_nans['Execessive Solar'] = targets"
   ]
  },
  {
   "cell_type": "markdown",
   "metadata": {},
   "source": [
    "# A comment on the targets"
   ]
  },
  {
   "cell_type": "code",
   "execution_count": 30,
   "metadata": {},
   "outputs": [
    {
     "data": {
      "text/plain": [
       "0.4968944099378882"
      ]
     },
     "execution_count": 30,
     "metadata": {},
     "output_type": "execute_result"
    }
   ],
   "source": [
    "targets.sum() / targets.shape[0]"
   ]
  },
  {
   "cell_type": "code",
   "execution_count": 31,
   "metadata": {},
   "outputs": [],
   "source": [
    "data_with_targets = df_nans"
   ]
  },
  {
   "cell_type": "code",
   "execution_count": 32,
   "metadata": {},
   "outputs": [
    {
     "data": {
      "text/html": [
       "<div>\n",
       "<style scoped>\n",
       "    .dataframe tbody tr th:only-of-type {\n",
       "        vertical-align: middle;\n",
       "    }\n",
       "\n",
       "    .dataframe tbody tr th {\n",
       "        vertical-align: top;\n",
       "    }\n",
       "\n",
       "    .dataframe thead th {\n",
       "        text-align: right;\n",
       "    }\n",
       "</style>\n",
       "<table border=\"1\" class=\"dataframe\">\n",
       "  <thead>\n",
       "    <tr style=\"text-align: right;\">\n",
       "      <th></th>\n",
       "      <th>region_nord</th>\n",
       "      <th>region_centre</th>\n",
       "      <th>region_sud</th>\n",
       "      <th>Month Value</th>\n",
       "      <th>Year Value</th>\n",
       "      <th>Rayonnement solaire global (W/m2)</th>\n",
       "      <th>Production solaire (GWh)</th>\n",
       "      <th>Execessive Solar</th>\n",
       "    </tr>\n",
       "  </thead>\n",
       "  <tbody>\n",
       "    <tr>\n",
       "      <th>1092</th>\n",
       "      <td>1</td>\n",
       "      <td>0</td>\n",
       "      <td>0</td>\n",
       "      <td>1</td>\n",
       "      <td>2016</td>\n",
       "      <td>6.130850</td>\n",
       "      <td>10.600893</td>\n",
       "      <td>0</td>\n",
       "    </tr>\n",
       "    <tr>\n",
       "      <th>1093</th>\n",
       "      <td>1</td>\n",
       "      <td>0</td>\n",
       "      <td>0</td>\n",
       "      <td>1</td>\n",
       "      <td>2016</td>\n",
       "      <td>7.882551</td>\n",
       "      <td>4.928253</td>\n",
       "      <td>0</td>\n",
       "    </tr>\n",
       "    <tr>\n",
       "      <th>1094</th>\n",
       "      <td>1</td>\n",
       "      <td>0</td>\n",
       "      <td>0</td>\n",
       "      <td>2</td>\n",
       "      <td>2016</td>\n",
       "      <td>6.926638</td>\n",
       "      <td>7.970764</td>\n",
       "      <td>0</td>\n",
       "    </tr>\n",
       "    <tr>\n",
       "      <th>1095</th>\n",
       "      <td>1</td>\n",
       "      <td>0</td>\n",
       "      <td>0</td>\n",
       "      <td>2</td>\n",
       "      <td>2016</td>\n",
       "      <td>8.113793</td>\n",
       "      <td>7.361584</td>\n",
       "      <td>0</td>\n",
       "    </tr>\n",
       "    <tr>\n",
       "      <th>1096</th>\n",
       "      <td>1</td>\n",
       "      <td>0</td>\n",
       "      <td>0</td>\n",
       "      <td>3</td>\n",
       "      <td>2016</td>\n",
       "      <td>5.711842</td>\n",
       "      <td>15.387454</td>\n",
       "      <td>0</td>\n",
       "    </tr>\n",
       "    <tr>\n",
       "      <th>...</th>\n",
       "      <td>...</td>\n",
       "      <td>...</td>\n",
       "      <td>...</td>\n",
       "      <td>...</td>\n",
       "      <td>...</td>\n",
       "      <td>...</td>\n",
       "      <td>...</td>\n",
       "      <td>...</td>\n",
       "    </tr>\n",
       "    <tr>\n",
       "      <th>1248</th>\n",
       "      <td>0</td>\n",
       "      <td>0</td>\n",
       "      <td>1</td>\n",
       "      <td>3</td>\n",
       "      <td>2021</td>\n",
       "      <td>5.820000</td>\n",
       "      <td>212.833877</td>\n",
       "      <td>1</td>\n",
       "    </tr>\n",
       "    <tr>\n",
       "      <th>1249</th>\n",
       "      <td>0</td>\n",
       "      <td>0</td>\n",
       "      <td>1</td>\n",
       "      <td>3</td>\n",
       "      <td>2021</td>\n",
       "      <td>6.740000</td>\n",
       "      <td>211.701197</td>\n",
       "      <td>1</td>\n",
       "    </tr>\n",
       "    <tr>\n",
       "      <th>1250</th>\n",
       "      <td>0</td>\n",
       "      <td>1</td>\n",
       "      <td>0</td>\n",
       "      <td>3</td>\n",
       "      <td>2021</td>\n",
       "      <td>7.150000</td>\n",
       "      <td>31.504386</td>\n",
       "      <td>1</td>\n",
       "    </tr>\n",
       "    <tr>\n",
       "      <th>1251</th>\n",
       "      <td>0</td>\n",
       "      <td>0</td>\n",
       "      <td>1</td>\n",
       "      <td>3</td>\n",
       "      <td>2021</td>\n",
       "      <td>6.040000</td>\n",
       "      <td>175.097647</td>\n",
       "      <td>1</td>\n",
       "    </tr>\n",
       "    <tr>\n",
       "      <th>1252</th>\n",
       "      <td>0</td>\n",
       "      <td>0</td>\n",
       "      <td>0</td>\n",
       "      <td>3</td>\n",
       "      <td>2021</td>\n",
       "      <td>6.350000</td>\n",
       "      <td>31.798486</td>\n",
       "      <td>1</td>\n",
       "    </tr>\n",
       "  </tbody>\n",
       "</table>\n",
       "<p>161 rows × 8 columns</p>\n",
       "</div>"
      ],
      "text/plain": [
       "      region_nord  region_centre  region_sud  Month Value  Year Value  \\\n",
       "1092            1              0           0            1        2016   \n",
       "1093            1              0           0            1        2016   \n",
       "1094            1              0           0            2        2016   \n",
       "1095            1              0           0            2        2016   \n",
       "1096            1              0           0            3        2016   \n",
       "...           ...            ...         ...          ...         ...   \n",
       "1248            0              0           1            3        2021   \n",
       "1249            0              0           1            3        2021   \n",
       "1250            0              1           0            3        2021   \n",
       "1251            0              0           1            3        2021   \n",
       "1252            0              0           0            3        2021   \n",
       "\n",
       "      Rayonnement solaire global (W/m2)  Production solaire (GWh)  \\\n",
       "1092                           6.130850                 10.600893   \n",
       "1093                           7.882551                  4.928253   \n",
       "1094                           6.926638                  7.970764   \n",
       "1095                           8.113793                  7.361584   \n",
       "1096                           5.711842                 15.387454   \n",
       "...                                 ...                       ...   \n",
       "1248                           5.820000                212.833877   \n",
       "1249                           6.740000                211.701197   \n",
       "1250                           7.150000                 31.504386   \n",
       "1251                           6.040000                175.097647   \n",
       "1252                           6.350000                 31.798486   \n",
       "\n",
       "      Execessive Solar  \n",
       "1092                 0  \n",
       "1093                 0  \n",
       "1094                 0  \n",
       "1095                 0  \n",
       "1096                 0  \n",
       "...                ...  \n",
       "1248                 1  \n",
       "1249                 1  \n",
       "1250                 1  \n",
       "1251                 1  \n",
       "1252                 1  \n",
       "\n",
       "[161 rows x 8 columns]"
      ]
     },
     "execution_count": 32,
     "metadata": {},
     "output_type": "execute_result"
    }
   ],
   "source": [
    "data_with_targets"
   ]
  },
  {
   "cell_type": "markdown",
   "metadata": {},
   "source": [
    "# Select the inputs for the regression"
   ]
  },
  {
   "cell_type": "code",
   "execution_count": 33,
   "metadata": {},
   "outputs": [
    {
     "data": {
      "text/plain": [
       "(161, 8)"
      ]
     },
     "execution_count": 33,
     "metadata": {},
     "output_type": "execute_result"
    }
   ],
   "source": [
    "data_with_targets.shape"
   ]
  },
  {
   "cell_type": "code",
   "execution_count": 34,
   "metadata": {},
   "outputs": [
    {
     "data": {
      "text/html": [
       "<div>\n",
       "<style scoped>\n",
       "    .dataframe tbody tr th:only-of-type {\n",
       "        vertical-align: middle;\n",
       "    }\n",
       "\n",
       "    .dataframe tbody tr th {\n",
       "        vertical-align: top;\n",
       "    }\n",
       "\n",
       "    .dataframe thead th {\n",
       "        text-align: right;\n",
       "    }\n",
       "</style>\n",
       "<table border=\"1\" class=\"dataframe\">\n",
       "  <thead>\n",
       "    <tr style=\"text-align: right;\">\n",
       "      <th></th>\n",
       "      <th>region_nord</th>\n",
       "      <th>region_centre</th>\n",
       "      <th>region_sud</th>\n",
       "      <th>Month Value</th>\n",
       "      <th>Year Value</th>\n",
       "      <th>Rayonnement solaire global (W/m2)</th>\n",
       "      <th>Production solaire (GWh)</th>\n",
       "    </tr>\n",
       "  </thead>\n",
       "  <tbody>\n",
       "    <tr>\n",
       "      <th>1092</th>\n",
       "      <td>1</td>\n",
       "      <td>0</td>\n",
       "      <td>0</td>\n",
       "      <td>1</td>\n",
       "      <td>2016</td>\n",
       "      <td>6.130850</td>\n",
       "      <td>10.600893</td>\n",
       "    </tr>\n",
       "    <tr>\n",
       "      <th>1093</th>\n",
       "      <td>1</td>\n",
       "      <td>0</td>\n",
       "      <td>0</td>\n",
       "      <td>1</td>\n",
       "      <td>2016</td>\n",
       "      <td>7.882551</td>\n",
       "      <td>4.928253</td>\n",
       "    </tr>\n",
       "    <tr>\n",
       "      <th>1094</th>\n",
       "      <td>1</td>\n",
       "      <td>0</td>\n",
       "      <td>0</td>\n",
       "      <td>2</td>\n",
       "      <td>2016</td>\n",
       "      <td>6.926638</td>\n",
       "      <td>7.970764</td>\n",
       "    </tr>\n",
       "    <tr>\n",
       "      <th>1095</th>\n",
       "      <td>1</td>\n",
       "      <td>0</td>\n",
       "      <td>0</td>\n",
       "      <td>2</td>\n",
       "      <td>2016</td>\n",
       "      <td>8.113793</td>\n",
       "      <td>7.361584</td>\n",
       "    </tr>\n",
       "    <tr>\n",
       "      <th>1096</th>\n",
       "      <td>1</td>\n",
       "      <td>0</td>\n",
       "      <td>0</td>\n",
       "      <td>3</td>\n",
       "      <td>2016</td>\n",
       "      <td>5.711842</td>\n",
       "      <td>15.387454</td>\n",
       "    </tr>\n",
       "    <tr>\n",
       "      <th>...</th>\n",
       "      <td>...</td>\n",
       "      <td>...</td>\n",
       "      <td>...</td>\n",
       "      <td>...</td>\n",
       "      <td>...</td>\n",
       "      <td>...</td>\n",
       "      <td>...</td>\n",
       "    </tr>\n",
       "    <tr>\n",
       "      <th>1248</th>\n",
       "      <td>0</td>\n",
       "      <td>0</td>\n",
       "      <td>1</td>\n",
       "      <td>3</td>\n",
       "      <td>2021</td>\n",
       "      <td>5.820000</td>\n",
       "      <td>212.833877</td>\n",
       "    </tr>\n",
       "    <tr>\n",
       "      <th>1249</th>\n",
       "      <td>0</td>\n",
       "      <td>0</td>\n",
       "      <td>1</td>\n",
       "      <td>3</td>\n",
       "      <td>2021</td>\n",
       "      <td>6.740000</td>\n",
       "      <td>211.701197</td>\n",
       "    </tr>\n",
       "    <tr>\n",
       "      <th>1250</th>\n",
       "      <td>0</td>\n",
       "      <td>1</td>\n",
       "      <td>0</td>\n",
       "      <td>3</td>\n",
       "      <td>2021</td>\n",
       "      <td>7.150000</td>\n",
       "      <td>31.504386</td>\n",
       "    </tr>\n",
       "    <tr>\n",
       "      <th>1251</th>\n",
       "      <td>0</td>\n",
       "      <td>0</td>\n",
       "      <td>1</td>\n",
       "      <td>3</td>\n",
       "      <td>2021</td>\n",
       "      <td>6.040000</td>\n",
       "      <td>175.097647</td>\n",
       "    </tr>\n",
       "    <tr>\n",
       "      <th>1252</th>\n",
       "      <td>0</td>\n",
       "      <td>0</td>\n",
       "      <td>0</td>\n",
       "      <td>3</td>\n",
       "      <td>2021</td>\n",
       "      <td>6.350000</td>\n",
       "      <td>31.798486</td>\n",
       "    </tr>\n",
       "  </tbody>\n",
       "</table>\n",
       "<p>161 rows × 7 columns</p>\n",
       "</div>"
      ],
      "text/plain": [
       "      region_nord  region_centre  region_sud  Month Value  Year Value  \\\n",
       "1092            1              0           0            1        2016   \n",
       "1093            1              0           0            1        2016   \n",
       "1094            1              0           0            2        2016   \n",
       "1095            1              0           0            2        2016   \n",
       "1096            1              0           0            3        2016   \n",
       "...           ...            ...         ...          ...         ...   \n",
       "1248            0              0           1            3        2021   \n",
       "1249            0              0           1            3        2021   \n",
       "1250            0              1           0            3        2021   \n",
       "1251            0              0           1            3        2021   \n",
       "1252            0              0           0            3        2021   \n",
       "\n",
       "      Rayonnement solaire global (W/m2)  Production solaire (GWh)  \n",
       "1092                           6.130850                 10.600893  \n",
       "1093                           7.882551                  4.928253  \n",
       "1094                           6.926638                  7.970764  \n",
       "1095                           8.113793                  7.361584  \n",
       "1096                           5.711842                 15.387454  \n",
       "...                                 ...                       ...  \n",
       "1248                           5.820000                212.833877  \n",
       "1249                           6.740000                211.701197  \n",
       "1250                           7.150000                 31.504386  \n",
       "1251                           6.040000                175.097647  \n",
       "1252                           6.350000                 31.798486  \n",
       "\n",
       "[161 rows x 7 columns]"
      ]
     },
     "execution_count": 34,
     "metadata": {},
     "output_type": "execute_result"
    }
   ],
   "source": [
    "unscaled_inputs = data_with_targets.iloc[:,:-1]\n",
    "unscaled_inputs"
   ]
  },
  {
   "cell_type": "markdown",
   "metadata": {},
   "source": [
    "# Standardize the data"
   ]
  },
  {
   "cell_type": "code",
   "execution_count": 35,
   "metadata": {},
   "outputs": [],
   "source": [
    "from sklearn.preprocessing import StandardScaler\n",
    "\n",
    "solar_scaler = StandardScaler(copy=True, with_mean=True, with_std=True)"
   ]
  },
  {
   "cell_type": "code",
   "execution_count": 36,
   "metadata": {},
   "outputs": [],
   "source": [
    "from sklearn.base import BaseEstimator, TransformerMixin\n",
    "from sklearn.preprocessing import StandardScaler\n",
    "\n",
    "class CustomScaler(BaseEstimator, TransformerMixin):\n",
    "    \n",
    "    def __init__(self,columns,copy=True,with_mean=True,with_std=True):\n",
    "        self.scaler = StandardScaler(copy,with_mean,with_std)\n",
    "        self.columns = columns\n",
    "        self.mean_ = None\n",
    "        self.vr_ = None\n",
    "    \n",
    "    def fit(self, X, y=None):\n",
    "        self.scaler.fit(X[self.columns], y)\n",
    "        self.mean_ = np.mean(X[self.columns])\n",
    "        self.var_ = np.var(X[self.columns])\n",
    "        return self\n",
    "    \n",
    "    def transform(self, X, y=None, copy=None):\n",
    "        init_col_order = X.columns\n",
    "        X_scaled = pd.DataFrame(self.scaler.transform(X[self.columns]), columns=self.columns)\n",
    "        X_not_scaled= X.loc[:,~X.columns.isin(self.columns)]\n",
    "        return pd.concat([X_not_scaled,X_scaled], axis=1)[init_col_order]"
   ]
  },
  {
   "cell_type": "code",
   "execution_count": 37,
   "metadata": {},
   "outputs": [
    {
     "data": {
      "text/plain": [
       "array(['region_nord', 'region_centre', 'region_sud', 'Month Value',\n",
       "       'Year Value', 'Rayonnement solaire global (W/m2)',\n",
       "       'Production solaire (GWh)'], dtype=object)"
      ]
     },
     "execution_count": 37,
     "metadata": {},
     "output_type": "execute_result"
    }
   ],
   "source": [
    "unscaled_inputs.columns.values"
   ]
  },
  {
   "cell_type": "code",
   "execution_count": 38,
   "metadata": {},
   "outputs": [],
   "source": [
    "columns_to_scale = ['region_sud', 'region_nord', 'region_centre', 'Month Value',\n",
    "       'Year Value', 'Rayonnement solaire global (W/m2)', 'Production solaire (GWh)']\n",
    "columns_to_omit = []"
   ]
  },
  {
   "cell_type": "code",
   "execution_count": 39,
   "metadata": {},
   "outputs": [],
   "source": [
    "columns_to_scale = [x for x in unscaled_inputs.columns.values if x not in columns_to_omit]"
   ]
  },
  {
   "cell_type": "code",
   "execution_count": 40,
   "metadata": {
    "scrolled": true
   },
   "outputs": [],
   "source": [
    "solar_scaler = CustomScaler(columns_to_scale)"
   ]
  },
  {
   "cell_type": "code",
   "execution_count": 41,
   "metadata": {},
   "outputs": [
    {
     "name": "stderr",
     "output_type": "stream",
     "text": [
      "C:\\Users\\charl\\anaconda3\\lib\\site-packages\\sklearn\\base.py:193: FutureWarning: From version 0.24, get_params will raise an AttributeError if a parameter cannot be retrieved as an instance attribute. Previously it would return None.\n",
      "  warnings.warn('From version 0.24, get_params will raise an '\n"
     ]
    },
    {
     "data": {
      "text/plain": [
       "CustomScaler(columns=['region_nord', 'region_centre', 'region_sud',\n",
       "                      'Month Value', 'Year Value',\n",
       "                      'Rayonnement solaire global (W/m2)',\n",
       "                      'Production solaire (GWh)'],\n",
       "             copy=None, with_mean=None, with_std=None)"
      ]
     },
     "execution_count": 41,
     "metadata": {},
     "output_type": "execute_result"
    }
   ],
   "source": [
    "solar_scaler.fit(unscaled_inputs)"
   ]
  },
  {
   "cell_type": "code",
   "execution_count": 42,
   "metadata": {},
   "outputs": [],
   "source": [
    "scaled_inputs = solar_scaler.transform(unscaled_inputs)"
   ]
  },
  {
   "cell_type": "code",
   "execution_count": 43,
   "metadata": {},
   "outputs": [
    {
     "name": "stderr",
     "output_type": "stream",
     "text": [
      "C:\\Users\\charl\\anaconda3\\lib\\site-packages\\sklearn\\base.py:193: FutureWarning: From version 0.24, get_params will raise an AttributeError if a parameter cannot be retrieved as an instance attribute. Previously it would return None.\n",
      "  warnings.warn('From version 0.24, get_params will raise an '\n"
     ]
    },
    {
     "data": {
      "text/plain": [
       "CustomScaler(columns=['region_nord', 'region_centre', 'region_sud',\n",
       "                      'Month Value', 'Year Value',\n",
       "                      'Rayonnement solaire global (W/m2)',\n",
       "                      'Production solaire (GWh)'],\n",
       "             copy=None, with_mean=None, with_std=None)"
      ]
     },
     "execution_count": 43,
     "metadata": {},
     "output_type": "execute_result"
    }
   ],
   "source": [
    "solar_scaler.fit(unscaled_inputs)"
   ]
  },
  {
   "cell_type": "code",
   "execution_count": 44,
   "metadata": {},
   "outputs": [],
   "source": [
    "scaled_inputs = solar_scaler.transform(unscaled_inputs)"
   ]
  },
  {
   "cell_type": "code",
   "execution_count": 45,
   "metadata": {
    "scrolled": true
   },
   "outputs": [
    {
     "data": {
      "text/html": [
       "<div>\n",
       "<style scoped>\n",
       "    .dataframe tbody tr th:only-of-type {\n",
       "        vertical-align: middle;\n",
       "    }\n",
       "\n",
       "    .dataframe tbody tr th {\n",
       "        vertical-align: top;\n",
       "    }\n",
       "\n",
       "    .dataframe thead th {\n",
       "        text-align: right;\n",
       "    }\n",
       "</style>\n",
       "<table border=\"1\" class=\"dataframe\">\n",
       "  <thead>\n",
       "    <tr style=\"text-align: right;\">\n",
       "      <th></th>\n",
       "      <th>region_nord</th>\n",
       "      <th>region_centre</th>\n",
       "      <th>region_sud</th>\n",
       "      <th>Month Value</th>\n",
       "      <th>Year Value</th>\n",
       "      <th>Rayonnement solaire global (W/m2)</th>\n",
       "      <th>Production solaire (GWh)</th>\n",
       "    </tr>\n",
       "  </thead>\n",
       "  <tbody>\n",
       "    <tr>\n",
       "      <th>0</th>\n",
       "      <td>0.478547</td>\n",
       "      <td>-0.283790</td>\n",
       "      <td>-0.320530</td>\n",
       "      <td>-1.204950</td>\n",
       "      <td>-1.545362</td>\n",
       "      <td>0.262034</td>\n",
       "      <td>-0.441509</td>\n",
       "    </tr>\n",
       "    <tr>\n",
       "      <th>1</th>\n",
       "      <td>0.478547</td>\n",
       "      <td>-0.283790</td>\n",
       "      <td>-0.320530</td>\n",
       "      <td>-1.204950</td>\n",
       "      <td>-1.545362</td>\n",
       "      <td>1.672103</td>\n",
       "      <td>-0.601185</td>\n",
       "    </tr>\n",
       "    <tr>\n",
       "      <th>2</th>\n",
       "      <td>0.478547</td>\n",
       "      <td>-0.283790</td>\n",
       "      <td>-0.320530</td>\n",
       "      <td>-0.927415</td>\n",
       "      <td>-1.545362</td>\n",
       "      <td>0.902621</td>\n",
       "      <td>-0.515543</td>\n",
       "    </tr>\n",
       "    <tr>\n",
       "      <th>3</th>\n",
       "      <td>0.478547</td>\n",
       "      <td>-0.283790</td>\n",
       "      <td>-0.320530</td>\n",
       "      <td>-0.927415</td>\n",
       "      <td>-1.545362</td>\n",
       "      <td>1.858247</td>\n",
       "      <td>-0.532691</td>\n",
       "    </tr>\n",
       "    <tr>\n",
       "      <th>4</th>\n",
       "      <td>0.478547</td>\n",
       "      <td>-0.283790</td>\n",
       "      <td>-0.320530</td>\n",
       "      <td>-0.649880</td>\n",
       "      <td>-1.545362</td>\n",
       "      <td>-0.075255</td>\n",
       "      <td>-0.306774</td>\n",
       "    </tr>\n",
       "    <tr>\n",
       "      <th>...</th>\n",
       "      <td>...</td>\n",
       "      <td>...</td>\n",
       "      <td>...</td>\n",
       "      <td>...</td>\n",
       "      <td>...</td>\n",
       "      <td>...</td>\n",
       "      <td>...</td>\n",
       "    </tr>\n",
       "    <tr>\n",
       "      <th>156</th>\n",
       "      <td>-2.089657</td>\n",
       "      <td>-0.283790</td>\n",
       "      <td>3.119829</td>\n",
       "      <td>-0.649880</td>\n",
       "      <td>1.250181</td>\n",
       "      <td>0.011809</td>\n",
       "      <td>5.251052</td>\n",
       "    </tr>\n",
       "    <tr>\n",
       "      <th>157</th>\n",
       "      <td>-2.089657</td>\n",
       "      <td>-0.283790</td>\n",
       "      <td>3.119829</td>\n",
       "      <td>-0.649880</td>\n",
       "      <td>1.250181</td>\n",
       "      <td>0.752383</td>\n",
       "      <td>5.219169</td>\n",
       "    </tr>\n",
       "    <tr>\n",
       "      <th>158</th>\n",
       "      <td>-2.089657</td>\n",
       "      <td>3.523729</td>\n",
       "      <td>-0.320530</td>\n",
       "      <td>-0.649880</td>\n",
       "      <td>1.250181</td>\n",
       "      <td>1.082421</td>\n",
       "      <td>0.146894</td>\n",
       "    </tr>\n",
       "    <tr>\n",
       "      <th>159</th>\n",
       "      <td>-2.089657</td>\n",
       "      <td>-0.283790</td>\n",
       "      <td>3.119829</td>\n",
       "      <td>-0.649880</td>\n",
       "      <td>1.250181</td>\n",
       "      <td>0.188903</td>\n",
       "      <td>4.188833</td>\n",
       "    </tr>\n",
       "    <tr>\n",
       "      <th>160</th>\n",
       "      <td>-2.089657</td>\n",
       "      <td>-0.283790</td>\n",
       "      <td>-0.320530</td>\n",
       "      <td>-0.649880</td>\n",
       "      <td>1.250181</td>\n",
       "      <td>0.438444</td>\n",
       "      <td>0.155172</td>\n",
       "    </tr>\n",
       "  </tbody>\n",
       "</table>\n",
       "<p>161 rows × 7 columns</p>\n",
       "</div>"
      ],
      "text/plain": [
       "     region_nord  region_centre  region_sud  Month Value  Year Value  \\\n",
       "0       0.478547      -0.283790   -0.320530    -1.204950   -1.545362   \n",
       "1       0.478547      -0.283790   -0.320530    -1.204950   -1.545362   \n",
       "2       0.478547      -0.283790   -0.320530    -0.927415   -1.545362   \n",
       "3       0.478547      -0.283790   -0.320530    -0.927415   -1.545362   \n",
       "4       0.478547      -0.283790   -0.320530    -0.649880   -1.545362   \n",
       "..           ...            ...         ...          ...         ...   \n",
       "156    -2.089657      -0.283790    3.119829    -0.649880    1.250181   \n",
       "157    -2.089657      -0.283790    3.119829    -0.649880    1.250181   \n",
       "158    -2.089657       3.523729   -0.320530    -0.649880    1.250181   \n",
       "159    -2.089657      -0.283790    3.119829    -0.649880    1.250181   \n",
       "160    -2.089657      -0.283790   -0.320530    -0.649880    1.250181   \n",
       "\n",
       "     Rayonnement solaire global (W/m2)  Production solaire (GWh)  \n",
       "0                             0.262034                 -0.441509  \n",
       "1                             1.672103                 -0.601185  \n",
       "2                             0.902621                 -0.515543  \n",
       "3                             1.858247                 -0.532691  \n",
       "4                            -0.075255                 -0.306774  \n",
       "..                                 ...                       ...  \n",
       "156                           0.011809                  5.251052  \n",
       "157                           0.752383                  5.219169  \n",
       "158                           1.082421                  0.146894  \n",
       "159                           0.188903                  4.188833  \n",
       "160                           0.438444                  0.155172  \n",
       "\n",
       "[161 rows x 7 columns]"
      ]
     },
     "execution_count": 45,
     "metadata": {},
     "output_type": "execute_result"
    }
   ],
   "source": [
    "scaled_inputs[:161][:]"
   ]
  },
  {
   "cell_type": "code",
   "execution_count": 46,
   "metadata": {},
   "outputs": [
    {
     "data": {
      "text/plain": [
       "(161, 7)"
      ]
     },
     "execution_count": 46,
     "metadata": {},
     "output_type": "execute_result"
    }
   ],
   "source": [
    "scaled_inputs[:161][:].shape"
   ]
  },
  {
   "cell_type": "markdown",
   "metadata": {},
   "source": [
    "# Split the data into train & test and shuffle"
   ]
  },
  {
   "cell_type": "markdown",
   "metadata": {},
   "source": [
    "## Import the relevant module "
   ]
  },
  {
   "cell_type": "code",
   "execution_count": 47,
   "metadata": {},
   "outputs": [],
   "source": [
    "from sklearn.model_selection import train_test_split"
   ]
  },
  {
   "cell_type": "markdown",
   "metadata": {},
   "source": [
    "## Split"
   ]
  },
  {
   "cell_type": "code",
   "execution_count": 48,
   "metadata": {},
   "outputs": [
    {
     "data": {
      "text/plain": [
       "[     region_nord  region_centre  region_sud  Month Value  Year Value  \\\n",
       " 20      0.478547      -0.283790   -0.320530     1.570400   -1.545362   \n",
       " 64      0.478547      -0.283790   -0.320530     1.015330   -0.427145   \n",
       " 62      0.478547      -0.283790   -0.320530     0.737795   -0.427145   \n",
       " 32      0.478547      -0.283790   -0.320530    -0.094810   -0.986254   \n",
       " 131    -2.089657      -0.283790    3.119829    -1.204950    1.250181   \n",
       " ..           ...            ...         ...          ...         ...   \n",
       " 117     0.478547      -0.283790   -0.320530     1.570400    0.691072   \n",
       " 125     0.478547      -0.283790   -0.320530    -1.204950    1.250181   \n",
       " 137    -2.089657       3.523729   -0.320530    -0.927415    1.250181   \n",
       " 12      0.478547      -0.283790   -0.320530     0.460260   -1.545362   \n",
       " 116     0.478547      -0.283790   -0.320530     1.570400    0.691072   \n",
       " \n",
       "      Rayonnement solaire global (W/m2)  Production solaire (GWh)  \n",
       " 20                           -0.588733                 -0.475336  \n",
       " 64                           -1.156775                 -0.256488  \n",
       " 62                           -1.246322                 -0.175458  \n",
       " 32                           -1.434673                 -0.251795  \n",
       " 131                           0.720086                  2.320386  \n",
       " ..                                 ...                       ...  \n",
       " 117                           0.279931                 -0.246620  \n",
       " 125                           0.201352                 -0.181480  \n",
       " 137                           2.498775                 -0.198655  \n",
       " 12                           -1.835762                 -0.246700  \n",
       " 116                          -0.600908                 -0.253035  \n",
       " \n",
       " [120 rows x 7 columns],\n",
       "      region_nord  region_centre  region_sud  Month Value  Year Value  \\\n",
       " 21      0.478547      -0.283790   -0.320530     1.570400   -1.545362   \n",
       " 59      0.478547      -0.283790   -0.320530     0.182725   -0.427145   \n",
       " 101     0.478547      -0.283790   -0.320530    -0.649880    0.691072   \n",
       " 90      0.478547      -0.283790   -0.320530     1.292865    0.131964   \n",
       " 136    -2.089657       3.523729   -0.320530    -0.927415    1.250181   \n",
       " 82      0.478547      -0.283790   -0.320530     0.182725    0.131964   \n",
       " 154     0.478547      -0.283790   -0.320530    -0.649880    1.250181   \n",
       " 46      0.478547      -0.283790   -0.320530     1.847935   -0.986254   \n",
       " 159    -2.089657      -0.283790    3.119829    -0.649880    1.250181   \n",
       " 55      0.478547      -0.283790   -0.320530    -0.372345   -0.427145   \n",
       " 19      0.478547      -0.283790   -0.320530     1.292865   -1.545362   \n",
       " 42      0.478547      -0.283790   -0.320530     1.292865   -0.986254   \n",
       " 56      0.478547      -0.283790   -0.320530    -0.094810   -0.427145   \n",
       " 14      0.478547      -0.283790   -0.320530     0.737795   -1.545362   \n",
       " 133    -2.089657      -0.283790    3.119829    -1.204950    1.250181   \n",
       " 110     0.478547      -0.283790   -0.320530     0.737795    0.691072   \n",
       " 115     0.478547      -0.283790   -0.320530     1.292865    0.691072   \n",
       " 11      0.478547      -0.283790   -0.320530     0.182725   -1.545362   \n",
       " 99      0.478547      -0.283790   -0.320530    -0.927415    0.691072   \n",
       " 98      0.478547      -0.283790   -0.320530    -0.927415    0.691072   \n",
       " 23      0.478547      -0.283790   -0.320530     1.847935   -1.545362   \n",
       " 35      0.478547      -0.283790   -0.320530     0.182725   -0.986254   \n",
       " 1       0.478547      -0.283790   -0.320530    -1.204950   -1.545362   \n",
       " 28      0.478547      -0.283790   -0.320530    -0.649880   -0.986254   \n",
       " 87      0.478547      -0.283790   -0.320530     0.737795    0.131964   \n",
       " 8       0.478547      -0.283790   -0.320530    -0.094810   -1.545362   \n",
       " 66      0.478547      -0.283790   -0.320530     1.292865   -0.427145   \n",
       " 139    -2.089657      -0.283790    3.119829    -0.927415    1.250181   \n",
       " 80      0.478547      -0.283790   -0.320530    -0.094810    0.131964   \n",
       " 157    -2.089657      -0.283790    3.119829    -0.649880    1.250181   \n",
       " 51      0.478547      -0.283790   -0.320530    -0.927415   -0.427145   \n",
       " 38      0.478547      -0.283790   -0.320530     0.737795   -0.986254   \n",
       " 153     0.478547      -0.283790   -0.320530    -0.649880    1.250181   \n",
       " 22      0.478547      -0.283790   -0.320530     1.847935   -1.545362   \n",
       " 121    -2.089657       3.523729   -0.320530    -1.204950    1.250181   \n",
       " 92      0.478547      -0.283790   -0.320530     1.570400    0.131964   \n",
       " 77      0.478547      -0.283790   -0.320530    -0.649880    0.131964   \n",
       " 54      0.478547      -0.283790   -0.320530    -0.372345   -0.427145   \n",
       " 74      0.478547      -0.283790   -0.320530    -0.927415    0.131964   \n",
       " 143    -2.089657      -0.283790    3.119829    -0.927415    1.250181   \n",
       " 40      0.478547      -0.283790   -0.320530     1.015330   -0.986254   \n",
       " \n",
       "      Rayonnement solaire global (W/m2)  Production solaire (GWh)  \n",
       " 21                            0.536181                 -0.520439  \n",
       " 59                           -0.793867                 -0.193575  \n",
       " 101                           1.198460                 -0.348763  \n",
       " 90                            0.337855                 -0.212663  \n",
       " 136                          -0.132834                 -0.134680  \n",
       " 82                           -0.906395                 -0.098381  \n",
       " 154                           0.607488                 -0.190492  \n",
       " 46                            0.724923                 -0.552745  \n",
       " 159                           0.188903                  4.188833  \n",
       " 55                           -0.085022                 -0.267573  \n",
       " 19                           -0.644989                 -0.342075  \n",
       " 42                           -0.799881                 -0.337601  \n",
       " 56                           -1.148064                 -0.181886  \n",
       " 14                           -1.746664                 -0.249553  \n",
       " 133                           1.096930                  2.269015  \n",
       " 110                          -1.406466                 -0.104465  \n",
       " 115                           1.265162                 -0.399798  \n",
       " 11                           -0.784006                 -0.273835  \n",
       " 99                            2.722064                 -0.489069  \n",
       " 98                            2.233807                 -0.479044  \n",
       " 23                           -0.758432                 -0.544048  \n",
       " 35                           -0.502366                 -0.258130  \n",
       " 1                             1.672103                 -0.601185  \n",
       " 28                           -0.414469                 -0.303697  \n",
       " 87                           -0.626975                 -0.085541  \n",
       " 8                            -1.171629                 -0.258892  \n",
       " 66                           -0.599484                 -0.294425  \n",
       " 139                          -0.010759                  3.084398  \n",
       " 80                           -0.433489                 -0.118421  \n",
       " 157                           0.752383                  5.219169  \n",
       " 51                            0.883658                 -0.489707  \n",
       " 38                           -1.685707                 -0.254161  \n",
       " 153                          -0.157235                 -0.182111  \n",
       " 22                           -1.565902                 -0.542214  \n",
       " 121                          -0.019871                 -0.313872  \n",
       " 92                            0.116086                 -0.302173  \n",
       " 77                            1.683358                 -0.394558  \n",
       " 54                           -0.491634                 -0.255900  \n",
       " 74                            0.018565                 -0.212579  \n",
       " 143                           0.389714                  2.973353  \n",
       " 40                           -1.124844                 -0.329125  ,\n",
       " array([0, 1, 1, 1, 1, 0, 0, 1, 1, 1, 1, 0, 0, 0, 0, 1, 1, 1, 1, 0, 0, 0,\n",
       "        0, 1, 1, 0, 0, 0, 1, 0, 1, 0, 1, 1, 1, 1, 0, 0, 1, 0, 1, 0, 0, 0,\n",
       "        1, 0, 1, 0, 0, 1, 0, 0, 1, 1, 0, 1, 1, 0, 1, 0, 1, 1, 0, 1, 1, 1,\n",
       "        0, 1, 0, 1, 1, 1, 0, 1, 0, 0, 0, 1, 0, 1, 0, 0, 0, 0, 0, 0, 1, 0,\n",
       "        0, 0, 0, 0, 0, 1, 0, 1, 1, 1, 0, 0, 1, 1, 1, 0, 1, 1, 0, 1, 0, 0,\n",
       "        0, 0, 1, 1, 0, 1, 1, 1, 1, 1]),\n",
       " array([0, 1, 0, 1, 1, 1, 1, 0, 1, 0, 0, 0, 1, 1, 1, 1, 0, 0, 0, 0, 0, 1,\n",
       "        0, 0, 1, 0, 0, 1, 1, 1, 0, 1, 1, 0, 0, 0, 0, 1, 1, 1, 0])]"
      ]
     },
     "execution_count": 48,
     "metadata": {},
     "output_type": "execute_result"
    }
   ],
   "source": [
    "train_test_split(scaled_inputs[:161][:], targets)"
   ]
  },
  {
   "cell_type": "code",
   "execution_count": 49,
   "metadata": {},
   "outputs": [],
   "source": [
    "x_train, x_test, y_train, y_test = train_test_split(scaled_inputs[:161][:], targets, train_size = 0.8, random_state = 20)"
   ]
  },
  {
   "cell_type": "code",
   "execution_count": 50,
   "metadata": {},
   "outputs": [
    {
     "name": "stdout",
     "output_type": "stream",
     "text": [
      "(128, 7) (128,)\n"
     ]
    }
   ],
   "source": [
    "print(x_train.shape, y_train.shape)"
   ]
  },
  {
   "cell_type": "code",
   "execution_count": 51,
   "metadata": {},
   "outputs": [
    {
     "name": "stdout",
     "output_type": "stream",
     "text": [
      "(33, 7) (33,)\n"
     ]
    }
   ],
   "source": [
    "print(x_test.shape, y_test.shape)"
   ]
  },
  {
   "cell_type": "markdown",
   "metadata": {},
   "source": [
    "# Logisitc regression with sklearn"
   ]
  },
  {
   "cell_type": "code",
   "execution_count": 52,
   "metadata": {},
   "outputs": [],
   "source": [
    "from sklearn.linear_model import LogisticRegression\n",
    "from sklearn import metrics"
   ]
  },
  {
   "cell_type": "markdown",
   "metadata": {},
   "source": [
    "# Training the model"
   ]
  },
  {
   "cell_type": "code",
   "execution_count": 53,
   "metadata": {},
   "outputs": [],
   "source": [
    "reg = LogisticRegression()"
   ]
  },
  {
   "cell_type": "code",
   "execution_count": 54,
   "metadata": {},
   "outputs": [
    {
     "data": {
      "text/plain": [
       "LogisticRegression(C=1.0, class_weight=None, dual=False, fit_intercept=True,\n",
       "                   intercept_scaling=1, l1_ratio=None, max_iter=100,\n",
       "                   multi_class='auto', n_jobs=None, penalty='l2',\n",
       "                   random_state=None, solver='lbfgs', tol=0.0001, verbose=0,\n",
       "                   warm_start=False)"
      ]
     },
     "execution_count": 54,
     "metadata": {},
     "output_type": "execute_result"
    }
   ],
   "source": [
    "reg.fit(x_train, y_train)"
   ]
  },
  {
   "cell_type": "code",
   "execution_count": 55,
   "metadata": {},
   "outputs": [
    {
     "data": {
      "text/plain": [
       "0.9140625"
      ]
     },
     "execution_count": 55,
     "metadata": {},
     "output_type": "execute_result"
    }
   ],
   "source": [
    "reg.score(x_train, y_train)"
   ]
  },
  {
   "cell_type": "markdown",
   "metadata": {},
   "source": [
    "### Manually check accuracy"
   ]
  },
  {
   "cell_type": "code",
   "execution_count": 56,
   "metadata": {},
   "outputs": [
    {
     "data": {
      "text/plain": [
       "array([0, 0, 1, 1, 1, 0, 1, 0, 0, 1, 0, 0, 1, 0, 0, 0, 0, 0, 1, 0, 0, 0,\n",
       "       0, 0, 0, 0, 0, 0, 1, 1, 1, 0, 1, 0, 1, 0, 0, 1, 0, 1, 0, 1, 1, 0,\n",
       "       1, 1, 0, 1, 0, 0, 0, 1, 0, 1, 1, 1, 0, 1, 0, 1, 0, 1, 1, 1, 0, 1,\n",
       "       1, 0, 1, 0, 0, 1, 1, 0, 0, 0, 1, 1, 0, 0, 1, 0, 0, 0, 0, 1, 1, 0,\n",
       "       0, 0, 1, 1, 1, 1, 0, 1, 1, 0, 0, 0, 0, 1, 0, 1, 1, 1, 1, 1, 0, 0,\n",
       "       1, 0, 0, 0, 1, 1, 0, 0, 0, 1, 0, 0, 0, 1, 0, 1, 0, 0])"
      ]
     },
     "execution_count": 56,
     "metadata": {},
     "output_type": "execute_result"
    }
   ],
   "source": [
    "model_outputs = reg.predict(x_train)\n",
    "model_outputs"
   ]
  },
  {
   "cell_type": "code",
   "execution_count": 57,
   "metadata": {},
   "outputs": [
    {
     "data": {
      "text/plain": [
       "array([0, 0, 1, 1, 1, 0, 1, 0, 0, 1, 0, 0, 1, 0, 0, 0, 0, 0, 0, 0, 0, 0,\n",
       "       0, 0, 1, 0, 0, 0, 1, 1, 1, 0, 1, 0, 1, 0, 1, 1, 1, 1, 0, 1, 1, 0,\n",
       "       1, 1, 0, 1, 0, 0, 1, 1, 0, 1, 1, 1, 0, 1, 0, 1, 1, 1, 1, 1, 0, 1,\n",
       "       1, 0, 1, 0, 0, 1, 1, 0, 0, 0, 1, 1, 0, 0, 1, 0, 0, 0, 0, 1, 1, 0,\n",
       "       0, 0, 1, 1, 1, 1, 1, 1, 0, 0, 0, 0, 0, 1, 0, 1, 1, 1, 1, 1, 0, 0,\n",
       "       1, 0, 0, 0, 1, 1, 0, 0, 0, 0, 0, 0, 0, 1, 1, 1, 1, 0])"
      ]
     },
     "execution_count": 57,
     "metadata": {},
     "output_type": "execute_result"
    }
   ],
   "source": [
    "y_train"
   ]
  },
  {
   "cell_type": "code",
   "execution_count": 58,
   "metadata": {},
   "outputs": [
    {
     "data": {
      "text/plain": [
       "array([ True,  True,  True,  True,  True,  True,  True,  True,  True,\n",
       "        True,  True,  True,  True,  True,  True,  True,  True,  True,\n",
       "       False,  True,  True,  True,  True,  True, False,  True,  True,\n",
       "        True,  True,  True,  True,  True,  True,  True,  True,  True,\n",
       "       False,  True, False,  True,  True,  True,  True,  True,  True,\n",
       "        True,  True,  True,  True,  True, False,  True,  True,  True,\n",
       "        True,  True,  True,  True,  True,  True, False,  True,  True,\n",
       "        True,  True,  True,  True,  True,  True,  True,  True,  True,\n",
       "        True,  True,  True,  True,  True,  True,  True,  True,  True,\n",
       "        True,  True,  True,  True,  True,  True,  True,  True,  True,\n",
       "        True,  True,  True,  True, False,  True, False,  True,  True,\n",
       "        True,  True,  True,  True,  True,  True,  True,  True,  True,\n",
       "        True,  True,  True,  True,  True,  True,  True,  True,  True,\n",
       "        True,  True, False,  True,  True,  True,  True, False,  True,\n",
       "       False,  True])"
      ]
     },
     "execution_count": 58,
     "metadata": {},
     "output_type": "execute_result"
    }
   ],
   "source": [
    "model_outputs == y_train"
   ]
  },
  {
   "cell_type": "code",
   "execution_count": 59,
   "metadata": {},
   "outputs": [
    {
     "data": {
      "text/plain": [
       "117"
      ]
     },
     "execution_count": 59,
     "metadata": {},
     "output_type": "execute_result"
    }
   ],
   "source": [
    "np.sum(model_outputs==y_train)"
   ]
  },
  {
   "cell_type": "code",
   "execution_count": 60,
   "metadata": {},
   "outputs": [
    {
     "data": {
      "text/plain": [
       "128"
      ]
     },
     "execution_count": 60,
     "metadata": {},
     "output_type": "execute_result"
    }
   ],
   "source": [
    "model_outputs.shape[0]"
   ]
  },
  {
   "cell_type": "code",
   "execution_count": 61,
   "metadata": {},
   "outputs": [
    {
     "data": {
      "text/plain": [
       "0.9140625"
      ]
     },
     "execution_count": 61,
     "metadata": {},
     "output_type": "execute_result"
    }
   ],
   "source": [
    "np.sum(model_outputs==y_train)/model_outputs.shape[0]"
   ]
  },
  {
   "cell_type": "markdown",
   "metadata": {},
   "source": [
    "### Finding the intercept and coefficients"
   ]
  },
  {
   "cell_type": "code",
   "execution_count": 62,
   "metadata": {},
   "outputs": [
    {
     "data": {
      "text/plain": [
       "array([0.11835126])"
      ]
     },
     "execution_count": 62,
     "metadata": {},
     "output_type": "execute_result"
    }
   ],
   "source": [
    "reg.intercept_"
   ]
  },
  {
   "cell_type": "code",
   "execution_count": 63,
   "metadata": {},
   "outputs": [
    {
     "data": {
      "text/plain": [
       "array([[ 0.56942464,  0.88654267,  0.14576746,  0.15917285,  2.0297981 ,\n",
       "        -2.08159284,  2.03285389]])"
      ]
     },
     "execution_count": 63,
     "metadata": {},
     "output_type": "execute_result"
    }
   ],
   "source": [
    "reg.coef_"
   ]
  },
  {
   "cell_type": "code",
   "execution_count": 64,
   "metadata": {},
   "outputs": [
    {
     "data": {
      "text/plain": [
       "array(['region_nord', 'region_centre', 'region_sud', 'Month Value',\n",
       "       'Year Value', 'Rayonnement solaire global (W/m2)',\n",
       "       'Production solaire (GWh)'], dtype=object)"
      ]
     },
     "execution_count": 64,
     "metadata": {},
     "output_type": "execute_result"
    }
   ],
   "source": [
    "unscaled_inputs.columns.values"
   ]
  },
  {
   "cell_type": "code",
   "execution_count": 65,
   "metadata": {},
   "outputs": [],
   "source": [
    "feature_name = unscaled_inputs.columns.values"
   ]
  },
  {
   "cell_type": "code",
   "execution_count": 66,
   "metadata": {
    "scrolled": true
   },
   "outputs": [
    {
     "data": {
      "text/html": [
       "<div>\n",
       "<style scoped>\n",
       "    .dataframe tbody tr th:only-of-type {\n",
       "        vertical-align: middle;\n",
       "    }\n",
       "\n",
       "    .dataframe tbody tr th {\n",
       "        vertical-align: top;\n",
       "    }\n",
       "\n",
       "    .dataframe thead th {\n",
       "        text-align: right;\n",
       "    }\n",
       "</style>\n",
       "<table border=\"1\" class=\"dataframe\">\n",
       "  <thead>\n",
       "    <tr style=\"text-align: right;\">\n",
       "      <th></th>\n",
       "      <th>feature_name</th>\n",
       "      <th>Coefficient</th>\n",
       "    </tr>\n",
       "  </thead>\n",
       "  <tbody>\n",
       "    <tr>\n",
       "      <th>0</th>\n",
       "      <td>region_nord</td>\n",
       "      <td>0.569425</td>\n",
       "    </tr>\n",
       "    <tr>\n",
       "      <th>1</th>\n",
       "      <td>region_centre</td>\n",
       "      <td>0.886543</td>\n",
       "    </tr>\n",
       "    <tr>\n",
       "      <th>2</th>\n",
       "      <td>region_sud</td>\n",
       "      <td>0.145767</td>\n",
       "    </tr>\n",
       "    <tr>\n",
       "      <th>3</th>\n",
       "      <td>Month Value</td>\n",
       "      <td>0.159173</td>\n",
       "    </tr>\n",
       "    <tr>\n",
       "      <th>4</th>\n",
       "      <td>Year Value</td>\n",
       "      <td>2.029798</td>\n",
       "    </tr>\n",
       "    <tr>\n",
       "      <th>5</th>\n",
       "      <td>Rayonnement solaire global (W/m2)</td>\n",
       "      <td>-2.081593</td>\n",
       "    </tr>\n",
       "    <tr>\n",
       "      <th>6</th>\n",
       "      <td>Production solaire (GWh)</td>\n",
       "      <td>2.032854</td>\n",
       "    </tr>\n",
       "  </tbody>\n",
       "</table>\n",
       "</div>"
      ],
      "text/plain": [
       "                        feature_name  Coefficient\n",
       "0                        region_nord     0.569425\n",
       "1                      region_centre     0.886543\n",
       "2                         region_sud     0.145767\n",
       "3                        Month Value     0.159173\n",
       "4                         Year Value     2.029798\n",
       "5  Rayonnement solaire global (W/m2)    -2.081593\n",
       "6           Production solaire (GWh)     2.032854"
      ]
     },
     "execution_count": 66,
     "metadata": {},
     "output_type": "execute_result"
    }
   ],
   "source": [
    "summary_table = pd.DataFrame (columns=['feature_name'], data = feature_name)\n",
    "summary_table['Coefficient'] = np.transpose(reg.coef_)\n",
    "summary_table"
   ]
  },
  {
   "cell_type": "code",
   "execution_count": 67,
   "metadata": {},
   "outputs": [],
   "source": [
    "summary_table.index = summary_table.index+1"
   ]
  },
  {
   "cell_type": "code",
   "execution_count": 68,
   "metadata": {
    "scrolled": true
   },
   "outputs": [
    {
     "data": {
      "text/html": [
       "<div>\n",
       "<style scoped>\n",
       "    .dataframe tbody tr th:only-of-type {\n",
       "        vertical-align: middle;\n",
       "    }\n",
       "\n",
       "    .dataframe tbody tr th {\n",
       "        vertical-align: top;\n",
       "    }\n",
       "\n",
       "    .dataframe thead th {\n",
       "        text-align: right;\n",
       "    }\n",
       "</style>\n",
       "<table border=\"1\" class=\"dataframe\">\n",
       "  <thead>\n",
       "    <tr style=\"text-align: right;\">\n",
       "      <th></th>\n",
       "      <th>feature_name</th>\n",
       "      <th>Coefficient</th>\n",
       "    </tr>\n",
       "  </thead>\n",
       "  <tbody>\n",
       "    <tr>\n",
       "      <th>0</th>\n",
       "      <td>Intercept</td>\n",
       "      <td>0.118351</td>\n",
       "    </tr>\n",
       "    <tr>\n",
       "      <th>1</th>\n",
       "      <td>region_nord</td>\n",
       "      <td>0.569425</td>\n",
       "    </tr>\n",
       "    <tr>\n",
       "      <th>2</th>\n",
       "      <td>region_centre</td>\n",
       "      <td>0.886543</td>\n",
       "    </tr>\n",
       "    <tr>\n",
       "      <th>3</th>\n",
       "      <td>region_sud</td>\n",
       "      <td>0.145767</td>\n",
       "    </tr>\n",
       "    <tr>\n",
       "      <th>4</th>\n",
       "      <td>Month Value</td>\n",
       "      <td>0.159173</td>\n",
       "    </tr>\n",
       "    <tr>\n",
       "      <th>5</th>\n",
       "      <td>Year Value</td>\n",
       "      <td>2.029798</td>\n",
       "    </tr>\n",
       "    <tr>\n",
       "      <th>6</th>\n",
       "      <td>Rayonnement solaire global (W/m2)</td>\n",
       "      <td>-2.081593</td>\n",
       "    </tr>\n",
       "    <tr>\n",
       "      <th>7</th>\n",
       "      <td>Production solaire (GWh)</td>\n",
       "      <td>2.032854</td>\n",
       "    </tr>\n",
       "  </tbody>\n",
       "</table>\n",
       "</div>"
      ],
      "text/plain": [
       "                        feature_name  Coefficient\n",
       "0                          Intercept     0.118351\n",
       "1                        region_nord     0.569425\n",
       "2                      region_centre     0.886543\n",
       "3                         region_sud     0.145767\n",
       "4                        Month Value     0.159173\n",
       "5                         Year Value     2.029798\n",
       "6  Rayonnement solaire global (W/m2)    -2.081593\n",
       "7           Production solaire (GWh)     2.032854"
      ]
     },
     "execution_count": 68,
     "metadata": {},
     "output_type": "execute_result"
    }
   ],
   "source": [
    "summary_table.loc[0] = ['Intercept', reg.intercept_[0]]\n",
    "summary_table = summary_table.sort_index()\n",
    "summary_table"
   ]
  },
  {
   "cell_type": "markdown",
   "metadata": {},
   "source": [
    "## Interpreting the coefficient"
   ]
  },
  {
   "cell_type": "code",
   "execution_count": 69,
   "metadata": {},
   "outputs": [],
   "source": [
    "summary_table['Odd_ratio'] = np.exp(summary_table.Coefficient)"
   ]
  },
  {
   "cell_type": "code",
   "execution_count": 70,
   "metadata": {},
   "outputs": [
    {
     "data": {
      "text/html": [
       "<div>\n",
       "<style scoped>\n",
       "    .dataframe tbody tr th:only-of-type {\n",
       "        vertical-align: middle;\n",
       "    }\n",
       "\n",
       "    .dataframe tbody tr th {\n",
       "        vertical-align: top;\n",
       "    }\n",
       "\n",
       "    .dataframe thead th {\n",
       "        text-align: right;\n",
       "    }\n",
       "</style>\n",
       "<table border=\"1\" class=\"dataframe\">\n",
       "  <thead>\n",
       "    <tr style=\"text-align: right;\">\n",
       "      <th></th>\n",
       "      <th>feature_name</th>\n",
       "      <th>Coefficient</th>\n",
       "      <th>Odd_ratio</th>\n",
       "    </tr>\n",
       "  </thead>\n",
       "  <tbody>\n",
       "    <tr>\n",
       "      <th>0</th>\n",
       "      <td>Intercept</td>\n",
       "      <td>0.118351</td>\n",
       "      <td>1.125639</td>\n",
       "    </tr>\n",
       "    <tr>\n",
       "      <th>1</th>\n",
       "      <td>region_nord</td>\n",
       "      <td>0.569425</td>\n",
       "      <td>1.767250</td>\n",
       "    </tr>\n",
       "    <tr>\n",
       "      <th>2</th>\n",
       "      <td>region_centre</td>\n",
       "      <td>0.886543</td>\n",
       "      <td>2.426725</td>\n",
       "    </tr>\n",
       "    <tr>\n",
       "      <th>3</th>\n",
       "      <td>region_sud</td>\n",
       "      <td>0.145767</td>\n",
       "      <td>1.156927</td>\n",
       "    </tr>\n",
       "    <tr>\n",
       "      <th>4</th>\n",
       "      <td>Month Value</td>\n",
       "      <td>0.159173</td>\n",
       "      <td>1.172541</td>\n",
       "    </tr>\n",
       "    <tr>\n",
       "      <th>5</th>\n",
       "      <td>Year Value</td>\n",
       "      <td>2.029798</td>\n",
       "      <td>7.612549</td>\n",
       "    </tr>\n",
       "    <tr>\n",
       "      <th>6</th>\n",
       "      <td>Rayonnement solaire global (W/m2)</td>\n",
       "      <td>-2.081593</td>\n",
       "      <td>0.124731</td>\n",
       "    </tr>\n",
       "    <tr>\n",
       "      <th>7</th>\n",
       "      <td>Production solaire (GWh)</td>\n",
       "      <td>2.032854</td>\n",
       "      <td>7.635847</td>\n",
       "    </tr>\n",
       "  </tbody>\n",
       "</table>\n",
       "</div>"
      ],
      "text/plain": [
       "                        feature_name  Coefficient  Odd_ratio\n",
       "0                          Intercept     0.118351   1.125639\n",
       "1                        region_nord     0.569425   1.767250\n",
       "2                      region_centre     0.886543   2.426725\n",
       "3                         region_sud     0.145767   1.156927\n",
       "4                        Month Value     0.159173   1.172541\n",
       "5                         Year Value     2.029798   7.612549\n",
       "6  Rayonnement solaire global (W/m2)    -2.081593   0.124731\n",
       "7           Production solaire (GWh)     2.032854   7.635847"
      ]
     },
     "execution_count": 70,
     "metadata": {},
     "output_type": "execute_result"
    }
   ],
   "source": [
    "summary_table"
   ]
  },
  {
   "cell_type": "code",
   "execution_count": 71,
   "metadata": {},
   "outputs": [
    {
     "data": {
      "text/html": [
       "<div>\n",
       "<style scoped>\n",
       "    .dataframe tbody tr th:only-of-type {\n",
       "        vertical-align: middle;\n",
       "    }\n",
       "\n",
       "    .dataframe tbody tr th {\n",
       "        vertical-align: top;\n",
       "    }\n",
       "\n",
       "    .dataframe thead th {\n",
       "        text-align: right;\n",
       "    }\n",
       "</style>\n",
       "<table border=\"1\" class=\"dataframe\">\n",
       "  <thead>\n",
       "    <tr style=\"text-align: right;\">\n",
       "      <th></th>\n",
       "      <th>feature_name</th>\n",
       "      <th>Coefficient</th>\n",
       "      <th>Odd_ratio</th>\n",
       "    </tr>\n",
       "  </thead>\n",
       "  <tbody>\n",
       "    <tr>\n",
       "      <th>7</th>\n",
       "      <td>Production solaire (GWh)</td>\n",
       "      <td>2.032854</td>\n",
       "      <td>7.635847</td>\n",
       "    </tr>\n",
       "    <tr>\n",
       "      <th>5</th>\n",
       "      <td>Year Value</td>\n",
       "      <td>2.029798</td>\n",
       "      <td>7.612549</td>\n",
       "    </tr>\n",
       "    <tr>\n",
       "      <th>2</th>\n",
       "      <td>region_centre</td>\n",
       "      <td>0.886543</td>\n",
       "      <td>2.426725</td>\n",
       "    </tr>\n",
       "    <tr>\n",
       "      <th>1</th>\n",
       "      <td>region_nord</td>\n",
       "      <td>0.569425</td>\n",
       "      <td>1.767250</td>\n",
       "    </tr>\n",
       "    <tr>\n",
       "      <th>4</th>\n",
       "      <td>Month Value</td>\n",
       "      <td>0.159173</td>\n",
       "      <td>1.172541</td>\n",
       "    </tr>\n",
       "    <tr>\n",
       "      <th>3</th>\n",
       "      <td>region_sud</td>\n",
       "      <td>0.145767</td>\n",
       "      <td>1.156927</td>\n",
       "    </tr>\n",
       "    <tr>\n",
       "      <th>0</th>\n",
       "      <td>Intercept</td>\n",
       "      <td>0.118351</td>\n",
       "      <td>1.125639</td>\n",
       "    </tr>\n",
       "    <tr>\n",
       "      <th>6</th>\n",
       "      <td>Rayonnement solaire global (W/m2)</td>\n",
       "      <td>-2.081593</td>\n",
       "      <td>0.124731</td>\n",
       "    </tr>\n",
       "  </tbody>\n",
       "</table>\n",
       "</div>"
      ],
      "text/plain": [
       "                        feature_name  Coefficient  Odd_ratio\n",
       "7           Production solaire (GWh)     2.032854   7.635847\n",
       "5                         Year Value     2.029798   7.612549\n",
       "2                      region_centre     0.886543   2.426725\n",
       "1                        region_nord     0.569425   1.767250\n",
       "4                        Month Value     0.159173   1.172541\n",
       "3                         region_sud     0.145767   1.156927\n",
       "0                          Intercept     0.118351   1.125639\n",
       "6  Rayonnement solaire global (W/m2)    -2.081593   0.124731"
      ]
     },
     "execution_count": 71,
     "metadata": {},
     "output_type": "execute_result"
    }
   ],
   "source": [
    "summary_table.sort_values('Odd_ratio', ascending=False)"
   ]
  },
  {
   "cell_type": "markdown",
   "metadata": {},
   "source": [
    "# Testing the model"
   ]
  },
  {
   "cell_type": "code",
   "execution_count": 72,
   "metadata": {},
   "outputs": [
    {
     "data": {
      "text/plain": [
       "0.7878787878787878"
      ]
     },
     "execution_count": 72,
     "metadata": {},
     "output_type": "execute_result"
    }
   ],
   "source": [
    "reg.score(x_test, y_test)"
   ]
  },
  {
   "cell_type": "code",
   "execution_count": 73,
   "metadata": {},
   "outputs": [
    {
     "data": {
      "text/plain": [
       "array([[1.90589293e-03, 9.98094107e-01],\n",
       "       [8.94562180e-01, 1.05437820e-01],\n",
       "       [3.85306007e-01, 6.14693993e-01],\n",
       "       [4.97734230e-02, 9.50226577e-01],\n",
       "       [8.51349377e-01, 1.48650623e-01],\n",
       "       [7.95645468e-01, 2.04354532e-01],\n",
       "       [9.30165084e-01, 6.98349164e-02],\n",
       "       [2.18347003e-01, 7.81652997e-01],\n",
       "       [9.82862419e-01, 1.71375808e-02],\n",
       "       [2.28701131e-02, 9.77129887e-01],\n",
       "       [2.18631659e-01, 7.81368341e-01],\n",
       "       [4.13667219e-01, 5.86332781e-01],\n",
       "       [6.96914977e-02, 9.30308502e-01],\n",
       "       [2.46810102e-05, 9.99975319e-01],\n",
       "       [9.86293082e-01, 1.37069176e-02],\n",
       "       [9.77179744e-01, 2.28202562e-02],\n",
       "       [4.03815949e-04, 9.99596184e-01],\n",
       "       [1.21478501e-02, 9.87852150e-01],\n",
       "       [3.51086622e-03, 9.96489134e-01],\n",
       "       [8.69143173e-01, 1.30856827e-01],\n",
       "       [2.44265860e-01, 7.55734140e-01],\n",
       "       [9.26563481e-01, 7.34365192e-02],\n",
       "       [9.93093500e-01, 6.90650026e-03],\n",
       "       [7.86750131e-01, 2.13249869e-01],\n",
       "       [5.19187801e-01, 4.80812199e-01],\n",
       "       [4.22680608e-01, 5.77319392e-01],\n",
       "       [9.85906735e-01, 1.40932652e-02],\n",
       "       [7.68650562e-01, 2.31349438e-01],\n",
       "       [8.54136881e-01, 1.45863119e-01],\n",
       "       [4.66862818e-01, 5.33137182e-01],\n",
       "       [6.37687319e-01, 3.62312681e-01],\n",
       "       [5.57962091e-01, 4.42037909e-01],\n",
       "       [2.67583700e-01, 7.32416300e-01]])"
      ]
     },
     "execution_count": 73,
     "metadata": {},
     "output_type": "execute_result"
    }
   ],
   "source": [
    "predicted_proba = reg.predict_proba(x_test)\n",
    "predicted_proba"
   ]
  },
  {
   "cell_type": "code",
   "execution_count": 74,
   "metadata": {},
   "outputs": [
    {
     "data": {
      "text/plain": [
       "(33, 2)"
      ]
     },
     "execution_count": 74,
     "metadata": {},
     "output_type": "execute_result"
    }
   ],
   "source": [
    "predicted_proba.shape"
   ]
  },
  {
   "cell_type": "code",
   "execution_count": 75,
   "metadata": {},
   "outputs": [
    {
     "data": {
      "text/plain": [
       "array([0.99809411, 0.10543782, 0.61469399, 0.95022658, 0.14865062,\n",
       "       0.20435453, 0.06983492, 0.781653  , 0.01713758, 0.97712989,\n",
       "       0.78136834, 0.58633278, 0.9303085 , 0.99997532, 0.01370692,\n",
       "       0.02282026, 0.99959618, 0.98785215, 0.99648913, 0.13085683,\n",
       "       0.75573414, 0.07343652, 0.0069065 , 0.21324987, 0.4808122 ,\n",
       "       0.57731939, 0.01409327, 0.23134944, 0.14586312, 0.53313718,\n",
       "       0.36231268, 0.44203791, 0.7324163 ])"
      ]
     },
     "execution_count": 75,
     "metadata": {},
     "output_type": "execute_result"
    }
   ],
   "source": [
    "predicted_proba[:,1]"
   ]
  },
  {
   "cell_type": "markdown",
   "metadata": {},
   "source": [
    "# Saving the model"
   ]
  },
  {
   "cell_type": "code",
   "execution_count": 76,
   "metadata": {},
   "outputs": [],
   "source": [
    "import pickle"
   ]
  },
  {
   "cell_type": "code",
   "execution_count": 77,
   "metadata": {},
   "outputs": [],
   "source": [
    "with open('model','wb') as file:\n",
    "    pickle.dump(reg, file)"
   ]
  },
  {
   "cell_type": "code",
   "execution_count": 78,
   "metadata": {},
   "outputs": [],
   "source": [
    "with open('scaler','wb') as file:\n",
    "    pickle.dump(solar_scaler, file)"
   ]
  },
  {
   "cell_type": "code",
   "execution_count": null,
   "metadata": {},
   "outputs": [],
   "source": []
  }
 ],
 "metadata": {
  "kernelspec": {
   "display_name": "Python 3",
   "language": "python",
   "name": "python3"
  },
  "language_info": {
   "codemirror_mode": {
    "name": "ipython",
    "version": 3
   },
   "file_extension": ".py",
   "mimetype": "text/x-python",
   "name": "python",
   "nbconvert_exporter": "python",
   "pygments_lexer": "ipython3",
   "version": "3.8.5"
  }
 },
 "nbformat": 4,
 "nbformat_minor": 4
}
